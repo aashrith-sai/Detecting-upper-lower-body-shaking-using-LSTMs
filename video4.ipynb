{
  "nbformat": 4,
  "nbformat_minor": 0,
  "metadata": {
    "colab": {
      "name": "video4.ipynb",
      "provenance": [],
      "collapsed_sections": []
    },
    "kernelspec": {
      "name": "python3",
      "display_name": "Python 3"
    }
  },
  "cells": [
    {
      "cell_type": "code",
      "metadata": {
        "id": "YaOrHLt7smcU",
        "colab_type": "code",
        "outputId": "b2c1d553-f1c3-4d61-c51f-554bce967f07",
        "colab": {
          "base_uri": "https://localhost:8080/",
          "height": 81
        }
      },
      "source": [
        "import os\n",
        "import pandas as pd\n",
        "import numpy as np\n",
        "import json\n",
        "from google.colab import files\n",
        "import io\n",
        "from keras import layers\n",
        "from keras import models\n",
        "from keras import applications\n",
        "from keras import optimizers\n",
        "import keras"
      ],
      "execution_count": 0,
      "outputs": [
        {
          "output_type": "stream",
          "text": [
            "Using TensorFlow backend.\n"
          ],
          "name": "stderr"
        },
        {
          "output_type": "display_data",
          "data": {
            "text/html": [
              "<p style=\"color: red;\">\n",
              "The default version of TensorFlow in Colab will soon switch to TensorFlow 2.x.<br>\n",
              "We recommend you <a href=\"https://www.tensorflow.org/guide/migrate\" target=\"_blank\">upgrade</a> now \n",
              "or ensure your notebook will continue to use TensorFlow 1.x via the <code>%tensorflow_version 1.x</code> magic:\n",
              "<a href=\"https://colab.research.google.com/notebooks/tensorflow_version.ipynb\" target=\"_blank\">more info</a>.</p>\n"
            ],
            "text/plain": [
              "<IPython.core.display.HTML object>"
            ]
          },
          "metadata": {
            "tags": []
          }
        }
      ]
    },
    {
      "cell_type": "code",
      "metadata": {
        "id": "oQya-GPot0rx",
        "colab_type": "code",
        "outputId": "d2087e39-2178-46bf-ee24-9bd7f0ae76d9",
        "colab": {
          "base_uri": "https://localhost:8080/",
          "height": 126
        }
      },
      "source": [
        "from google.colab import drive\n",
        "drive.mount('/content/drive')"
      ],
      "execution_count": 0,
      "outputs": [
        {
          "output_type": "stream",
          "text": [
            "Go to this URL in a browser: https://accounts.google.com/o/oauth2/auth?client_id=947318989803-6bn6qk8qdgf4n4g3pfee6491hc0brc4i.apps.googleusercontent.com&redirect_uri=urn%3aietf%3awg%3aoauth%3a2.0%3aoob&response_type=code&scope=email%20https%3a%2f%2fwww.googleapis.com%2fauth%2fdocs.test%20https%3a%2f%2fwww.googleapis.com%2fauth%2fdrive%20https%3a%2f%2fwww.googleapis.com%2fauth%2fdrive.photos.readonly%20https%3a%2f%2fwww.googleapis.com%2fauth%2fpeopleapi.readonly\n",
            "\n",
            "Enter your authorization code:\n",
            "··········\n",
            "Mounted at /content/drive\n"
          ],
          "name": "stdout"
        }
      ]
    },
    {
      "cell_type": "markdown",
      "metadata": {
        "id": "NOg4FSDeO4iI",
        "colab_type": "text"
      },
      "source": [
        "Please change the path to the desired video to be tested.\n"
      ]
    },
    {
      "cell_type": "code",
      "metadata": {
        "id": "1mUe6Fg4s59K",
        "colab_type": "code",
        "outputId": "66788d76-3a73-40d0-e680-2cb2dda7481b",
        "colab": {
          "base_uri": "https://localhost:8080/",
          "height": 35
        }
      },
      "source": [
        "i=1\n",
        "path='/content/drive/My Drive/results data/newdata/15-3-152.json'\n",
        "#path='/content/1'\n",
        "json_files=[pos_json for pos_json in os.listdir(path) if pos_json.endswith('.json')]\n",
        "print('Found: ',len(json_files),'json keypoint frame files')\n",
        "a=json.load(open(path+'/'+json_files[0]))\n",
        "b=a['people']\n",
        "q=b[0]['pose_keypoints_2d']\n",
        "s=[p for p in q if p>1]\n",
        "train=pd.DataFrame([s])\n",
        "for j in range(1,len(json_files)):\n",
        "    a=json.load(open(path+'/'+json_files[j]))\n",
        "    b=a['people']\n",
        "    if len(b)>0:\n",
        "        q=b[0]['pose_keypoints_2d']\n",
        "        s=[p for p in q if p>1]\n",
        "        s=pd.DataFrame([s])\n",
        "        train=train.append(s)\n",
        "    else:\n",
        "        continue"
      ],
      "execution_count": 9,
      "outputs": [
        {
          "output_type": "stream",
          "text": [
            "Found:  1823 json keypoint frame files\n"
          ],
          "name": "stdout"
        }
      ]
    },
    {
      "cell_type": "code",
      "metadata": {
        "id": "j8SDx6iGs-Iq",
        "colab_type": "code",
        "colab": {}
      },
      "source": [
        "train=train.fillna(method='ffill')\n",
        "train=train.fillna(0)\n",
        "y,x=train.shape\n",
        "s=np.zeros(y)\n",
        "s=pd.DataFrame(s)\n",
        "\n",
        "for i in range(50):\n",
        "    y,x=train.shape\n",
        "    if x!=50:\n",
        "        train[x]=s\n",
        "        x=x+1\n",
        "    if y<90:\n",
        "        train=train.append(train.iloc[y-1])\n",
        "\n",
        "for i in range(50):\n",
        "    train.iloc[:,i]=train.iloc[:,i]/train.iloc[:,i].max()"
      ],
      "execution_count": 0,
      "outputs": []
    },
    {
      "cell_type": "code",
      "metadata": {
        "id": "1rW8lFsZtN03",
        "colab_type": "code",
        "colab": {
          "base_uri": "https://localhost:8080/",
          "height": 220
        },
        "outputId": "c0d75826-0f86-45ae-b9e4-1ec553dc1ed7"
      },
      "source": [
        "train=train.fillna(method='ffill')\n",
        "train=train.fillna(0)\n",
        "train.head()"
      ],
      "execution_count": 11,
      "outputs": [
        {
          "output_type": "execute_result",
          "data": {
            "text/html": [
              "<div>\n",
              "<style scoped>\n",
              "    .dataframe tbody tr th:only-of-type {\n",
              "        vertical-align: middle;\n",
              "    }\n",
              "\n",
              "    .dataframe tbody tr th {\n",
              "        vertical-align: top;\n",
              "    }\n",
              "\n",
              "    .dataframe thead th {\n",
              "        text-align: right;\n",
              "    }\n",
              "</style>\n",
              "<table border=\"1\" class=\"dataframe\">\n",
              "  <thead>\n",
              "    <tr style=\"text-align: right;\">\n",
              "      <th></th>\n",
              "      <th>0</th>\n",
              "      <th>1</th>\n",
              "      <th>2</th>\n",
              "      <th>3</th>\n",
              "      <th>4</th>\n",
              "      <th>5</th>\n",
              "      <th>6</th>\n",
              "      <th>7</th>\n",
              "      <th>8</th>\n",
              "      <th>9</th>\n",
              "      <th>10</th>\n",
              "      <th>11</th>\n",
              "      <th>12</th>\n",
              "      <th>13</th>\n",
              "      <th>14</th>\n",
              "      <th>15</th>\n",
              "      <th>16</th>\n",
              "      <th>17</th>\n",
              "      <th>18</th>\n",
              "      <th>19</th>\n",
              "      <th>20</th>\n",
              "      <th>21</th>\n",
              "      <th>22</th>\n",
              "      <th>23</th>\n",
              "      <th>24</th>\n",
              "      <th>25</th>\n",
              "      <th>26</th>\n",
              "      <th>27</th>\n",
              "      <th>28</th>\n",
              "      <th>29</th>\n",
              "      <th>30</th>\n",
              "      <th>31</th>\n",
              "      <th>32</th>\n",
              "      <th>33</th>\n",
              "      <th>34</th>\n",
              "      <th>35</th>\n",
              "      <th>36</th>\n",
              "      <th>37</th>\n",
              "      <th>38</th>\n",
              "      <th>39</th>\n",
              "      <th>40</th>\n",
              "      <th>41</th>\n",
              "      <th>42</th>\n",
              "      <th>43</th>\n",
              "      <th>44</th>\n",
              "      <th>45</th>\n",
              "      <th>46</th>\n",
              "      <th>47</th>\n",
              "      <th>48</th>\n",
              "      <th>49</th>\n",
              "    </tr>\n",
              "  </thead>\n",
              "  <tbody>\n",
              "    <tr>\n",
              "      <th>0</th>\n",
              "      <td>0.907835</td>\n",
              "      <td>0.762473</td>\n",
              "      <td>0.796227</td>\n",
              "      <td>0.675685</td>\n",
              "      <td>0.587301</td>\n",
              "      <td>0.808560</td>\n",
              "      <td>0.750084</td>\n",
              "      <td>0.836524</td>\n",
              "      <td>0.923986</td>\n",
              "      <td>0.862757</td>\n",
              "      <td>0.508455</td>\n",
              "      <td>0.506010</td>\n",
              "      <td>0.785318</td>\n",
              "      <td>0.371142</td>\n",
              "      <td>0.809598</td>\n",
              "      <td>0.271978</td>\n",
              "      <td>0.739412</td>\n",
              "      <td>0.767073</td>\n",
              "      <td>0.574821</td>\n",
              "      <td>0.807589</td>\n",
              "      <td>0.696137</td>\n",
              "      <td>0.762679</td>\n",
              "      <td>0.529722</td>\n",
              "      <td>0.607881</td>\n",
              "      <td>0.680928</td>\n",
              "      <td>0.592089</td>\n",
              "      <td>0.290776</td>\n",
              "      <td>0.798315</td>\n",
              "      <td>0.284096</td>\n",
              "      <td>0.740023</td>\n",
              "      <td>0.278050</td>\n",
              "      <td>0.864501</td>\n",
              "      <td>0.262925</td>\n",
              "      <td>0.661517</td>\n",
              "      <td>0.00000</td>\n",
              "      <td>0.000000</td>\n",
              "      <td>0.000000</td>\n",
              "      <td>0.000000</td>\n",
              "      <td>0.000000</td>\n",
              "      <td>0.000000</td>\n",
              "      <td>0.0</td>\n",
              "      <td>0.0</td>\n",
              "      <td>0.0</td>\n",
              "      <td>0.0</td>\n",
              "      <td>0.0</td>\n",
              "      <td>0.0</td>\n",
              "      <td>0.0</td>\n",
              "      <td>0.0</td>\n",
              "      <td>0.0</td>\n",
              "      <td>0.0</td>\n",
              "    </tr>\n",
              "    <tr>\n",
              "      <th>0</th>\n",
              "      <td>0.878821</td>\n",
              "      <td>0.762615</td>\n",
              "      <td>0.808043</td>\n",
              "      <td>0.675669</td>\n",
              "      <td>0.595801</td>\n",
              "      <td>0.801548</td>\n",
              "      <td>0.760561</td>\n",
              "      <td>0.840030</td>\n",
              "      <td>0.914247</td>\n",
              "      <td>0.866039</td>\n",
              "      <td>0.508393</td>\n",
              "      <td>0.505951</td>\n",
              "      <td>0.764477</td>\n",
              "      <td>0.371375</td>\n",
              "      <td>0.805000</td>\n",
              "      <td>0.254107</td>\n",
              "      <td>0.643280</td>\n",
              "      <td>0.758583</td>\n",
              "      <td>0.492749</td>\n",
              "      <td>0.803398</td>\n",
              "      <td>0.792544</td>\n",
              "      <td>0.528945</td>\n",
              "      <td>0.780851</td>\n",
              "      <td>0.515710</td>\n",
              "      <td>0.499324</td>\n",
              "      <td>0.657367</td>\n",
              "      <td>0.289163</td>\n",
              "      <td>0.798360</td>\n",
              "      <td>0.276093</td>\n",
              "      <td>0.744136</td>\n",
              "      <td>0.284367</td>\n",
              "      <td>0.836118</td>\n",
              "      <td>0.256587</td>\n",
              "      <td>0.661625</td>\n",
              "      <td>0.00000</td>\n",
              "      <td>0.000000</td>\n",
              "      <td>0.000000</td>\n",
              "      <td>0.000000</td>\n",
              "      <td>0.000000</td>\n",
              "      <td>0.000000</td>\n",
              "      <td>0.0</td>\n",
              "      <td>0.0</td>\n",
              "      <td>0.0</td>\n",
              "      <td>0.0</td>\n",
              "      <td>0.0</td>\n",
              "      <td>0.0</td>\n",
              "      <td>0.0</td>\n",
              "      <td>0.0</td>\n",
              "      <td>0.0</td>\n",
              "      <td>0.0</td>\n",
              "    </tr>\n",
              "    <tr>\n",
              "      <th>0</th>\n",
              "      <td>0.907750</td>\n",
              "      <td>0.770655</td>\n",
              "      <td>0.792218</td>\n",
              "      <td>0.668165</td>\n",
              "      <td>0.587279</td>\n",
              "      <td>0.801451</td>\n",
              "      <td>0.721443</td>\n",
              "      <td>0.836441</td>\n",
              "      <td>0.916694</td>\n",
              "      <td>0.866047</td>\n",
              "      <td>0.508300</td>\n",
              "      <td>0.502197</td>\n",
              "      <td>0.754021</td>\n",
              "      <td>0.371252</td>\n",
              "      <td>0.791530</td>\n",
              "      <td>0.253990</td>\n",
              "      <td>0.660372</td>\n",
              "      <td>0.771337</td>\n",
              "      <td>0.492766</td>\n",
              "      <td>0.852545</td>\n",
              "      <td>0.505024</td>\n",
              "      <td>0.613313</td>\n",
              "      <td>0.284985</td>\n",
              "      <td>0.753918</td>\n",
              "      <td>0.286618</td>\n",
              "      <td>0.751179</td>\n",
              "      <td>0.279410</td>\n",
              "      <td>0.876557</td>\n",
              "      <td>0.248983</td>\n",
              "      <td>0.677940</td>\n",
              "      <td>0.284367</td>\n",
              "      <td>0.836118</td>\n",
              "      <td>0.256587</td>\n",
              "      <td>0.661625</td>\n",
              "      <td>0.00000</td>\n",
              "      <td>0.000000</td>\n",
              "      <td>0.000000</td>\n",
              "      <td>0.000000</td>\n",
              "      <td>0.000000</td>\n",
              "      <td>0.000000</td>\n",
              "      <td>0.0</td>\n",
              "      <td>0.0</td>\n",
              "      <td>0.0</td>\n",
              "      <td>0.0</td>\n",
              "      <td>0.0</td>\n",
              "      <td>0.0</td>\n",
              "      <td>0.0</td>\n",
              "      <td>0.0</td>\n",
              "      <td>0.0</td>\n",
              "      <td>0.0</td>\n",
              "    </tr>\n",
              "    <tr>\n",
              "      <th>0</th>\n",
              "      <td>0.907699</td>\n",
              "      <td>0.791288</td>\n",
              "      <td>0.796125</td>\n",
              "      <td>0.671923</td>\n",
              "      <td>0.590088</td>\n",
              "      <td>0.801451</td>\n",
              "      <td>0.757901</td>\n",
              "      <td>0.847162</td>\n",
              "      <td>0.926442</td>\n",
              "      <td>0.866096</td>\n",
              "      <td>0.508264</td>\n",
              "      <td>0.502238</td>\n",
              "      <td>0.743591</td>\n",
              "      <td>0.371326</td>\n",
              "      <td>0.795989</td>\n",
              "      <td>0.250454</td>\n",
              "      <td>0.767163</td>\n",
              "      <td>0.716265</td>\n",
              "      <td>0.574844</td>\n",
              "      <td>0.795215</td>\n",
              "      <td>0.640582</td>\n",
              "      <td>0.781875</td>\n",
              "      <td>0.747249</td>\n",
              "      <td>0.788523</td>\n",
              "      <td>0.587668</td>\n",
              "      <td>0.583963</td>\n",
              "      <td>0.774432</td>\n",
              "      <td>0.596913</td>\n",
              "      <td>0.282491</td>\n",
              "      <td>0.826588</td>\n",
              "      <td>0.273347</td>\n",
              "      <td>0.774631</td>\n",
              "      <td>0.248557</td>\n",
              "      <td>0.661551</td>\n",
              "      <td>0.75745</td>\n",
              "      <td>0.774604</td>\n",
              "      <td>0.754389</td>\n",
              "      <td>0.780871</td>\n",
              "      <td>0.000000</td>\n",
              "      <td>0.000000</td>\n",
              "      <td>0.0</td>\n",
              "      <td>0.0</td>\n",
              "      <td>0.0</td>\n",
              "      <td>0.0</td>\n",
              "      <td>0.0</td>\n",
              "      <td>0.0</td>\n",
              "      <td>0.0</td>\n",
              "      <td>0.0</td>\n",
              "      <td>0.0</td>\n",
              "      <td>0.0</td>\n",
              "    </tr>\n",
              "    <tr>\n",
              "      <th>0</th>\n",
              "      <td>0.893404</td>\n",
              "      <td>0.766805</td>\n",
              "      <td>0.792224</td>\n",
              "      <td>0.671930</td>\n",
              "      <td>0.590012</td>\n",
              "      <td>0.805123</td>\n",
              "      <td>0.744949</td>\n",
              "      <td>0.843636</td>\n",
              "      <td>0.926483</td>\n",
              "      <td>0.869501</td>\n",
              "      <td>0.508286</td>\n",
              "      <td>0.498397</td>\n",
              "      <td>0.754005</td>\n",
              "      <td>0.367442</td>\n",
              "      <td>0.796035</td>\n",
              "      <td>0.254070</td>\n",
              "      <td>0.777838</td>\n",
              "      <td>0.724765</td>\n",
              "      <td>0.594532</td>\n",
              "      <td>0.795136</td>\n",
              "      <td>0.800692</td>\n",
              "      <td>0.785643</td>\n",
              "      <td>0.971191</td>\n",
              "      <td>0.803932</td>\n",
              "      <td>0.595834</td>\n",
              "      <td>0.583966</td>\n",
              "      <td>0.784142</td>\n",
              "      <td>0.605052</td>\n",
              "      <td>0.877213</td>\n",
              "      <td>0.549947</td>\n",
              "      <td>0.274889</td>\n",
              "      <td>0.803374</td>\n",
              "      <td>0.272462</td>\n",
              "      <td>0.730110</td>\n",
              "      <td>0.26613</td>\n",
              "      <td>0.812201</td>\n",
              "      <td>0.242767</td>\n",
              "      <td>0.630989</td>\n",
              "      <td>0.960796</td>\n",
              "      <td>0.781369</td>\n",
              "      <td>0.0</td>\n",
              "      <td>0.0</td>\n",
              "      <td>0.0</td>\n",
              "      <td>0.0</td>\n",
              "      <td>0.0</td>\n",
              "      <td>0.0</td>\n",
              "      <td>0.0</td>\n",
              "      <td>0.0</td>\n",
              "      <td>0.0</td>\n",
              "      <td>0.0</td>\n",
              "    </tr>\n",
              "  </tbody>\n",
              "</table>\n",
              "</div>"
            ],
            "text/plain": [
              "         0         1         2         3         4   ...   45   46   47   48   49\n",
              "0  0.907835  0.762473  0.796227  0.675685  0.587301  ...  0.0  0.0  0.0  0.0  0.0\n",
              "0  0.878821  0.762615  0.808043  0.675669  0.595801  ...  0.0  0.0  0.0  0.0  0.0\n",
              "0  0.907750  0.770655  0.792218  0.668165  0.587279  ...  0.0  0.0  0.0  0.0  0.0\n",
              "0  0.907699  0.791288  0.796125  0.671923  0.590088  ...  0.0  0.0  0.0  0.0  0.0\n",
              "0  0.893404  0.766805  0.792224  0.671930  0.590012  ...  0.0  0.0  0.0  0.0  0.0\n",
              "\n",
              "[5 rows x 50 columns]"
            ]
          },
          "metadata": {
            "tags": []
          },
          "execution_count": 11
        }
      ]
    },
    {
      "cell_type": "code",
      "metadata": {
        "id": "nmIblH1rtd8T",
        "colab_type": "code",
        "colab": {}
      },
      "source": [
        "x,y=train.shape\n",
        "train=train.iloc[:90*int(x/90),:]\n",
        "train=train.values\n",
        "train=train.reshape(int(x/90),90,50)"
      ],
      "execution_count": 0,
      "outputs": []
    },
    {
      "cell_type": "markdown",
      "metadata": {
        "id": "YMD0xWfcPBbj",
        "colab_type": "text"
      },
      "source": [
        "Please change the path of the model."
      ]
    },
    {
      "cell_type": "code",
      "metadata": {
        "id": "Vm3nA0XO0S7N",
        "colab_type": "code",
        "colab": {
          "base_uri": "https://localhost:8080/",
          "height": 641
        },
        "outputId": "c238c181-55e7-4319-a3b4-b0b3fc35212c"
      },
      "source": [
        "model=keras.models.load_model('/content/wall final')"
      ],
      "execution_count": 13,
      "outputs": [
        {
          "output_type": "stream",
          "text": [
            "WARNING:tensorflow:From /usr/local/lib/python3.6/dist-packages/keras/backend/tensorflow_backend.py:66: The name tf.get_default_graph is deprecated. Please use tf.compat.v1.get_default_graph instead.\n",
            "\n",
            "WARNING:tensorflow:From /usr/local/lib/python3.6/dist-packages/keras/backend/tensorflow_backend.py:541: The name tf.placeholder is deprecated. Please use tf.compat.v1.placeholder instead.\n",
            "\n",
            "WARNING:tensorflow:From /usr/local/lib/python3.6/dist-packages/keras/backend/tensorflow_backend.py:4432: The name tf.random_uniform is deprecated. Please use tf.random.uniform instead.\n",
            "\n",
            "WARNING:tensorflow:From /usr/local/lib/python3.6/dist-packages/keras/backend/tensorflow_backend.py:148: The name tf.placeholder_with_default is deprecated. Please use tf.compat.v1.placeholder_with_default instead.\n",
            "\n",
            "WARNING:tensorflow:From /usr/local/lib/python3.6/dist-packages/keras/backend/tensorflow_backend.py:3733: calling dropout (from tensorflow.python.ops.nn_ops) with keep_prob is deprecated and will be removed in a future version.\n",
            "Instructions for updating:\n",
            "Please use `rate` instead of `keep_prob`. Rate should be set to `rate = 1 - keep_prob`.\n",
            "WARNING:tensorflow:From /usr/local/lib/python3.6/dist-packages/keras/backend/tensorflow_backend.py:190: The name tf.get_default_session is deprecated. Please use tf.compat.v1.get_default_session instead.\n",
            "\n",
            "WARNING:tensorflow:From /usr/local/lib/python3.6/dist-packages/keras/backend/tensorflow_backend.py:197: The name tf.ConfigProto is deprecated. Please use tf.compat.v1.ConfigProto instead.\n",
            "\n",
            "WARNING:tensorflow:From /usr/local/lib/python3.6/dist-packages/keras/backend/tensorflow_backend.py:203: The name tf.Session is deprecated. Please use tf.compat.v1.Session instead.\n",
            "\n",
            "WARNING:tensorflow:From /usr/local/lib/python3.6/dist-packages/keras/backend/tensorflow_backend.py:207: The name tf.global_variables is deprecated. Please use tf.compat.v1.global_variables instead.\n",
            "\n",
            "WARNING:tensorflow:From /usr/local/lib/python3.6/dist-packages/keras/backend/tensorflow_backend.py:216: The name tf.is_variable_initialized is deprecated. Please use tf.compat.v1.is_variable_initialized instead.\n",
            "\n",
            "WARNING:tensorflow:From /usr/local/lib/python3.6/dist-packages/keras/backend/tensorflow_backend.py:223: The name tf.variables_initializer is deprecated. Please use tf.compat.v1.variables_initializer instead.\n",
            "\n",
            "WARNING:tensorflow:From /usr/local/lib/python3.6/dist-packages/keras/optimizers.py:793: The name tf.train.Optimizer is deprecated. Please use tf.compat.v1.train.Optimizer instead.\n",
            "\n",
            "WARNING:tensorflow:From /usr/local/lib/python3.6/dist-packages/keras/backend/tensorflow_backend.py:3657: The name tf.log is deprecated. Please use tf.math.log instead.\n",
            "\n",
            "WARNING:tensorflow:From /tensorflow-1.15.0/python3.6/tensorflow_core/python/ops/nn_impl.py:183: where (from tensorflow.python.ops.array_ops) is deprecated and will be removed in a future version.\n",
            "Instructions for updating:\n",
            "Use tf.where in 2.0, which has the same broadcast rule as np.where\n",
            "WARNING:tensorflow:From /usr/local/lib/python3.6/dist-packages/keras/backend/tensorflow_backend.py:1033: The name tf.assign_add is deprecated. Please use tf.compat.v1.assign_add instead.\n",
            "\n",
            "WARNING:tensorflow:From /usr/local/lib/python3.6/dist-packages/keras/backend/tensorflow_backend.py:1020: The name tf.assign is deprecated. Please use tf.compat.v1.assign instead.\n",
            "\n"
          ],
          "name": "stdout"
        }
      ]
    },
    {
      "cell_type": "code",
      "metadata": {
        "id": "OA3_LhyK0p6d",
        "colab_type": "code",
        "colab": {}
      },
      "source": [
        "y=model.predict(train)"
      ],
      "execution_count": 0,
      "outputs": []
    },
    {
      "cell_type": "code",
      "metadata": {
        "id": "p3Yf5Sr2iU2v",
        "colab_type": "code",
        "colab": {
          "base_uri": "https://localhost:8080/",
          "height": 372
        },
        "outputId": "5e7da2ff-9f55-488a-c0be-2c102fa5fa03"
      },
      "source": [
        "y"
      ],
      "execution_count": 15,
      "outputs": [
        {
          "output_type": "execute_result",
          "data": {
            "text/plain": [
              "array([[0.97595155],\n",
              "       [0.97505015],\n",
              "       [0.97942936],\n",
              "       [0.97893083],\n",
              "       [0.9780398 ],\n",
              "       [0.97953284],\n",
              "       [0.9771105 ],\n",
              "       [0.7626993 ],\n",
              "       [0.02670452],\n",
              "       [0.03707963],\n",
              "       [0.91965675],\n",
              "       [0.44602498],\n",
              "       [0.3311327 ],\n",
              "       [0.881415  ],\n",
              "       [0.8022665 ],\n",
              "       [0.68305445],\n",
              "       [0.2536433 ],\n",
              "       [0.35055476],\n",
              "       [0.9056391 ],\n",
              "       [0.11047849]], dtype=float32)"
            ]
          },
          "metadata": {
            "tags": []
          },
          "execution_count": 15
        }
      ]
    },
    {
      "cell_type": "code",
      "metadata": {
        "id": "F4hA022J0ra4",
        "colab_type": "code",
        "colab": {
          "base_uri": "https://localhost:8080/",
          "height": 372
        },
        "outputId": "926712df-507e-4ec3-8501-dd3bf2690e1a"
      },
      "source": [
        "p=[]\n",
        "for i in y:\n",
        "    if i<0.5:\n",
        "        p.append(0)\n",
        "        print(0)\n",
        "    else:\n",
        "        p.append(1)\n",
        "        print(1)"
      ],
      "execution_count": 16,
      "outputs": [
        {
          "output_type": "stream",
          "text": [
            "1\n",
            "1\n",
            "1\n",
            "1\n",
            "1\n",
            "1\n",
            "1\n",
            "1\n",
            "0\n",
            "0\n",
            "1\n",
            "0\n",
            "0\n",
            "1\n",
            "1\n",
            "1\n",
            "0\n",
            "0\n",
            "1\n",
            "0\n"
          ],
          "name": "stdout"
        }
      ]
    },
    {
      "cell_type": "code",
      "metadata": {
        "id": "3VVvECgk1dbT",
        "colab_type": "code",
        "colab": {}
      },
      "source": [
        "l=[]\n",
        "for i in p:\n",
        "    for j in range(0,3):\n",
        "        l.append(i)\n",
        "        \n"
      ],
      "execution_count": 0,
      "outputs": []
    },
    {
      "cell_type": "markdown",
      "metadata": {
        "id": "M_QdkBPyPNP5",
        "colab_type": "text"
      },
      "source": [
        "Graph for 60 seconds."
      ]
    },
    {
      "cell_type": "code",
      "metadata": {
        "id": "MhpXoI36EcY3",
        "colab_type": "code",
        "colab": {
          "base_uri": "https://localhost:8080/",
          "height": 297
        },
        "outputId": "65283191-18c0-4c2d-84af-3d404e5e5364"
      },
      "source": [
        "import matplotlib.pyplot as plt \n",
        "plt.plot(l)\n",
        "plt.xlabel('time')\n",
        "plt.ylabel('action')\n",
        "#plt.xticks(np.arange(0,60,1))"
      ],
      "execution_count": 18,
      "outputs": [
        {
          "output_type": "execute_result",
          "data": {
            "text/plain": [
              "Text(0, 0.5, 'action')"
            ]
          },
          "metadata": {
            "tags": []
          },
          "execution_count": 18
        },
        {
          "output_type": "display_data",
          "data": {
            "image/png": "[encoded data removed]",
            "text/plain": [
              "<Figure size 432x288 with 1 Axes>"
            ]
          },
          "metadata": {
            "tags": []
          }
        }
      ]
    },
    {
      "cell_type": "markdown",
      "metadata": {
        "id": "bGKsmadYPRz8",
        "colab_type": "text"
      },
      "source": [
        "Json files with timestamps and predicted outputs."
      ]
    },
    {
      "cell_type": "code",
      "metadata": {
        "id": "r_XKHgsystx6",
        "colab_type": "code",
        "colab": {}
      },
      "source": [
        "s=[]\n",
        "for i in range(len(y)):\n",
        "    s.append([i*3,float(y[i])])"
      ],
      "execution_count": 0,
      "outputs": []
    },
    {
      "cell_type": "code",
      "metadata": {
        "id": "NTm-Dg75MSb5",
        "colab_type": "code",
        "colab": {}
      },
      "source": [
        "import json\n",
        "q=json.dumps(s)\n",
        "with open('/content/timelabelvideo4.json','w') as outfile:\n",
        "    outfile.write(q)"
      ],
      "execution_count": 0,
      "outputs": []
    },
    {
      "cell_type": "code",
      "metadata": {
        "id": "4ZPfwds7MoVw",
        "colab_type": "code",
        "colab": {}
      },
      "source": [
        ""
      ],
      "execution_count": 0,
      "outputs": []
    },
    {
      "cell_type": "code",
      "metadata": {
        "id": "JJRvhoELNH5Z",
        "colab_type": "code",
        "colab": {}
      },
      "source": [
        ""
      ],
      "execution_count": 0,
      "outputs": []
    }
  ]
}