{
  "nbformat": 4,
  "nbformat_minor": 0,
  "metadata": {
    "colab": {
      "name": "convLSTM training.ipynb",
      "provenance": [],
      "collapsed_sections": []
    },
    "kernelspec": {
      "name": "python3",
      "display_name": "Python 3"
    }
  },
  "cells": [
    {
      "cell_type": "code",
      "metadata": {
        "id": "yqbtgHWb1RkO",
        "colab_type": "code",
        "outputId": "00159442-c53f-4613-b83d-802e62ba008c",
        "colab": {
          "base_uri": "https://localhost:8080/",
          "height": 34
        }
      },
      "source": [
        "import os\n",
        "import pandas as pd\n",
        "import numpy as np\n",
        "import json\n",
        "from google.colab import files\n",
        "import io\n",
        "from keras import layers\n",
        "from keras import models\n",
        "from keras import applications\n",
        "from keras import optimizers\n",
        "import keras"
      ],
      "execution_count": 0,
      "outputs": [
        {
          "output_type": "stream",
          "text": [
            "Using TensorFlow backend.\n"
          ],
          "name": "stderr"
        }
      ]
    },
    {
      "cell_type": "code",
      "metadata": {
        "id": "clfPdbIb1WBP",
        "colab_type": "code",
        "outputId": "7d472b4e-5485-44e9-de76-5f7fba65f934",
        "colab": {
          "base_uri": "https://localhost:8080/",
          "height": 527
        }
      },
      "source": [
        "from google.colab import drive\n",
        "drive.mount('/content/drive')"
      ],
      "execution_count": 0,
      "outputs": [
        {
          "output_type": "error",
          "ename": "KeyboardInterrupt",
          "evalue": "ignored",
          "traceback": [
            "\u001b[0;31m---------------------------------------------------------------------------\u001b[0m",
            "\u001b[0;31mKeyboardInterrupt\u001b[0m                         Traceback (most recent call last)",
            "\u001b[0;32m/usr/local/lib/python3.6/dist-packages/ipykernel/kernelbase.py\u001b[0m in \u001b[0;36m_input_request\u001b[0;34m(self, prompt, ident, parent, password)\u001b[0m\n\u001b[1;32m    728\u001b[0m             \u001b[0;32mtry\u001b[0m\u001b[0;34m:\u001b[0m\u001b[0;34m\u001b[0m\u001b[0;34m\u001b[0m\u001b[0m\n\u001b[0;32m--> 729\u001b[0;31m                 \u001b[0mident\u001b[0m\u001b[0;34m,\u001b[0m \u001b[0mreply\u001b[0m \u001b[0;34m=\u001b[0m \u001b[0mself\u001b[0m\u001b[0;34m.\u001b[0m\u001b[0msession\u001b[0m\u001b[0;34m.\u001b[0m\u001b[0mrecv\u001b[0m\u001b[0;34m(\u001b[0m\u001b[0mself\u001b[0m\u001b[0;34m.\u001b[0m\u001b[0mstdin_socket\u001b[0m\u001b[0;34m,\u001b[0m \u001b[0;36m0\u001b[0m\u001b[0;34m)\u001b[0m\u001b[0;34m\u001b[0m\u001b[0;34m\u001b[0m\u001b[0m\n\u001b[0m\u001b[1;32m    730\u001b[0m             \u001b[0;32mexcept\u001b[0m \u001b[0mException\u001b[0m\u001b[0;34m:\u001b[0m\u001b[0;34m\u001b[0m\u001b[0;34m\u001b[0m\u001b[0m\n",
            "\u001b[0;32m/usr/local/lib/python3.6/dist-packages/jupyter_client/session.py\u001b[0m in \u001b[0;36mrecv\u001b[0;34m(self, socket, mode, content, copy)\u001b[0m\n\u001b[1;32m    802\u001b[0m         \u001b[0;32mtry\u001b[0m\u001b[0;34m:\u001b[0m\u001b[0;34m\u001b[0m\u001b[0;34m\u001b[0m\u001b[0m\n\u001b[0;32m--> 803\u001b[0;31m             \u001b[0mmsg_list\u001b[0m \u001b[0;34m=\u001b[0m \u001b[0msocket\u001b[0m\u001b[0;34m.\u001b[0m\u001b[0mrecv_multipart\u001b[0m\u001b[0;34m(\u001b[0m\u001b[0mmode\u001b[0m\u001b[0;34m,\u001b[0m \u001b[0mcopy\u001b[0m\u001b[0;34m=\u001b[0m\u001b[0mcopy\u001b[0m\u001b[0;34m)\u001b[0m\u001b[0;34m\u001b[0m\u001b[0;34m\u001b[0m\u001b[0m\n\u001b[0m\u001b[1;32m    804\u001b[0m         \u001b[0;32mexcept\u001b[0m \u001b[0mzmq\u001b[0m\u001b[0;34m.\u001b[0m\u001b[0mZMQError\u001b[0m \u001b[0;32mas\u001b[0m \u001b[0me\u001b[0m\u001b[0;34m:\u001b[0m\u001b[0;34m\u001b[0m\u001b[0;34m\u001b[0m\u001b[0m\n",
            "\u001b[0;32m/usr/local/lib/python3.6/dist-packages/zmq/sugar/socket.py\u001b[0m in \u001b[0;36mrecv_multipart\u001b[0;34m(self, flags, copy, track)\u001b[0m\n\u001b[1;32m    474\u001b[0m         \"\"\"\n\u001b[0;32m--> 475\u001b[0;31m         \u001b[0mparts\u001b[0m \u001b[0;34m=\u001b[0m \u001b[0;34m[\u001b[0m\u001b[0mself\u001b[0m\u001b[0;34m.\u001b[0m\u001b[0mrecv\u001b[0m\u001b[0;34m(\u001b[0m\u001b[0mflags\u001b[0m\u001b[0;34m,\u001b[0m \u001b[0mcopy\u001b[0m\u001b[0;34m=\u001b[0m\u001b[0mcopy\u001b[0m\u001b[0;34m,\u001b[0m \u001b[0mtrack\u001b[0m\u001b[0;34m=\u001b[0m\u001b[0mtrack\u001b[0m\u001b[0;34m)\u001b[0m\u001b[0;34m]\u001b[0m\u001b[0;34m\u001b[0m\u001b[0;34m\u001b[0m\u001b[0m\n\u001b[0m\u001b[1;32m    476\u001b[0m         \u001b[0;31m# have first part already, only loop while more to receive\u001b[0m\u001b[0;34m\u001b[0m\u001b[0;34m\u001b[0m\u001b[0;34m\u001b[0m\u001b[0m\n",
            "\u001b[0;32mzmq/backend/cython/socket.pyx\u001b[0m in \u001b[0;36mzmq.backend.cython.socket.Socket.recv\u001b[0;34m()\u001b[0m\n",
            "\u001b[0;32mzmq/backend/cython/socket.pyx\u001b[0m in \u001b[0;36mzmq.backend.cython.socket.Socket.recv\u001b[0;34m()\u001b[0m\n",
            "\u001b[0;32mzmq/backend/cython/socket.pyx\u001b[0m in \u001b[0;36mzmq.backend.cython.socket._recv_copy\u001b[0;34m()\u001b[0m\n",
            "\u001b[0;32m/usr/local/lib/python3.6/dist-packages/zmq/backend/cython/checkrc.pxd\u001b[0m in \u001b[0;36mzmq.backend.cython.checkrc._check_rc\u001b[0;34m()\u001b[0m\n",
            "\u001b[0;31mKeyboardInterrupt\u001b[0m: ",
            "\nDuring handling of the above exception, another exception occurred:\n",
            "\u001b[0;31mKeyboardInterrupt\u001b[0m                         Traceback (most recent call last)",
            "\u001b[0;32m<ipython-input-2-d5df0069828e>\u001b[0m in \u001b[0;36m<module>\u001b[0;34m()\u001b[0m\n\u001b[1;32m      1\u001b[0m \u001b[0;32mfrom\u001b[0m \u001b[0mgoogle\u001b[0m\u001b[0;34m.\u001b[0m\u001b[0mcolab\u001b[0m \u001b[0;32mimport\u001b[0m \u001b[0mdrive\u001b[0m\u001b[0;34m\u001b[0m\u001b[0;34m\u001b[0m\u001b[0m\n\u001b[0;32m----> 2\u001b[0;31m \u001b[0mdrive\u001b[0m\u001b[0;34m.\u001b[0m\u001b[0mmount\u001b[0m\u001b[0;34m(\u001b[0m\u001b[0;34m'/content/drive'\u001b[0m\u001b[0;34m)\u001b[0m\u001b[0;34m\u001b[0m\u001b[0;34m\u001b[0m\u001b[0m\n\u001b[0m",
            "\u001b[0;32m/usr/local/lib/python3.6/dist-packages/google/colab/drive.py\u001b[0m in \u001b[0;36mmount\u001b[0;34m(mountpoint, force_remount, timeout_ms, use_metadata_server)\u001b[0m\n\u001b[1;32m    236\u001b[0m       \u001b[0mauth_prompt\u001b[0m \u001b[0;34m=\u001b[0m \u001b[0md\u001b[0m\u001b[0;34m.\u001b[0m\u001b[0mmatch\u001b[0m\u001b[0;34m.\u001b[0m\u001b[0mgroup\u001b[0m\u001b[0;34m(\u001b[0m\u001b[0;36m1\u001b[0m\u001b[0;34m)\u001b[0m \u001b[0;34m+\u001b[0m \u001b[0;34m'\\nEnter your authorization code:\\n'\u001b[0m\u001b[0;34m\u001b[0m\u001b[0;34m\u001b[0m\u001b[0m\n\u001b[1;32m    237\u001b[0m       \u001b[0;32mwith\u001b[0m \u001b[0mopen\u001b[0m\u001b[0;34m(\u001b[0m\u001b[0mfifo\u001b[0m\u001b[0;34m,\u001b[0m \u001b[0;34m'w'\u001b[0m\u001b[0;34m)\u001b[0m \u001b[0;32mas\u001b[0m \u001b[0mfifo_file\u001b[0m\u001b[0;34m:\u001b[0m\u001b[0;34m\u001b[0m\u001b[0;34m\u001b[0m\u001b[0m\n\u001b[0;32m--> 238\u001b[0;31m         \u001b[0mfifo_file\u001b[0m\u001b[0;34m.\u001b[0m\u001b[0mwrite\u001b[0m\u001b[0;34m(\u001b[0m\u001b[0m_getpass\u001b[0m\u001b[0;34m.\u001b[0m\u001b[0mgetpass\u001b[0m\u001b[0;34m(\u001b[0m\u001b[0mauth_prompt\u001b[0m\u001b[0;34m)\u001b[0m \u001b[0;34m+\u001b[0m \u001b[0;34m'\\n'\u001b[0m\u001b[0;34m)\u001b[0m\u001b[0;34m\u001b[0m\u001b[0;34m\u001b[0m\u001b[0m\n\u001b[0m\u001b[1;32m    239\u001b[0m       \u001b[0mwrote_to_fifo\u001b[0m \u001b[0;34m=\u001b[0m \u001b[0;32mTrue\u001b[0m\u001b[0;34m\u001b[0m\u001b[0;34m\u001b[0m\u001b[0m\n\u001b[1;32m    240\u001b[0m   \u001b[0;32mif\u001b[0m \u001b[0;32mnot\u001b[0m \u001b[0mwrote_to_fifo\u001b[0m\u001b[0;34m:\u001b[0m\u001b[0;34m\u001b[0m\u001b[0;34m\u001b[0m\u001b[0m\n",
            "\u001b[0;32m/usr/local/lib/python3.6/dist-packages/ipykernel/kernelbase.py\u001b[0m in \u001b[0;36mgetpass\u001b[0;34m(self, prompt, stream)\u001b[0m\n\u001b[1;32m    685\u001b[0m             \u001b[0mself\u001b[0m\u001b[0;34m.\u001b[0m\u001b[0m_parent_ident\u001b[0m\u001b[0;34m,\u001b[0m\u001b[0;34m\u001b[0m\u001b[0;34m\u001b[0m\u001b[0m\n\u001b[1;32m    686\u001b[0m             \u001b[0mself\u001b[0m\u001b[0;34m.\u001b[0m\u001b[0m_parent_header\u001b[0m\u001b[0;34m,\u001b[0m\u001b[0;34m\u001b[0m\u001b[0;34m\u001b[0m\u001b[0m\n\u001b[0;32m--> 687\u001b[0;31m             \u001b[0mpassword\u001b[0m\u001b[0;34m=\u001b[0m\u001b[0;32mTrue\u001b[0m\u001b[0;34m,\u001b[0m\u001b[0;34m\u001b[0m\u001b[0;34m\u001b[0m\u001b[0m\n\u001b[0m\u001b[1;32m    688\u001b[0m         )\n\u001b[1;32m    689\u001b[0m \u001b[0;34m\u001b[0m\u001b[0m\n",
            "\u001b[0;32m/usr/local/lib/python3.6/dist-packages/ipykernel/kernelbase.py\u001b[0m in \u001b[0;36m_input_request\u001b[0;34m(self, prompt, ident, parent, password)\u001b[0m\n\u001b[1;32m    732\u001b[0m             \u001b[0;32mexcept\u001b[0m \u001b[0mKeyboardInterrupt\u001b[0m\u001b[0;34m:\u001b[0m\u001b[0;34m\u001b[0m\u001b[0;34m\u001b[0m\u001b[0m\n\u001b[1;32m    733\u001b[0m                 \u001b[0;31m# re-raise KeyboardInterrupt, to truncate traceback\u001b[0m\u001b[0;34m\u001b[0m\u001b[0;34m\u001b[0m\u001b[0;34m\u001b[0m\u001b[0m\n\u001b[0;32m--> 734\u001b[0;31m                 \u001b[0;32mraise\u001b[0m \u001b[0mKeyboardInterrupt\u001b[0m\u001b[0;34m\u001b[0m\u001b[0;34m\u001b[0m\u001b[0m\n\u001b[0m\u001b[1;32m    735\u001b[0m             \u001b[0;32melse\u001b[0m\u001b[0;34m:\u001b[0m\u001b[0;34m\u001b[0m\u001b[0;34m\u001b[0m\u001b[0m\n\u001b[1;32m    736\u001b[0m                 \u001b[0;32mbreak\u001b[0m\u001b[0;34m\u001b[0m\u001b[0;34m\u001b[0m\u001b[0m\n",
            "\u001b[0;31mKeyboardInterrupt\u001b[0m: "
          ]
        }
      ]
    },
    {
      "cell_type": "code",
      "metadata": {
        "id": "3VtQnlFwX4wU",
        "colab_type": "code",
        "colab": {}
      },
      "source": [
        "!unzip -q \"/content/drive/My Drive/Tadkamadla, Aashrith Sai\""
      ],
      "execution_count": 0,
      "outputs": []
    },
    {
      "cell_type": "markdown",
      "metadata": {
        "id": "1FA-63Adxote",
        "colab_type": "text"
      },
      "source": [
        "I have checked if the file contains any file ending with **.json** and extracted all the **pose_keypoints_2d** and appended them into a data frame. I have taken only the co-ordinate values and not the probability of prediction from the openpose output.\n"
      ]
    },
    {
      "cell_type": "code",
      "metadata": {
        "id": "-VkUDL4p1Z4Z",
        "colab_type": "code",
        "outputId": "9e6048d9-895a-4c37-c8e4-0a1a8df2124c",
        "colab": {
          "base_uri": "https://localhost:8080/",
          "height": 35
        }
      },
      "source": [
        "i=2\n",
        "path='/content/drive/My Drive/positive samples/video3.json'\n",
        "#path='/content/13'\n",
        "json_files=[pos_json for pos_json in os.listdir(path) if pos_json.endswith('.json')]\n",
        "print('Found: ',len(json_files),'json keypoint frame files')\n",
        "a=json.load(open(path+'/'+json_files[0]))\n",
        "b=a['people']\n",
        "q=b[0]['pose_keypoints_2d']\n",
        "s=[p for p in q if p>1]\n",
        "train=pd.DataFrame([s])\n",
        "for j in range(1,len(json_files)):\n",
        "    a=json.load(open(path+'/'+json_files[j]))\n",
        "    b=a['people']\n",
        "    if len(b)>0:\n",
        "        q=b[0]['pose_keypoints_2d']\n",
        "        s=[p for p in q if p>1]\n",
        "        s=pd.DataFrame([s])\n",
        "        train=train.append(s,ignore_index=True,sort=False)\n",
        "    else:\n",
        "        continue"
      ],
      "execution_count": 0,
      "outputs": [
        {
          "output_type": "stream",
          "text": [
            "Found:  3908 json keypoint frame files\n"
          ],
          "name": "stdout"
        }
      ]
    },
    {
      "cell_type": "markdown",
      "metadata": {
        "id": "Etnx-QzgyUF6",
        "colab_type": "text"
      },
      "source": [
        "The next code is used to clean the data and I have used **method='ffill'** to get the same values as the previous rows if there are NaN values. I have also handled the case where the pose_keypoints_2d are detected to be less than 50 features. I have made them equal to zero as often the keypoints of the toe are not properly detected and my model is not going to get affected by these values. "
      ]
    },
    {
      "cell_type": "code",
      "metadata": {
        "id": "vvIHBp2f1coY",
        "colab_type": "code",
        "colab": {}
      },
      "source": [
        "train=train.fillna(method='ffill')\n",
        "train=train.fillna(0)\n",
        "y,x=train.shape\n",
        "s=np.zeros(y)\n",
        "s=pd.DataFrame(s)\n",
        "\n",
        "for i in range(50):\n",
        "    y,x=train.shape\n",
        "    if x!=50:\n",
        "        train[x]=s\n",
        "        x=x+1\n",
        "    if y<90:\n",
        "        train=train.append(train.iloc[y-1],ignore_index=True,sort=False)\n",
        "\n",
        "for i in range(50):\n",
        "    train.iloc[:,i]=train.iloc[:,i]/train.iloc[:,i].max()"
      ],
      "execution_count": 0,
      "outputs": []
    },
    {
      "cell_type": "code",
      "metadata": {
        "id": "rlFLhv1N1iP_",
        "colab_type": "code",
        "outputId": "69180be4-6e9e-4dce-e560-a78c63cee144",
        "colab": {
          "base_uri": "https://localhost:8080/",
          "height": 431
        }
      },
      "source": [
        "train=train.fillna(method='ffill')\n",
        "train=train.fillna(0)\n",
        "train"
      ],
      "execution_count": 0,
      "outputs": [
        {
          "output_type": "execute_result",
          "data": {
            "text/html": [
              "<div>\n",
              "<style scoped>\n",
              "    .dataframe tbody tr th:only-of-type {\n",
              "        vertical-align: middle;\n",
              "    }\n",
              "\n",
              "    .dataframe tbody tr th {\n",
              "        vertical-align: top;\n",
              "    }\n",
              "\n",
              "    .dataframe thead th {\n",
              "        text-align: right;\n",
              "    }\n",
              "</style>\n",
              "<table border=\"1\" class=\"dataframe\">\n",
              "  <thead>\n",
              "    <tr style=\"text-align: right;\">\n",
              "      <th></th>\n",
              "      <th>0</th>\n",
              "      <th>1</th>\n",
              "      <th>2</th>\n",
              "      <th>3</th>\n",
              "      <th>4</th>\n",
              "      <th>5</th>\n",
              "      <th>6</th>\n",
              "      <th>7</th>\n",
              "      <th>8</th>\n",
              "      <th>9</th>\n",
              "      <th>10</th>\n",
              "      <th>11</th>\n",
              "      <th>12</th>\n",
              "      <th>13</th>\n",
              "      <th>14</th>\n",
              "      <th>15</th>\n",
              "      <th>16</th>\n",
              "      <th>17</th>\n",
              "      <th>18</th>\n",
              "      <th>19</th>\n",
              "      <th>20</th>\n",
              "      <th>21</th>\n",
              "      <th>22</th>\n",
              "      <th>23</th>\n",
              "      <th>24</th>\n",
              "      <th>25</th>\n",
              "      <th>26</th>\n",
              "      <th>27</th>\n",
              "      <th>28</th>\n",
              "      <th>29</th>\n",
              "      <th>30</th>\n",
              "      <th>31</th>\n",
              "      <th>32</th>\n",
              "      <th>33</th>\n",
              "      <th>34</th>\n",
              "      <th>35</th>\n",
              "      <th>36</th>\n",
              "      <th>37</th>\n",
              "      <th>38</th>\n",
              "      <th>39</th>\n",
              "      <th>40</th>\n",
              "      <th>41</th>\n",
              "      <th>42</th>\n",
              "      <th>43</th>\n",
              "      <th>44</th>\n",
              "      <th>45</th>\n",
              "      <th>46</th>\n",
              "      <th>47</th>\n",
              "      <th>48</th>\n",
              "      <th>49</th>\n",
              "    </tr>\n",
              "  </thead>\n",
              "  <tbody>\n",
              "    <tr>\n",
              "      <th>0</th>\n",
              "      <td>0.709859</td>\n",
              "      <td>0.724448</td>\n",
              "      <td>0.659839</td>\n",
              "      <td>0.864325</td>\n",
              "      <td>0.624714</td>\n",
              "      <td>0.659747</td>\n",
              "      <td>0.566257</td>\n",
              "      <td>0.548671</td>\n",
              "      <td>0.598719</td>\n",
              "      <td>0.460813</td>\n",
              "      <td>0.789954</td>\n",
              "      <td>0.783035</td>\n",
              "      <td>0.608083</td>\n",
              "      <td>0.838451</td>\n",
              "      <td>0.457673</td>\n",
              "      <td>0.845093</td>\n",
              "      <td>0.491378</td>\n",
              "      <td>0.800242</td>\n",
              "      <td>0.496841</td>\n",
              "      <td>0.671168</td>\n",
              "      <td>0.292729</td>\n",
              "      <td>0.563930</td>\n",
              "      <td>0.079499</td>\n",
              "      <td>0.599489</td>\n",
              "      <td>0.505866</td>\n",
              "      <td>0.698839</td>\n",
              "      <td>0.329074</td>\n",
              "      <td>0.707865</td>\n",
              "      <td>0.079309</td>\n",
              "      <td>0.715352</td>\n",
              "      <td>0.882192</td>\n",
              "      <td>0.683642</td>\n",
              "      <td>0.897476</td>\n",
              "      <td>0.742714</td>\n",
              "      <td>0.879613</td>\n",
              "      <td>0.856714</td>\n",
              "      <td>0.066875</td>\n",
              "      <td>0.924109</td>\n",
              "      <td>0.025320</td>\n",
              "      <td>0.706044</td>\n",
              "      <td>0.323042</td>\n",
              "      <td>0.732412</td>\n",
              "      <td>0.000000</td>\n",
              "      <td>0.00000</td>\n",
              "      <td>0.000000</td>\n",
              "      <td>0.000000</td>\n",
              "      <td>0.000000</td>\n",
              "      <td>0.000000</td>\n",
              "      <td>0.000000</td>\n",
              "      <td>0.000000</td>\n",
              "    </tr>\n",
              "    <tr>\n",
              "      <th>1</th>\n",
              "      <td>0.711736</td>\n",
              "      <td>0.699429</td>\n",
              "      <td>0.659813</td>\n",
              "      <td>0.864258</td>\n",
              "      <td>0.619263</td>\n",
              "      <td>0.668362</td>\n",
              "      <td>0.560340</td>\n",
              "      <td>0.557383</td>\n",
              "      <td>0.598605</td>\n",
              "      <td>0.442344</td>\n",
              "      <td>0.799170</td>\n",
              "      <td>0.782822</td>\n",
              "      <td>0.603672</td>\n",
              "      <td>0.828426</td>\n",
              "      <td>0.451171</td>\n",
              "      <td>0.822828</td>\n",
              "      <td>0.495785</td>\n",
              "      <td>0.800117</td>\n",
              "      <td>0.496861</td>\n",
              "      <td>0.666893</td>\n",
              "      <td>0.299414</td>\n",
              "      <td>0.563935</td>\n",
              "      <td>0.079483</td>\n",
              "      <td>0.599468</td>\n",
              "      <td>0.514909</td>\n",
              "      <td>0.695387</td>\n",
              "      <td>0.329108</td>\n",
              "      <td>0.707766</td>\n",
              "      <td>0.077084</td>\n",
              "      <td>0.718698</td>\n",
              "      <td>0.882169</td>\n",
              "      <td>0.679411</td>\n",
              "      <td>0.895286</td>\n",
              "      <td>0.722176</td>\n",
              "      <td>0.881859</td>\n",
              "      <td>0.839759</td>\n",
              "      <td>0.064597</td>\n",
              "      <td>0.924122</td>\n",
              "      <td>0.025296</td>\n",
              "      <td>0.710259</td>\n",
              "      <td>0.311824</td>\n",
              "      <td>0.724092</td>\n",
              "      <td>0.000000</td>\n",
              "      <td>0.00000</td>\n",
              "      <td>0.000000</td>\n",
              "      <td>0.000000</td>\n",
              "      <td>0.000000</td>\n",
              "      <td>0.000000</td>\n",
              "      <td>0.000000</td>\n",
              "      <td>0.000000</td>\n",
              "    </tr>\n",
              "    <tr>\n",
              "      <th>2</th>\n",
              "      <td>0.706211</td>\n",
              "      <td>0.694943</td>\n",
              "      <td>0.659813</td>\n",
              "      <td>0.859771</td>\n",
              "      <td>0.617510</td>\n",
              "      <td>0.676857</td>\n",
              "      <td>0.558424</td>\n",
              "      <td>0.586556</td>\n",
              "      <td>0.596106</td>\n",
              "      <td>0.438580</td>\n",
              "      <td>0.801484</td>\n",
              "      <td>0.772639</td>\n",
              "      <td>0.605811</td>\n",
              "      <td>0.818207</td>\n",
              "      <td>0.449010</td>\n",
              "      <td>0.784971</td>\n",
              "      <td>0.482531</td>\n",
              "      <td>0.809030</td>\n",
              "      <td>0.490172</td>\n",
              "      <td>0.683706</td>\n",
              "      <td>0.299378</td>\n",
              "      <td>0.563926</td>\n",
              "      <td>0.079543</td>\n",
              "      <td>0.599490</td>\n",
              "      <td>0.494561</td>\n",
              "      <td>0.698693</td>\n",
              "      <td>0.324576</td>\n",
              "      <td>0.704572</td>\n",
              "      <td>0.104173</td>\n",
              "      <td>0.712117</td>\n",
              "      <td>0.879943</td>\n",
              "      <td>0.670980</td>\n",
              "      <td>0.890698</td>\n",
              "      <td>0.709792</td>\n",
              "      <td>0.879706</td>\n",
              "      <td>0.827397</td>\n",
              "      <td>0.004944</td>\n",
              "      <td>0.696425</td>\n",
              "      <td>0.330551</td>\n",
              "      <td>0.731340</td>\n",
              "      <td>0.311824</td>\n",
              "      <td>0.724092</td>\n",
              "      <td>0.000000</td>\n",
              "      <td>0.00000</td>\n",
              "      <td>0.000000</td>\n",
              "      <td>0.000000</td>\n",
              "      <td>0.000000</td>\n",
              "      <td>0.000000</td>\n",
              "      <td>0.000000</td>\n",
              "      <td>0.000000</td>\n",
              "    </tr>\n",
              "    <tr>\n",
              "      <th>3</th>\n",
              "      <td>0.702557</td>\n",
              "      <td>0.690748</td>\n",
              "      <td>0.661703</td>\n",
              "      <td>0.864284</td>\n",
              "      <td>0.615695</td>\n",
              "      <td>0.702588</td>\n",
              "      <td>0.558341</td>\n",
              "      <td>0.603682</td>\n",
              "      <td>0.596043</td>\n",
              "      <td>0.446025</td>\n",
              "      <td>0.803751</td>\n",
              "      <td>0.762267</td>\n",
              "      <td>0.603687</td>\n",
              "      <td>0.794641</td>\n",
              "      <td>0.459799</td>\n",
              "      <td>0.753375</td>\n",
              "      <td>0.498006</td>\n",
              "      <td>0.808998</td>\n",
              "      <td>0.505803</td>\n",
              "      <td>0.683701</td>\n",
              "      <td>0.310504</td>\n",
              "      <td>0.563895</td>\n",
              "      <td>0.079510</td>\n",
              "      <td>0.599486</td>\n",
              "      <td>0.508114</td>\n",
              "      <td>0.695296</td>\n",
              "      <td>0.313371</td>\n",
              "      <td>0.704521</td>\n",
              "      <td>0.079362</td>\n",
              "      <td>0.715444</td>\n",
              "      <td>0.877679</td>\n",
              "      <td>0.662741</td>\n",
              "      <td>0.883960</td>\n",
              "      <td>0.705524</td>\n",
              "      <td>0.881836</td>\n",
              "      <td>0.822871</td>\n",
              "      <td>0.066929</td>\n",
              "      <td>0.924228</td>\n",
              "      <td>0.025341</td>\n",
              "      <td>0.689287</td>\n",
              "      <td>0.311597</td>\n",
              "      <td>0.728162</td>\n",
              "      <td>0.000000</td>\n",
              "      <td>0.00000</td>\n",
              "      <td>0.000000</td>\n",
              "      <td>0.000000</td>\n",
              "      <td>0.000000</td>\n",
              "      <td>0.000000</td>\n",
              "      <td>0.000000</td>\n",
              "      <td>0.000000</td>\n",
              "    </tr>\n",
              "    <tr>\n",
              "      <th>4</th>\n",
              "      <td>0.702432</td>\n",
              "      <td>0.686544</td>\n",
              "      <td>0.661741</td>\n",
              "      <td>0.864271</td>\n",
              "      <td>0.615664</td>\n",
              "      <td>0.711434</td>\n",
              "      <td>0.564285</td>\n",
              "      <td>0.637360</td>\n",
              "      <td>0.596093</td>\n",
              "      <td>0.464562</td>\n",
              "      <td>0.803727</td>\n",
              "      <td>0.755269</td>\n",
              "      <td>0.605881</td>\n",
              "      <td>0.767752</td>\n",
              "      <td>0.457717</td>\n",
              "      <td>0.718482</td>\n",
              "      <td>0.486963</td>\n",
              "      <td>0.809025</td>\n",
              "      <td>0.494629</td>\n",
              "      <td>0.687900</td>\n",
              "      <td>0.308274</td>\n",
              "      <td>0.567284</td>\n",
              "      <td>0.081766</td>\n",
              "      <td>0.599515</td>\n",
              "      <td>0.496847</td>\n",
              "      <td>0.691929</td>\n",
              "      <td>0.322325</td>\n",
              "      <td>0.704469</td>\n",
              "      <td>0.153828</td>\n",
              "      <td>0.721976</td>\n",
              "      <td>0.877594</td>\n",
              "      <td>0.658510</td>\n",
              "      <td>0.883852</td>\n",
              "      <td>0.697350</td>\n",
              "      <td>0.879659</td>\n",
              "      <td>0.818589</td>\n",
              "      <td>0.066929</td>\n",
              "      <td>0.924228</td>\n",
              "      <td>0.025341</td>\n",
              "      <td>0.689287</td>\n",
              "      <td>0.311597</td>\n",
              "      <td>0.728162</td>\n",
              "      <td>0.000000</td>\n",
              "      <td>0.00000</td>\n",
              "      <td>0.000000</td>\n",
              "      <td>0.000000</td>\n",
              "      <td>0.000000</td>\n",
              "      <td>0.000000</td>\n",
              "      <td>0.000000</td>\n",
              "      <td>0.000000</td>\n",
              "    </tr>\n",
              "    <tr>\n",
              "      <th>...</th>\n",
              "      <td>...</td>\n",
              "      <td>...</td>\n",
              "      <td>...</td>\n",
              "      <td>...</td>\n",
              "      <td>...</td>\n",
              "      <td>...</td>\n",
              "      <td>...</td>\n",
              "      <td>...</td>\n",
              "      <td>...</td>\n",
              "      <td>...</td>\n",
              "      <td>...</td>\n",
              "      <td>...</td>\n",
              "      <td>...</td>\n",
              "      <td>...</td>\n",
              "      <td>...</td>\n",
              "      <td>...</td>\n",
              "      <td>...</td>\n",
              "      <td>...</td>\n",
              "      <td>...</td>\n",
              "      <td>...</td>\n",
              "      <td>...</td>\n",
              "      <td>...</td>\n",
              "      <td>...</td>\n",
              "      <td>...</td>\n",
              "      <td>...</td>\n",
              "      <td>...</td>\n",
              "      <td>...</td>\n",
              "      <td>...</td>\n",
              "      <td>...</td>\n",
              "      <td>...</td>\n",
              "      <td>...</td>\n",
              "      <td>...</td>\n",
              "      <td>...</td>\n",
              "      <td>...</td>\n",
              "      <td>...</td>\n",
              "      <td>...</td>\n",
              "      <td>...</td>\n",
              "      <td>...</td>\n",
              "      <td>...</td>\n",
              "      <td>...</td>\n",
              "      <td>...</td>\n",
              "      <td>...</td>\n",
              "      <td>...</td>\n",
              "      <td>...</td>\n",
              "      <td>...</td>\n",
              "      <td>...</td>\n",
              "      <td>...</td>\n",
              "      <td>...</td>\n",
              "      <td>...</td>\n",
              "      <td>...</td>\n",
              "    </tr>\n",
              "    <tr>\n",
              "      <th>3878</th>\n",
              "      <td>0.715352</td>\n",
              "      <td>0.796485</td>\n",
              "      <td>0.665541</td>\n",
              "      <td>0.868823</td>\n",
              "      <td>0.630140</td>\n",
              "      <td>0.651158</td>\n",
              "      <td>0.560409</td>\n",
              "      <td>0.531945</td>\n",
              "      <td>0.578475</td>\n",
              "      <td>0.460843</td>\n",
              "      <td>0.799107</td>\n",
              "      <td>0.803559</td>\n",
              "      <td>0.623562</td>\n",
              "      <td>0.848508</td>\n",
              "      <td>0.477350</td>\n",
              "      <td>0.797594</td>\n",
              "      <td>0.500220</td>\n",
              "      <td>0.831284</td>\n",
              "      <td>0.508008</td>\n",
              "      <td>0.688074</td>\n",
              "      <td>0.279307</td>\n",
              "      <td>0.563895</td>\n",
              "      <td>0.077282</td>\n",
              "      <td>0.596222</td>\n",
              "      <td>0.514983</td>\n",
              "      <td>0.722687</td>\n",
              "      <td>0.315618</td>\n",
              "      <td>0.711149</td>\n",
              "      <td>0.081575</td>\n",
              "      <td>0.708828</td>\n",
              "      <td>0.891157</td>\n",
              "      <td>0.750333</td>\n",
              "      <td>0.899766</td>\n",
              "      <td>0.813614</td>\n",
              "      <td>0.888675</td>\n",
              "      <td>0.721832</td>\n",
              "      <td>0.894588</td>\n",
              "      <td>0.890498</td>\n",
              "      <td>0.031115</td>\n",
              "      <td>0.718673</td>\n",
              "      <td>0.323173</td>\n",
              "      <td>0.724106</td>\n",
              "      <td>0.459747</td>\n",
              "      <td>0.76577</td>\n",
              "      <td>0.583072</td>\n",
              "      <td>0.930108</td>\n",
              "      <td>0.547859</td>\n",
              "      <td>0.972056</td>\n",
              "      <td>0.659989</td>\n",
              "      <td>0.999983</td>\n",
              "    </tr>\n",
              "    <tr>\n",
              "      <th>3879</th>\n",
              "      <td>0.715421</td>\n",
              "      <td>0.792523</td>\n",
              "      <td>0.665502</td>\n",
              "      <td>0.868755</td>\n",
              "      <td>0.628313</td>\n",
              "      <td>0.655333</td>\n",
              "      <td>0.560424</td>\n",
              "      <td>0.531941</td>\n",
              "      <td>0.583497</td>\n",
              "      <td>0.430979</td>\n",
              "      <td>0.801421</td>\n",
              "      <td>0.803565</td>\n",
              "      <td>0.614719</td>\n",
              "      <td>0.845139</td>\n",
              "      <td>0.477332</td>\n",
              "      <td>0.772192</td>\n",
              "      <td>0.498018</td>\n",
              "      <td>0.822380</td>\n",
              "      <td>0.505793</td>\n",
              "      <td>0.683748</td>\n",
              "      <td>0.285977</td>\n",
              "      <td>0.563859</td>\n",
              "      <td>0.079517</td>\n",
              "      <td>0.596212</td>\n",
              "      <td>0.514934</td>\n",
              "      <td>0.709044</td>\n",
              "      <td>0.320078</td>\n",
              "      <td>0.707796</td>\n",
              "      <td>0.079315</td>\n",
              "      <td>0.712125</td>\n",
              "      <td>0.893405</td>\n",
              "      <td>0.750043</td>\n",
              "      <td>0.899913</td>\n",
              "      <td>0.813464</td>\n",
              "      <td>0.884175</td>\n",
              "      <td>0.717522</td>\n",
              "      <td>0.901451</td>\n",
              "      <td>0.890439</td>\n",
              "      <td>0.272043</td>\n",
              "      <td>0.882370</td>\n",
              "      <td>0.334573</td>\n",
              "      <td>0.765815</td>\n",
              "      <td>0.459740</td>\n",
              "      <td>0.77016</td>\n",
              "      <td>0.583072</td>\n",
              "      <td>0.930108</td>\n",
              "      <td>0.547859</td>\n",
              "      <td>0.972056</td>\n",
              "      <td>0.659989</td>\n",
              "      <td>0.999983</td>\n",
              "    </tr>\n",
              "    <tr>\n",
              "      <th>3880</th>\n",
              "      <td>0.715421</td>\n",
              "      <td>0.792529</td>\n",
              "      <td>0.663703</td>\n",
              "      <td>0.855333</td>\n",
              "      <td>0.626486</td>\n",
              "      <td>0.668115</td>\n",
              "      <td>0.566260</td>\n",
              "      <td>0.548814</td>\n",
              "      <td>0.588576</td>\n",
              "      <td>0.412342</td>\n",
              "      <td>0.803743</td>\n",
              "      <td>0.789853</td>\n",
              "      <td>0.619114</td>\n",
              "      <td>0.825093</td>\n",
              "      <td>0.479483</td>\n",
              "      <td>0.724969</td>\n",
              "      <td>0.484749</td>\n",
              "      <td>0.831062</td>\n",
              "      <td>0.496844</td>\n",
              "      <td>0.687943</td>\n",
              "      <td>0.297143</td>\n",
              "      <td>0.563956</td>\n",
              "      <td>0.081789</td>\n",
              "      <td>0.596194</td>\n",
              "      <td>0.496771</td>\n",
              "      <td>0.705642</td>\n",
              "      <td>0.313337</td>\n",
              "      <td>0.704537</td>\n",
              "      <td>0.081653</td>\n",
              "      <td>0.712062</td>\n",
              "      <td>0.891149</td>\n",
              "      <td>0.745847</td>\n",
              "      <td>0.899874</td>\n",
              "      <td>0.813283</td>\n",
              "      <td>0.881906</td>\n",
              "      <td>0.700786</td>\n",
              "      <td>0.901436</td>\n",
              "      <td>0.886230</td>\n",
              "      <td>0.025309</td>\n",
              "      <td>0.697693</td>\n",
              "      <td>0.357529</td>\n",
              "      <td>0.732417</td>\n",
              "      <td>0.459740</td>\n",
              "      <td>0.77016</td>\n",
              "      <td>0.583072</td>\n",
              "      <td>0.930108</td>\n",
              "      <td>0.547859</td>\n",
              "      <td>0.972056</td>\n",
              "      <td>0.659989</td>\n",
              "      <td>0.999983</td>\n",
              "    </tr>\n",
              "    <tr>\n",
              "      <th>3881</th>\n",
              "      <td>0.715402</td>\n",
              "      <td>0.779661</td>\n",
              "      <td>0.665508</td>\n",
              "      <td>0.864271</td>\n",
              "      <td>0.626425</td>\n",
              "      <td>0.672781</td>\n",
              "      <td>0.566286</td>\n",
              "      <td>0.557392</td>\n",
              "      <td>0.591085</td>\n",
              "      <td>0.408673</td>\n",
              "      <td>0.806159</td>\n",
              "      <td>0.786307</td>\n",
              "      <td>0.621275</td>\n",
              "      <td>0.801484</td>\n",
              "      <td>0.483876</td>\n",
              "      <td>0.696447</td>\n",
              "      <td>0.504603</td>\n",
              "      <td>0.817870</td>\n",
              "      <td>0.508033</td>\n",
              "      <td>0.687960</td>\n",
              "      <td>0.288236</td>\n",
              "      <td>0.567361</td>\n",
              "      <td>0.086353</td>\n",
              "      <td>0.596167</td>\n",
              "      <td>0.519481</td>\n",
              "      <td>0.698741</td>\n",
              "      <td>0.344870</td>\n",
              "      <td>0.707919</td>\n",
              "      <td>0.151542</td>\n",
              "      <td>0.722052</td>\n",
              "      <td>0.888939</td>\n",
              "      <td>0.733517</td>\n",
              "      <td>0.899889</td>\n",
              "      <td>0.805004</td>\n",
              "      <td>0.884137</td>\n",
              "      <td>0.700677</td>\n",
              "      <td>0.903679</td>\n",
              "      <td>0.869360</td>\n",
              "      <td>0.025309</td>\n",
              "      <td>0.697693</td>\n",
              "      <td>0.357529</td>\n",
              "      <td>0.732417</td>\n",
              "      <td>0.459740</td>\n",
              "      <td>0.77016</td>\n",
              "      <td>0.583072</td>\n",
              "      <td>0.930108</td>\n",
              "      <td>0.547859</td>\n",
              "      <td>0.972056</td>\n",
              "      <td>0.659989</td>\n",
              "      <td>0.999983</td>\n",
              "    </tr>\n",
              "    <tr>\n",
              "      <th>3882</th>\n",
              "      <td>0.715471</td>\n",
              "      <td>0.771315</td>\n",
              "      <td>0.665528</td>\n",
              "      <td>0.873251</td>\n",
              "      <td>0.619312</td>\n",
              "      <td>0.694092</td>\n",
              "      <td>0.558332</td>\n",
              "      <td>0.582347</td>\n",
              "      <td>0.593519</td>\n",
              "      <td>0.427154</td>\n",
              "      <td>0.815328</td>\n",
              "      <td>0.779402</td>\n",
              "      <td>0.625688</td>\n",
              "      <td>0.774539</td>\n",
              "      <td>0.479518</td>\n",
              "      <td>0.645885</td>\n",
              "      <td>0.491365</td>\n",
              "      <td>0.804514</td>\n",
              "      <td>0.494624</td>\n",
              "      <td>0.683689</td>\n",
              "      <td>0.301610</td>\n",
              "      <td>0.563899</td>\n",
              "      <td>0.081838</td>\n",
              "      <td>0.596164</td>\n",
              "      <td>0.499094</td>\n",
              "      <td>0.691940</td>\n",
              "      <td>0.349363</td>\n",
              "      <td>0.704580</td>\n",
              "      <td>0.079311</td>\n",
              "      <td>0.708844</td>\n",
              "      <td>0.891203</td>\n",
              "      <td>0.729392</td>\n",
              "      <td>0.899851</td>\n",
              "      <td>0.796873</td>\n",
              "      <td>0.879582</td>\n",
              "      <td>0.709111</td>\n",
              "      <td>0.901436</td>\n",
              "      <td>0.865225</td>\n",
              "      <td>0.025309</td>\n",
              "      <td>0.697693</td>\n",
              "      <td>0.357529</td>\n",
              "      <td>0.732417</td>\n",
              "      <td>0.459740</td>\n",
              "      <td>0.77016</td>\n",
              "      <td>0.583072</td>\n",
              "      <td>0.930108</td>\n",
              "      <td>0.547859</td>\n",
              "      <td>0.972056</td>\n",
              "      <td>0.659989</td>\n",
              "      <td>0.999983</td>\n",
              "    </tr>\n",
              "  </tbody>\n",
              "</table>\n",
              "<p>3883 rows × 50 columns</p>\n",
              "</div>"
            ],
            "text/plain": [
              "            0         1         2   ...        47        48        49\n",
              "0     0.709859  0.724448  0.659839  ...  0.000000  0.000000  0.000000\n",
              "1     0.711736  0.699429  0.659813  ...  0.000000  0.000000  0.000000\n",
              "2     0.706211  0.694943  0.659813  ...  0.000000  0.000000  0.000000\n",
              "3     0.702557  0.690748  0.661703  ...  0.000000  0.000000  0.000000\n",
              "4     0.702432  0.686544  0.661741  ...  0.000000  0.000000  0.000000\n",
              "...        ...       ...       ...  ...       ...       ...       ...\n",
              "3878  0.715352  0.796485  0.665541  ...  0.972056  0.659989  0.999983\n",
              "3879  0.715421  0.792523  0.665502  ...  0.972056  0.659989  0.999983\n",
              "3880  0.715421  0.792529  0.663703  ...  0.972056  0.659989  0.999983\n",
              "3881  0.715402  0.779661  0.665508  ...  0.972056  0.659989  0.999983\n",
              "3882  0.715471  0.771315  0.665528  ...  0.972056  0.659989  0.999983\n",
              "\n",
              "[3883 rows x 50 columns]"
            ]
          },
          "metadata": {
            "tags": []
          },
          "execution_count": 123
        }
      ]
    },
    {
      "cell_type": "markdown",
      "metadata": {
        "id": "GxI0H0PTzQw9",
        "colab_type": "text"
      },
      "source": [
        "I have given one output for 90 frames and hence always taken the input data as multiples of 90."
      ]
    },
    {
      "cell_type": "markdown",
      "metadata": {
        "id": "pBvVTvF8zfAz",
        "colab_type": "text"
      },
      "source": [
        "Loading the data and Reshaping the values as **(Samples,Timesteps,Features)** using numpys reshape method"
      ]
    },
    {
      "cell_type": "code",
      "metadata": {
        "id": "H6IiTp0zdVWo",
        "colab_type": "code",
        "colab": {}
      },
      "source": [
        "finalx=pd.read_csv('../content/DATA.csv')\n",
        "finaly=np.loadtxt('../content/Y', delimiter=',')\n",
        "valx=pd.read_csv('../content/valx.csv')\n",
        "valy=np.loadtxt('../content/valy', delimiter=',')"
      ],
      "execution_count": 0,
      "outputs": []
    },
    {
      "cell_type": "code",
      "metadata": {
        "id": "R-ImeB4q2y8t",
        "colab_type": "code",
        "outputId": "c96c8c8f-1ea2-4da0-f094-1c4de93b4180",
        "colab": {
          "base_uri": "https://localhost:8080/",
          "height": 456
        }
      },
      "source": [
        "finalx"
      ],
      "execution_count": 0,
      "outputs": [
        {
          "output_type": "execute_result",
          "data": {
            "text/html": [
              "<div>\n",
              "<style scoped>\n",
              "    .dataframe tbody tr th:only-of-type {\n",
              "        vertical-align: middle;\n",
              "    }\n",
              "\n",
              "    .dataframe tbody tr th {\n",
              "        vertical-align: top;\n",
              "    }\n",
              "\n",
              "    .dataframe thead th {\n",
              "        text-align: right;\n",
              "    }\n",
              "</style>\n",
              "<table border=\"1\" class=\"dataframe\">\n",
              "  <thead>\n",
              "    <tr style=\"text-align: right;\">\n",
              "      <th></th>\n",
              "      <th>Unnamed: 0</th>\n",
              "      <th>0</th>\n",
              "      <th>1</th>\n",
              "      <th>2</th>\n",
              "      <th>3</th>\n",
              "      <th>4</th>\n",
              "      <th>5</th>\n",
              "      <th>6</th>\n",
              "      <th>7</th>\n",
              "      <th>8</th>\n",
              "      <th>9</th>\n",
              "      <th>10</th>\n",
              "      <th>11</th>\n",
              "      <th>12</th>\n",
              "      <th>13</th>\n",
              "      <th>14</th>\n",
              "      <th>15</th>\n",
              "      <th>16</th>\n",
              "      <th>17</th>\n",
              "      <th>18</th>\n",
              "      <th>19</th>\n",
              "      <th>20</th>\n",
              "      <th>21</th>\n",
              "      <th>22</th>\n",
              "      <th>23</th>\n",
              "      <th>24</th>\n",
              "      <th>25</th>\n",
              "      <th>26</th>\n",
              "      <th>27</th>\n",
              "      <th>28</th>\n",
              "      <th>29</th>\n",
              "    </tr>\n",
              "  </thead>\n",
              "  <tbody>\n",
              "    <tr>\n",
              "      <th>0</th>\n",
              "      <td>0</td>\n",
              "      <td>0.767043</td>\n",
              "      <td>0.935773</td>\n",
              "      <td>0.983416</td>\n",
              "      <td>0.807895</td>\n",
              "      <td>0.767855</td>\n",
              "      <td>0.950719</td>\n",
              "      <td>0.821064</td>\n",
              "      <td>0.927059</td>\n",
              "      <td>0.987307</td>\n",
              "      <td>0.939957</td>\n",
              "      <td>0.804025</td>\n",
              "      <td>0.913907</td>\n",
              "      <td>0.810659</td>\n",
              "      <td>0.922904</td>\n",
              "      <td>0.992343</td>\n",
              "      <td>0.707378</td>\n",
              "      <td>0.966012</td>\n",
              "      <td>0.904082</td>\n",
              "      <td>0.777627</td>\n",
              "      <td>0.944541</td>\n",
              "      <td>0.803255</td>\n",
              "      <td>0.897625</td>\n",
              "      <td>0.996503</td>\n",
              "      <td>0.692278</td>\n",
              "      <td>0.659681</td>\n",
              "      <td>0.782173</td>\n",
              "      <td>0.866359</td>\n",
              "      <td>0.837813</td>\n",
              "      <td>0.987835</td>\n",
              "      <td>0.965068</td>\n",
              "    </tr>\n",
              "    <tr>\n",
              "      <th>1</th>\n",
              "      <td>1</td>\n",
              "      <td>0.762597</td>\n",
              "      <td>0.985161</td>\n",
              "      <td>0.979153</td>\n",
              "      <td>0.841979</td>\n",
              "      <td>0.761379</td>\n",
              "      <td>0.991724</td>\n",
              "      <td>0.813179</td>\n",
              "      <td>0.953896</td>\n",
              "      <td>0.982161</td>\n",
              "      <td>0.969826</td>\n",
              "      <td>0.790836</td>\n",
              "      <td>0.969284</td>\n",
              "      <td>0.805353</td>\n",
              "      <td>0.968146</td>\n",
              "      <td>0.984599</td>\n",
              "      <td>0.747551</td>\n",
              "      <td>0.952943</td>\n",
              "      <td>0.926791</td>\n",
              "      <td>0.769157</td>\n",
              "      <td>0.974441</td>\n",
              "      <td>0.769589</td>\n",
              "      <td>0.913945</td>\n",
              "      <td>0.982616</td>\n",
              "      <td>0.962071</td>\n",
              "      <td>0.650792</td>\n",
              "      <td>0.813789</td>\n",
              "      <td>0.814319</td>\n",
              "      <td>0.807167</td>\n",
              "      <td>0.980912</td>\n",
              "      <td>0.991205</td>\n",
              "    </tr>\n",
              "    <tr>\n",
              "      <th>2</th>\n",
              "      <td>2</td>\n",
              "      <td>0.758326</td>\n",
              "      <td>0.970430</td>\n",
              "      <td>0.908750</td>\n",
              "      <td>0.833521</td>\n",
              "      <td>0.709744</td>\n",
              "      <td>0.979551</td>\n",
              "      <td>0.771157</td>\n",
              "      <td>0.942496</td>\n",
              "      <td>0.936303</td>\n",
              "      <td>0.999896</td>\n",
              "      <td>0.721071</td>\n",
              "      <td>0.950872</td>\n",
              "      <td>0.752742</td>\n",
              "      <td>0.942396</td>\n",
              "      <td>0.930687</td>\n",
              "      <td>0.692110</td>\n",
              "      <td>0.903183</td>\n",
              "      <td>0.908698</td>\n",
              "      <td>0.733178</td>\n",
              "      <td>0.961527</td>\n",
              "      <td>0.723488</td>\n",
              "      <td>0.934377</td>\n",
              "      <td>0.595610</td>\n",
              "      <td>0.730125</td>\n",
              "      <td>0.820970</td>\n",
              "      <td>0.763870</td>\n",
              "      <td>0.947930</td>\n",
              "      <td>0.715133</td>\n",
              "      <td>0.296990</td>\n",
              "      <td>0.891006</td>\n",
              "    </tr>\n",
              "    <tr>\n",
              "      <th>3</th>\n",
              "      <td>3</td>\n",
              "      <td>0.864259</td>\n",
              "      <td>0.935728</td>\n",
              "      <td>0.975024</td>\n",
              "      <td>0.803443</td>\n",
              "      <td>0.761393</td>\n",
              "      <td>0.946534</td>\n",
              "      <td>0.807948</td>\n",
              "      <td>0.927021</td>\n",
              "      <td>0.971964</td>\n",
              "      <td>0.977382</td>\n",
              "      <td>0.780787</td>\n",
              "      <td>0.901542</td>\n",
              "      <td>0.789620</td>\n",
              "      <td>0.890511</td>\n",
              "      <td>0.966640</td>\n",
              "      <td>0.661671</td>\n",
              "      <td>0.945075</td>\n",
              "      <td>0.894924</td>\n",
              "      <td>0.769121</td>\n",
              "      <td>0.936058</td>\n",
              "      <td>0.753618</td>\n",
              "      <td>0.913935</td>\n",
              "      <td>0.979161</td>\n",
              "      <td>0.696550</td>\n",
              "      <td>0.643680</td>\n",
              "      <td>0.772949</td>\n",
              "      <td>0.817751</td>\n",
              "      <td>0.745780</td>\n",
              "      <td>0.972238</td>\n",
              "      <td>0.720791</td>\n",
              "    </tr>\n",
              "    <tr>\n",
              "      <th>4</th>\n",
              "      <td>4</td>\n",
              "      <td>0.788071</td>\n",
              "      <td>0.965622</td>\n",
              "      <td>0.937775</td>\n",
              "      <td>0.824868</td>\n",
              "      <td>0.735770</td>\n",
              "      <td>0.975372</td>\n",
              "      <td>0.794718</td>\n",
              "      <td>0.934836</td>\n",
              "      <td>0.959254</td>\n",
              "      <td>0.984927</td>\n",
              "      <td>0.740980</td>\n",
              "      <td>0.926161</td>\n",
              "      <td>0.765915</td>\n",
              "      <td>0.909975</td>\n",
              "      <td>0.940980</td>\n",
              "      <td>0.661986</td>\n",
              "      <td>0.931979</td>\n",
              "      <td>0.890455</td>\n",
              "      <td>0.756442</td>\n",
              "      <td>0.935929</td>\n",
              "      <td>0.815655</td>\n",
              "      <td>0.840265</td>\n",
              "      <td>0.954860</td>\n",
              "      <td>0.940940</td>\n",
              "      <td>0.629533</td>\n",
              "      <td>0.763895</td>\n",
              "      <td>0.809082</td>\n",
              "      <td>0.846567</td>\n",
              "      <td>0.953138</td>\n",
              "      <td>0.978137</td>\n",
              "    </tr>\n",
              "    <tr>\n",
              "      <th>...</th>\n",
              "      <td>...</td>\n",
              "      <td>...</td>\n",
              "      <td>...</td>\n",
              "      <td>...</td>\n",
              "      <td>...</td>\n",
              "      <td>...</td>\n",
              "      <td>...</td>\n",
              "      <td>...</td>\n",
              "      <td>...</td>\n",
              "      <td>...</td>\n",
              "      <td>...</td>\n",
              "      <td>...</td>\n",
              "      <td>...</td>\n",
              "      <td>...</td>\n",
              "      <td>...</td>\n",
              "      <td>...</td>\n",
              "      <td>...</td>\n",
              "      <td>...</td>\n",
              "      <td>...</td>\n",
              "      <td>...</td>\n",
              "      <td>...</td>\n",
              "      <td>...</td>\n",
              "      <td>...</td>\n",
              "      <td>...</td>\n",
              "      <td>...</td>\n",
              "      <td>...</td>\n",
              "      <td>...</td>\n",
              "      <td>...</td>\n",
              "      <td>...</td>\n",
              "      <td>...</td>\n",
              "      <td>...</td>\n",
              "    </tr>\n",
              "    <tr>\n",
              "      <th>117145</th>\n",
              "      <td>117145</td>\n",
              "      <td>0.306659</td>\n",
              "      <td>0.441348</td>\n",
              "      <td>0.397861</td>\n",
              "      <td>0.539495</td>\n",
              "      <td>0.381109</td>\n",
              "      <td>0.600015</td>\n",
              "      <td>0.501029</td>\n",
              "      <td>0.647216</td>\n",
              "      <td>0.608714</td>\n",
              "      <td>0.668660</td>\n",
              "      <td>0.383624</td>\n",
              "      <td>0.383792</td>\n",
              "      <td>0.519970</td>\n",
              "      <td>0.371469</td>\n",
              "      <td>0.478239</td>\n",
              "      <td>0.432298</td>\n",
              "      <td>0.561425</td>\n",
              "      <td>0.534200</td>\n",
              "      <td>0.557879</td>\n",
              "      <td>0.592852</td>\n",
              "      <td>0.645805</td>\n",
              "      <td>0.589213</td>\n",
              "      <td>0.773530</td>\n",
              "      <td>0.624817</td>\n",
              "      <td>0.539240</td>\n",
              "      <td>0.457720</td>\n",
              "      <td>0.654854</td>\n",
              "      <td>0.444051</td>\n",
              "      <td>0.863700</td>\n",
              "      <td>0.405669</td>\n",
              "    </tr>\n",
              "    <tr>\n",
              "      <th>117146</th>\n",
              "      <td>117146</td>\n",
              "      <td>0.306613</td>\n",
              "      <td>0.460517</td>\n",
              "      <td>0.399777</td>\n",
              "      <td>0.554427</td>\n",
              "      <td>0.388545</td>\n",
              "      <td>0.602903</td>\n",
              "      <td>0.504858</td>\n",
              "      <td>0.658263</td>\n",
              "      <td>0.608702</td>\n",
              "      <td>0.684931</td>\n",
              "      <td>0.383637</td>\n",
              "      <td>0.389366</td>\n",
              "      <td>0.518074</td>\n",
              "      <td>0.374691</td>\n",
              "      <td>0.478243</td>\n",
              "      <td>0.459466</td>\n",
              "      <td>0.559649</td>\n",
              "      <td>0.548265</td>\n",
              "      <td>0.550792</td>\n",
              "      <td>0.604120</td>\n",
              "      <td>0.647478</td>\n",
              "      <td>0.597338</td>\n",
              "      <td>0.773530</td>\n",
              "      <td>0.619294</td>\n",
              "      <td>0.537544</td>\n",
              "      <td>0.460526</td>\n",
              "      <td>0.693955</td>\n",
              "      <td>0.435822</td>\n",
              "      <td>0.867091</td>\n",
              "      <td>0.405696</td>\n",
              "    </tr>\n",
              "    <tr>\n",
              "      <th>117147</th>\n",
              "      <td>117147</td>\n",
              "      <td>0.312864</td>\n",
              "      <td>0.487806</td>\n",
              "      <td>0.399803</td>\n",
              "      <td>0.566474</td>\n",
              "      <td>0.396018</td>\n",
              "      <td>0.622013</td>\n",
              "      <td>0.504858</td>\n",
              "      <td>0.658499</td>\n",
              "      <td>0.608712</td>\n",
              "      <td>0.690449</td>\n",
              "      <td>0.381783</td>\n",
              "      <td>0.405816</td>\n",
              "      <td>0.516192</td>\n",
              "      <td>0.392419</td>\n",
              "      <td>0.483692</td>\n",
              "      <td>0.480677</td>\n",
              "      <td>0.572061</td>\n",
              "      <td>0.556717</td>\n",
              "      <td>0.566777</td>\n",
              "      <td>0.612532</td>\n",
              "      <td>0.659410</td>\n",
              "      <td>0.602855</td>\n",
              "      <td>0.771794</td>\n",
              "      <td>0.619270</td>\n",
              "      <td>0.542645</td>\n",
              "      <td>0.474168</td>\n",
              "      <td>0.627658</td>\n",
              "      <td>0.449606</td>\n",
              "      <td>0.702119</td>\n",
              "      <td>0.438591</td>\n",
              "    </tr>\n",
              "    <tr>\n",
              "      <th>117148</th>\n",
              "      <td>117148</td>\n",
              "      <td>0.314970</td>\n",
              "      <td>0.512431</td>\n",
              "      <td>0.401766</td>\n",
              "      <td>0.572573</td>\n",
              "      <td>0.396100</td>\n",
              "      <td>0.619335</td>\n",
              "      <td>0.495478</td>\n",
              "      <td>0.661230</td>\n",
              "      <td>0.608741</td>\n",
              "      <td>0.706821</td>\n",
              "      <td>0.383580</td>\n",
              "      <td>0.424869</td>\n",
              "      <td>0.512476</td>\n",
              "      <td>0.398631</td>\n",
              "      <td>0.481871</td>\n",
              "      <td>0.519984</td>\n",
              "      <td>0.572066</td>\n",
              "      <td>0.553951</td>\n",
              "      <td>0.568519</td>\n",
              "      <td>0.615306</td>\n",
              "      <td>0.644104</td>\n",
              "      <td>0.611101</td>\n",
              "      <td>0.765018</td>\n",
              "      <td>0.619228</td>\n",
              "      <td>0.547749</td>\n",
              "      <td>0.476914</td>\n",
              "      <td>0.619161</td>\n",
              "      <td>0.463186</td>\n",
              "      <td>0.246000</td>\n",
              "      <td>0.534449</td>\n",
              "    </tr>\n",
              "    <tr>\n",
              "      <th>117149</th>\n",
              "      <td>117149</td>\n",
              "      <td>0.321087</td>\n",
              "      <td>0.531618</td>\n",
              "      <td>0.403681</td>\n",
              "      <td>0.590615</td>\n",
              "      <td>0.397969</td>\n",
              "      <td>0.638505</td>\n",
              "      <td>0.516109</td>\n",
              "      <td>0.677895</td>\n",
              "      <td>0.608787</td>\n",
              "      <td>0.712359</td>\n",
              "      <td>0.383666</td>\n",
              "      <td>0.435857</td>\n",
              "      <td>0.510538</td>\n",
              "      <td>0.416489</td>\n",
              "      <td>0.485481</td>\n",
              "      <td>0.550118</td>\n",
              "      <td>0.577441</td>\n",
              "      <td>0.568034</td>\n",
              "      <td>0.575630</td>\n",
              "      <td>0.618175</td>\n",
              "      <td>0.647530</td>\n",
              "      <td>0.621945</td>\n",
              "      <td>0.771823</td>\n",
              "      <td>0.627495</td>\n",
              "      <td>0.551144</td>\n",
              "      <td>0.493423</td>\n",
              "      <td>0.700788</td>\n",
              "      <td>0.452303</td>\n",
              "      <td>0.862031</td>\n",
              "      <td>0.408418</td>\n",
              "    </tr>\n",
              "  </tbody>\n",
              "</table>\n",
              "<p>117150 rows × 31 columns</p>\n",
              "</div>"
            ],
            "text/plain": [
              "        Unnamed: 0         0         1  ...        27        28        29\n",
              "0                0  0.767043  0.935773  ...  0.837813  0.987835  0.965068\n",
              "1                1  0.762597  0.985161  ...  0.807167  0.980912  0.991205\n",
              "2                2  0.758326  0.970430  ...  0.715133  0.296990  0.891006\n",
              "3                3  0.864259  0.935728  ...  0.745780  0.972238  0.720791\n",
              "4                4  0.788071  0.965622  ...  0.846567  0.953138  0.978137\n",
              "...            ...       ...       ...  ...       ...       ...       ...\n",
              "117145      117145  0.306659  0.441348  ...  0.444051  0.863700  0.405669\n",
              "117146      117146  0.306613  0.460517  ...  0.435822  0.867091  0.405696\n",
              "117147      117147  0.312864  0.487806  ...  0.449606  0.702119  0.438591\n",
              "117148      117148  0.314970  0.512431  ...  0.463186  0.246000  0.534449\n",
              "117149      117149  0.321087  0.531618  ...  0.452303  0.862031  0.408418\n",
              "\n",
              "[117150 rows x 31 columns]"
            ]
          },
          "metadata": {
            "tags": []
          },
          "execution_count": 21
        }
      ]
    },
    {
      "cell_type": "code",
      "metadata": {
        "id": "TOq-bf9CfPVY",
        "colab_type": "code",
        "colab": {}
      },
      "source": [
        "finalx=finalx.iloc[:117135,1:]\n",
        "finaly=finaly[:117135]"
      ],
      "execution_count": 0,
      "outputs": []
    },
    {
      "cell_type": "code",
      "metadata": {
        "id": "yOgQINDb16gU",
        "colab_type": "code",
        "colab": {}
      },
      "source": [
        "\n",
        "finalx=finalx.fillna(method='ffill')\n",
        "valx=valx.fillna(method='ffill')"
      ],
      "execution_count": 0,
      "outputs": []
    },
    {
      "cell_type": "code",
      "metadata": {
        "id": "vJ_BM-BP4Bns",
        "colab_type": "code",
        "colab": {}
      },
      "source": [
        "x,y=finalx.shape\n",
        "#a=finalx.iloc[::2,:]\n"
      ],
      "execution_count": 0,
      "outputs": []
    },
    {
      "cell_type": "code",
      "metadata": {
        "id": "j9tYZKaYxpqR",
        "colab_type": "code",
        "colab": {}
      },
      "source": [
        "#sam=a.values\n",
        "sam=finalx.values"
      ],
      "execution_count": 0,
      "outputs": []
    },
    {
      "cell_type": "code",
      "metadata": {
        "id": "774Xvram04SR",
        "colab_type": "code",
        "colab": {}
      },
      "source": [
        "out=pd.DataFrame(finaly)"
      ],
      "execution_count": 0,
      "outputs": []
    },
    {
      "cell_type": "code",
      "metadata": {
        "id": "RRpOUnBE6sEV",
        "colab_type": "code",
        "colab": {}
      },
      "source": [
        "#out=out.iloc[::2,:]"
      ],
      "execution_count": 0,
      "outputs": []
    },
    {
      "cell_type": "code",
      "metadata": {
        "id": "VyjYdi1j63M2",
        "colab_type": "code",
        "colab": {}
      },
      "source": [
        "out=out.values"
      ],
      "execution_count": 0,
      "outputs": []
    },
    {
      "cell_type": "code",
      "metadata": {
        "id": "BjTLq0DY3OZZ",
        "colab_type": "code",
        "outputId": "3ebc0880-8b25-418d-bbb3-0089f5fb3ebe",
        "colab": {
          "base_uri": "https://localhost:8080/",
          "height": 34
        }
      },
      "source": [
        "out.shape"
      ],
      "execution_count": 0,
      "outputs": [
        {
          "output_type": "execute_result",
          "data": {
            "text/plain": [
              "(117135, 1)"
            ]
          },
          "metadata": {
            "tags": []
          },
          "execution_count": 29
        }
      ]
    },
    {
      "cell_type": "code",
      "metadata": {
        "id": "DRTKdiT3fH5z",
        "colab_type": "code",
        "outputId": "4d9140e8-6eb0-4050-f2c7-39ef41cfb149",
        "colab": {
          "base_uri": "https://localhost:8080/",
          "height": 34
        }
      },
      "source": [
        "sam.shape"
      ],
      "execution_count": 0,
      "outputs": [
        {
          "output_type": "execute_result",
          "data": {
            "text/plain": [
              "(117135, 30)"
            ]
          },
          "metadata": {
            "tags": []
          },
          "execution_count": 30
        }
      ]
    },
    {
      "cell_type": "code",
      "metadata": {
        "id": "_EIFmFMP3HJV",
        "colab_type": "code",
        "colab": {}
      },
      "source": [
        "#finalx=trainx.iloc[:len(finaly),:]\n",
        "X=sam\n",
        "X=X.reshape(int(len(out)/45),45,30)\n",
        "#Y=np.array(finaly)\n",
        "#Y=Y.reshape(len(finaly),1)"
      ],
      "execution_count": 0,
      "outputs": []
    },
    {
      "cell_type": "code",
      "metadata": {
        "id": "57EnYU1mtnCV",
        "colab_type": "code",
        "colab": {}
      },
      "source": [
        "Y=out\n",
        "Y=Y.reshape(int(len(out)/45),45,1)\n"
      ],
      "execution_count": 0,
      "outputs": []
    },
    {
      "cell_type": "code",
      "metadata": {
        "id": "DGx2Q_GseUGi",
        "colab_type": "code",
        "colab": {}
      },
      "source": [
        "x=valx.values\n",
        "x=x.reshape(int(len(valy)/45),45,30)"
      ],
      "execution_count": 0,
      "outputs": []
    },
    {
      "cell_type": "code",
      "metadata": {
        "id": "NpLliEPteUQx",
        "colab_type": "code",
        "colab": {}
      },
      "source": [
        "y=valy\n",
        "y=y.reshape(int(len(valy)/45),45,1)"
      ],
      "execution_count": 0,
      "outputs": []
    },
    {
      "cell_type": "code",
      "metadata": {
        "id": "4r-qZAF_fLvP",
        "colab_type": "code",
        "outputId": "f259b167-8155-47bd-b046-73befab9ea2b",
        "colab": {
          "base_uri": "https://localhost:8080/",
          "height": 34
        }
      },
      "source": [
        "X.shape"
      ],
      "execution_count": 0,
      "outputs": [
        {
          "output_type": "execute_result",
          "data": {
            "text/plain": [
              "(2603, 45, 30)"
            ]
          },
          "metadata": {
            "tags": []
          },
          "execution_count": 35
        }
      ]
    },
    {
      "cell_type": "markdown",
      "metadata": {
        "id": "r83rJTg_0ADb",
        "colab_type": "text"
      },
      "source": [
        "I have used callbacks for **model checkpointing** and **early stopping**"
      ]
    },
    {
      "cell_type": "code",
      "metadata": {
        "id": "eMMOM4Hf4kBh",
        "colab_type": "code",
        "colab": {}
      },
      "source": [
        "from keras.callbacks import EarlyStopping\n",
        "from keras import regularizers\n",
        "import tensorflow as tf\n",
        "from keras.callbacks import ModelCheckpoint\n",
        "checkpoint_path='/content/weights.{epoch:02d}-{val_loss:.2f}.hdf5'\n",
        "callbacks_list=tf.keras.callbacks.ModelCheckpoint(checkpoint_path,save_weights_only=False,save_best_only=True,monitor='loss')\n",
        "es = EarlyStopping(monitor='val_loss', mode='min', verbose=1,patience=5)"
      ],
      "execution_count": 0,
      "outputs": []
    },
    {
      "cell_type": "markdown",
      "metadata": {
        "id": "AbWJbPkE0PY_",
        "colab_type": "text"
      },
      "source": [
        "**Model Architecture**"
      ]
    },
    {
      "cell_type": "code",
      "metadata": {
        "id": "LP-66tNb4qm0",
        "colab_type": "code",
        "colab": {}
      },
      "source": [
        "from keras.layers import Input, Dense, LSTM, MaxPooling1D, Conv1D,Dropout,BatchNormalization,TimeDistributed\n",
        "from keras.models import Model\n",
        "import tensorflow as tf\n",
        "from keras import layers\n",
        "\n",
        "input_layer = Input(shape=(45,30))\n",
        "conv1 = Conv1D(filters=45,kernel_size=5,strides=1,activation='relu',padding='same')(input_layer)\n",
        "lstm1 = LSTM(45,return_sequences=True)(conv1)\n",
        "drop1=Dropout(0.2)(lstm1)\n",
        "lstm2 = LSTM(45,return_sequences=True)(drop1)\n",
        "drop2=Dropout(0.2)(lstm2)\n",
        "hidden1=TimeDistributed(Dense(90,activation='relu'))(drop2)\n",
        "batch1=BatchNormalization()(hidden1)\n",
        "drop3=TimeDistributed(Dropout(0.2))(batch1)\n",
        "\n",
        "input_layer2=Input(shape=(45,30))\n",
        "lstm3=LSTM(45,return_sequences=True)(input_layer2)\n",
        "drop4=Dropout(0.2)(lstm3)\n",
        "lstm4=LSTM(45,return_sequences=True)(drop4)\n",
        "drop5=Dropout(0.2)(lstm4)\n",
        "hidden2=TimeDistributed(Dense(90,activation='relu'))(drop5)\n",
        "batch=BatchNormalization()(hidden2)\n",
        "drop6=TimeDistributed(Dropout(0.2))(batch)\n",
        "\n",
        "concat=layers.concatenate([drop3,drop6],axis=-1)\n",
        "#lstm5=LSTM(45,return_sequences=True)(concat)\n",
        "#final=Dense(45,activation='relu')(lstm5)\n",
        "out=Dense(1,activation='sigmoid')(concat)\n",
        "\n",
        "model = Model(inputs=[input_layer,input_layer2], outputs=out) "
      ],
      "execution_count": 0,
      "outputs": []
    },
    {
      "cell_type": "markdown",
      "metadata": {
        "id": "VoSJWbYc0VSk",
        "colab_type": "text"
      },
      "source": [
        "I have used Adam optimizer and have manually checked the learning rate and selected 0.0001 as the best fit."
      ]
    },
    {
      "cell_type": "code",
      "metadata": {
        "id": "T1A0nH5S4ySa",
        "colab_type": "code",
        "colab": {}
      },
      "source": [
        "\n",
        "adam=tf.keras.optimizers.Adam(lr=0.00002, beta_1=0.9, beta_2=0.999, amsgrad=False)\n",
        "model.compile(optimizer='adam',loss='binary_crossentropy',metrics=['accuracy'])"
      ],
      "execution_count": 0,
      "outputs": []
    },
    {
      "cell_type": "code",
      "metadata": {
        "id": "dtWJgqnFdgPE",
        "colab_type": "code",
        "colab": {}
      },
      "source": [
        "X_train=tf.convert_to_tensor(X, np.float32)\n",
        "X_test=tf.convert_to_tensor(x, np.float32)\n",
        "y_train=tf.convert_to_tensor(Y)\n",
        "y_test=tf.convert_to_tensor(y, np.float32)"
      ],
      "execution_count": 0,
      "outputs": []
    },
    {
      "cell_type": "code",
      "metadata": {
        "id": "NwCpwoeKhDLK",
        "colab_type": "code",
        "outputId": "cf49b38a-b168-4623-c50f-a49987c66bc8",
        "colab": {
          "base_uri": "https://localhost:8080/",
          "height": 34
        }
      },
      "source": [
        "X_train.shape"
      ],
      "execution_count": 0,
      "outputs": [
        {
          "output_type": "execute_result",
          "data": {
            "text/plain": [
              "TensorShape([2603, 45, 30])"
            ]
          },
          "metadata": {
            "tags": []
          },
          "execution_count": 85
        }
      ]
    },
    {
      "cell_type": "code",
      "metadata": {
        "id": "k7N83OB_yXsC",
        "colab_type": "code",
        "colab": {}
      },
      "source": [
        "sw=[]\n",
        "for i in range(2603):\n",
        "    if finaly[i*45:(i+1)*45].all()==1:\n",
        "        sw.append(50)\n",
        "    else:\n",
        "        sw.append(1)\n",
        "sw=np.array(sw)"
      ],
      "execution_count": 0,
      "outputs": []
    },
    {
      "cell_type": "code",
      "metadata": {
        "id": "-j8jLLTby-0y",
        "colab_type": "code",
        "colab": {}
      },
      "source": [
        "#sw=sw.reshape(int(len(finaly)/45),45,1)"
      ],
      "execution_count": 0,
      "outputs": []
    },
    {
      "cell_type": "code",
      "metadata": {
        "id": "GwtXPz4KzWas",
        "colab_type": "code",
        "outputId": "75b57f2d-d9b9-4b78-dc0a-ffb97f20f821",
        "colab": {
          "base_uri": "https://localhost:8080/",
          "height": 34
        }
      },
      "source": [
        "sw.shape"
      ],
      "execution_count": 0,
      "outputs": [
        {
          "output_type": "execute_result",
          "data": {
            "text/plain": [
              "(2603,)"
            ]
          },
          "metadata": {
            "tags": []
          },
          "execution_count": 79
        }
      ]
    },
    {
      "cell_type": "markdown",
      "metadata": {
        "id": "RWsEOB-u0jYs",
        "colab_type": "text"
      },
      "source": [
        "Training the model to 500 epochs using the batch size of 5"
      ]
    },
    {
      "cell_type": "code",
      "metadata": {
        "id": "JgTdCRdQfN3u",
        "colab_type": "code",
        "outputId": "a4abd8c3-56f5-4818-b018-2d7479949eba",
        "colab": {
          "base_uri": "https://localhost:8080/",
          "height": 260
        }
      },
      "source": [
        "class_weights = {0: 1.,1: 2.}\n",
        "history=model.fit([X_train, X_train],y_train,epochs=500,steps_per_epoch=20,validation_data=([x,x],y),validation_steps=1,callbacks=[es])"
      ],
      "execution_count": 54,
      "outputs": [
        {
          "output_type": "stream",
          "text": [
            "Train on 2603 samples, validate on 400 samples\n",
            "Epoch 1/500\n",
            "20/20 [==============================] - 84s 4s/step - loss: 0.3289 - accuracy: 0.8161 - val_loss: 0.6838 - val_accuracy: 0.6957\n",
            "Epoch 2/500\n",
            "20/20 [==============================] - 84s 4s/step - loss: 0.2499 - accuracy: 0.8554 - val_loss: 0.7722 - val_accuracy: 0.6949\n",
            "Epoch 3/500\n",
            "20/20 [==============================] - 85s 4s/step - loss: 0.2219 - accuracy: 0.8726 - val_loss: 0.8318 - val_accuracy: 0.7208\n",
            "Epoch 4/500\n",
            "20/20 [==============================] - 83s 4s/step - loss: 0.2107 - accuracy: 0.8785 - val_loss: 0.9017 - val_accuracy: 0.7348\n",
            "Epoch 5/500\n",
            "20/20 [==============================] - 84s 4s/step - loss: 0.2048 - accuracy: 0.8816 - val_loss: 0.9252 - val_accuracy: 0.7343\n",
            "Epoch 6/500\n",
            "20/20 [==============================] - 84s 4s/step - loss: 0.2009 - accuracy: 0.8838 - val_loss: 0.9783 - val_accuracy: 0.7388\n",
            "Epoch 00006: early stopping\n"
          ],
          "name": "stdout"
        }
      ]
    },
    {
      "cell_type": "code",
      "metadata": {
        "id": "DuRIN1gI1Glk",
        "colab_type": "code",
        "colab": {}
      },
      "source": [
        "from sklearn.metrics import confusion_matrix\n",
        "y_pred=model.predict([x,x])\n"
      ],
      "execution_count": 0,
      "outputs": []
    },
    {
      "cell_type": "code",
      "metadata": {
        "id": "Gy08VNF-1asK",
        "colab_type": "code",
        "colab": {}
      },
      "source": [
        "l=y_pred.flatten()\n",
        "q=[]\n",
        "for i in l:\n",
        "    if i>=0.5:\n",
        "        q.append(1)\n",
        "    else:\n",
        "        q.append(0)\n"
      ],
      "execution_count": 0,
      "outputs": []
    },
    {
      "cell_type": "code",
      "metadata": {
        "id": "We-0IyNM22hJ",
        "colab_type": "code",
        "colab": {}
      },
      "source": [
        "q=np.array(q)"
      ],
      "execution_count": 0,
      "outputs": []
    },
    {
      "cell_type": "code",
      "metadata": {
        "id": "uxMvIrPG3SmB",
        "colab_type": "code",
        "outputId": "7c6ec717-1a8c-4331-fa56-1a07bf6a5b60",
        "colab": {
          "base_uri": "https://localhost:8080/",
          "height": 34
        }
      },
      "source": [
        "len(q)"
      ],
      "execution_count": 0,
      "outputs": [
        {
          "output_type": "execute_result",
          "data": {
            "text/plain": [
              "18000"
            ]
          },
          "metadata": {
            "tags": []
          },
          "execution_count": 97
        }
      ]
    },
    {
      "cell_type": "code",
      "metadata": {
        "id": "bsmwYcxN1WZ9",
        "colab_type": "code",
        "outputId": "21868773-5807-4854-91cb-a7c7f416881a",
        "colab": {
          "base_uri": "https://localhost:8080/",
          "height": 34
        }
      },
      "source": [
        "tn, fp, fn, tp = confusion_matrix(valy, q).ravel()\n",
        "print(tn,tp,fn,fp)"
      ],
      "execution_count": 0,
      "outputs": [
        {
          "output_type": "stream",
          "text": [
            "11202 2886 2964 948\n"
          ],
          "name": "stdout"
        }
      ]
    },
    {
      "cell_type": "code",
      "metadata": {
        "id": "0nSKttIslB28",
        "colab_type": "code",
        "outputId": "664e7498-046e-4233-e594-ebcf0ee5f21f",
        "colab": {
          "base_uri": "https://localhost:8080/",
          "height": 816
        }
      },
      "source": [
        "model.summary()"
      ],
      "execution_count": 0,
      "outputs": [
        {
          "output_type": "stream",
          "text": [
            "Model: \"model_3\"\n",
            "__________________________________________________________________________________________________\n",
            "Layer (type)                    Output Shape         Param #     Connected to                     \n",
            "==================================================================================================\n",
            "input_5 (InputLayer)            (None, 45, 30)       0                                            \n",
            "__________________________________________________________________________________________________\n",
            "conv1d_3 (Conv1D)               (None, 45, 45)       6795        input_5[0][0]                    \n",
            "__________________________________________________________________________________________________\n",
            "input_6 (InputLayer)            (None, 45, 30)       0                                            \n",
            "__________________________________________________________________________________________________\n",
            "lstm_10 (LSTM)                  (None, 45, 45)       16380       conv1d_3[0][0]                   \n",
            "__________________________________________________________________________________________________\n",
            "lstm_12 (LSTM)                  (None, 45, 45)       13680       input_6[0][0]                    \n",
            "__________________________________________________________________________________________________\n",
            "dropout_13 (Dropout)            (None, 45, 45)       0           lstm_10[0][0]                    \n",
            "__________________________________________________________________________________________________\n",
            "dropout_16 (Dropout)            (None, 45, 45)       0           lstm_12[0][0]                    \n",
            "__________________________________________________________________________________________________\n",
            "lstm_11 (LSTM)                  (None, 45, 45)       16380       dropout_13[0][0]                 \n",
            "__________________________________________________________________________________________________\n",
            "lstm_13 (LSTM)                  (None, 45, 45)       16380       dropout_16[0][0]                 \n",
            "__________________________________________________________________________________________________\n",
            "dropout_14 (Dropout)            (None, 45, 45)       0           lstm_11[0][0]                    \n",
            "__________________________________________________________________________________________________\n",
            "dropout_17 (Dropout)            (None, 45, 45)       0           lstm_13[0][0]                    \n",
            "__________________________________________________________________________________________________\n",
            "time_distributed_9 (TimeDistrib (None, 45, 90)       4140        dropout_14[0][0]                 \n",
            "__________________________________________________________________________________________________\n",
            "time_distributed_11 (TimeDistri (None, 45, 90)       4140        dropout_17[0][0]                 \n",
            "__________________________________________________________________________________________________\n",
            "batch_normalization_5 (BatchNor (None, 45, 90)       360         time_distributed_9[0][0]         \n",
            "__________________________________________________________________________________________________\n",
            "batch_normalization_6 (BatchNor (None, 45, 90)       360         time_distributed_11[0][0]        \n",
            "__________________________________________________________________________________________________\n",
            "time_distributed_10 (TimeDistri (None, 45, 90)       0           batch_normalization_5[0][0]      \n",
            "__________________________________________________________________________________________________\n",
            "time_distributed_12 (TimeDistri (None, 45, 90)       0           batch_normalization_6[0][0]      \n",
            "__________________________________________________________________________________________________\n",
            "concatenate_3 (Concatenate)     (None, 45, 180)      0           time_distributed_10[0][0]        \n",
            "                                                                 time_distributed_12[0][0]        \n",
            "__________________________________________________________________________________________________\n",
            "dense_10 (Dense)                (None, 45, 1)        181         concatenate_3[0][0]              \n",
            "==================================================================================================\n",
            "Total params: 78,796\n",
            "Trainable params: 78,436\n",
            "Non-trainable params: 360\n",
            "__________________________________________________________________________________________________\n"
          ],
          "name": "stdout"
        }
      ]
    },
    {
      "cell_type": "code",
      "metadata": {
        "id": "iEmScB5O42v7",
        "colab_type": "code",
        "outputId": "842178b4-d8c8-46a0-e4de-5b76e5403e9c",
        "colab": {
          "base_uri": "https://localhost:8080/",
          "height": 295
        }
      },
      "source": [
        "import matplotlib.pyplot as pyplot\n",
        "pyplot.plot(history.history['loss'])\n",
        "pyplot.plot(history.history['val_loss'])\n",
        "pyplot.title('model train vs validation loss')\n",
        "pyplot.ylabel('loss')\n",
        "pyplot.xlabel('epoch')\n",
        "pyplot.legend(['train', 'validation'], loc='upper right')\n",
        "pyplot.show()"
      ],
      "execution_count": 0,
      "outputs": [
        {
          "output_type": "display_data",
          "data": {
            "image/png": "[encoded data removed]",
            "text/plain": [
              "<Figure size 432x288 with 1 Axes>"
            ]
          },
          "metadata": {
            "tags": [],
            "needs_background": "light"
          }
        }
      ]
    },
    {
      "cell_type": "code",
      "metadata": {
        "id": "yBzf6oQDkFpW",
        "colab_type": "code",
        "outputId": "c44e3357-464c-4c52-ddf9-bdee94efdc57",
        "colab": {
          "base_uri": "https://localhost:8080/",
          "height": 295
        }
      },
      "source": [
        "pyplot.plot(history.history['accuracy'])\n",
        "pyplot.plot(history.history['val_accuracy'])\n",
        "pyplot.title('model train vs validation acc')\n",
        "pyplot.ylabel('accuracy')\n",
        "pyplot.xlabel('epoch')\n",
        "pyplot.legend(['train', 'validation'], loc='upper right')\n",
        "pyplot.show()"
      ],
      "execution_count": 0,
      "outputs": [
        {
          "output_type": "display_data",
          "data": {
            "image/png": "[encoded data removed]",
            "text/plain": [
              "<Figure size 432x288 with 1 Axes>"
            ]
          },
          "metadata": {
            "tags": [],
            "needs_background": "light"
          }
        }
      ]
    },
    {
      "cell_type": "code",
      "metadata": {
        "id": "EzC6HPrH5TBU",
        "colab_type": "code",
        "colab": {}
      },
      "source": [
        "model.save('../content/wts.h5')"
      ],
      "execution_count": 0,
      "outputs": []
    },
    {
      "cell_type": "code",
      "metadata": {
        "id": "rFU8DlONt6jb",
        "colab_type": "code",
        "outputId": "f3996a7f-ed85-42c0-c3d0-f0ef62bc4b2c",
        "colab": {
          "base_uri": "https://localhost:8080/",
          "height": 1000
        }
      },
      "source": [
        "\n",
        "from tensorflow.keras.utils import plot_model\n",
        "plot_model(model, to_file='model_plot.png', show_shapes=True, show_layer_names=True)"
      ],
      "execution_count": 0,
      "outputs": [
        {
          "output_type": "execute_result",
          "data": {
            "image/png": "[encoded data removed]",
            "text/plain": [
              "<IPython.core.display.Image object>"
            ]
          },
          "metadata": {
            "tags": []
          },
          "execution_count": 103
        }
      ]
    },
    {
      "cell_type": "code",
      "metadata": {
        "id": "EXtISOwE1YaW",
        "colab_type": "code",
        "colab": {}
      },
      "source": [
        "input_layer = Input(shape=(45,30))\n",
        "conv1 = Conv1D(filters=45,kernel_size=5,strides=1,activation='relu',padding='same')(input_layer)\n",
        "lstm1 = LSTM(45,return_sequences=True)(conv1)\n",
        "#drop1=Dropout(0.2)(lstm1)\n",
        "lstm2 = LSTM(45,return_sequences=True)(lstm1)\n",
        "#drop2=Dropout(0.2)(lstm2)\n",
        "hidden1=Dense(90,activation='relu')(lstm2)\n",
        "batch1=BatchNormalization()(hidden1)\n",
        "drop3=Dropout(0.2)(batch1)\n",
        "\n",
        "input_layer2=Input(shape=(45,30))\n",
        "lstm3=LSTM(45,return_sequences=True)(input_layer2)\n",
        "#drop4=Dropout(0.2)(lstm3)\n",
        "lstm4=LSTM(45,return_sequences=True)(lstm3)\n",
        "drop5=Dropout(0.2)(lstm4)\n",
        "hidden2=Dense(90,activation='relu')(drop5)\n",
        "batch=BatchNormalization()(hidden2)\n",
        "drop6=Dropout(0.2)(batch)\n",
        "\n",
        "concat=layers.concatenate([drop3,drop6],axis=-1)\n",
        "final=Dense(45,activation='relu')(concat)\n",
        "out=Dense(1,activation='sigmoid')(final)\n",
        "\n",
        "model = Model(inputs=[input_layer,input_layer2], outputs=out) "
      ],
      "execution_count": 0,
      "outputs": []
    },
    {
      "cell_type": "code",
      "metadata": {
        "id": "nXLzXOR4niY0",
        "colab_type": "code",
        "outputId": "542a44b9-0fea-4559-89da-bf0832d03987",
        "colab": {
          "base_uri": "https://localhost:8080/",
          "height": 34
        }
      },
      "source": [
        "from keras.models import load_model\n",
        "model=tf.keras.models.load_model('../content/wtsconvlstm.h5')"
      ],
      "execution_count": 0,
      "outputs": [
        {
          "output_type": "stream",
          "text": [
            "WARNING:tensorflow:No training configuration found in the save file, so the model was *not* compiled. Compile it manually.\n"
          ],
          "name": "stdout"
        }
      ]
    },
    {
      "cell_type": "code",
      "metadata": {
        "id": "W-hpx2eXn3pY",
        "colab_type": "code",
        "colab": {}
      },
      "source": [
        ""
      ],
      "execution_count": 0,
      "outputs": []
    }
  ]
}