{
  "nbformat": 4,
  "nbformat_minor": 0,
  "metadata": {
    "colab": {
      "name": "video3.ipynb",
      "provenance": [],
      "collapsed_sections": []
    },
    "kernelspec": {
      "name": "python3",
      "display_name": "Python 3"
    }
  },
  "cells": [
    {
      "cell_type": "code",
      "metadata": {
        "id": "YaOrHLt7smcU",
        "colab_type": "code",
        "outputId": "2e07137d-7fdc-4b86-9148-9619e5ac021a",
        "colab": {
          "base_uri": "https://localhost:8080/",
          "height": 81
        }
      },
      "source": [
        "import os\n",
        "import pandas as pd\n",
        "import numpy as np\n",
        "import json\n",
        "from google.colab import files\n",
        "import io\n",
        "from keras import layers\n",
        "from keras import models\n",
        "from keras import applications\n",
        "from keras import optimizers\n",
        "import keras"
      ],
      "execution_count": 0,
      "outputs": [
        {
          "output_type": "stream",
          "text": [
            "Using TensorFlow backend.\n"
          ],
          "name": "stderr"
        },
        {
          "output_type": "display_data",
          "data": {
            "text/html": [
              "<p style=\"color: red;\">\n",
              "The default version of TensorFlow in Colab will soon switch to TensorFlow 2.x.<br>\n",
              "We recommend you <a href=\"https://www.tensorflow.org/guide/migrate\" target=\"_blank\">upgrade</a> now \n",
              "or ensure your notebook will continue to use TensorFlow 1.x via the <code>%tensorflow_version 1.x</code> magic:\n",
              "<a href=\"https://colab.research.google.com/notebooks/tensorflow_version.ipynb\" target=\"_blank\">more info</a>.</p>\n"
            ],
            "text/plain": [
              "<IPython.core.display.HTML object>"
            ]
          },
          "metadata": {
            "tags": []
          }
        }
      ]
    },
    {
      "cell_type": "code",
      "metadata": {
        "id": "oQya-GPot0rx",
        "colab_type": "code",
        "outputId": "fe054d09-b59e-4ff6-d8d0-2c8d56c030b7",
        "colab": {
          "base_uri": "https://localhost:8080/",
          "height": 126
        }
      },
      "source": [
        "from google.colab import drive\n",
        "drive.mount('/content/drive')"
      ],
      "execution_count": 0,
      "outputs": [
        {
          "output_type": "stream",
          "text": [
            "Go to this URL in a browser: https://accounts.google.com/o/oauth2/auth?client_id=947318989803-6bn6qk8qdgf4n4g3pfee6491hc0brc4i.apps.googleusercontent.com&redirect_uri=urn%3aietf%3awg%3aoauth%3a2.0%3aoob&response_type=code&scope=email%20https%3a%2f%2fwww.googleapis.com%2fauth%2fdocs.test%20https%3a%2f%2fwww.googleapis.com%2fauth%2fdrive%20https%3a%2f%2fwww.googleapis.com%2fauth%2fdrive.photos.readonly%20https%3a%2f%2fwww.googleapis.com%2fauth%2fpeopleapi.readonly\n",
            "\n",
            "Enter your authorization code:\n",
            "··········\n",
            "Mounted at /content/drive\n"
          ],
          "name": "stdout"
        }
      ]
    },
    {
      "cell_type": "markdown",
      "metadata": {
        "id": "NOg4FSDeO4iI",
        "colab_type": "text"
      },
      "source": [
        "Please change the path to the desired video to be tested.\n"
      ]
    },
    {
      "cell_type": "code",
      "metadata": {
        "id": "1mUe6Fg4s59K",
        "colab_type": "code",
        "outputId": "21a55334-3bf9-4767-e7b6-941fe4250732",
        "colab": {
          "base_uri": "https://localhost:8080/",
          "height": 35
        }
      },
      "source": [
        "i=1\n",
        "path='/content/drive/My Drive/results data/newdata/15n45s.json'\n",
        "#path='/content/1'\n",
        "json_files=[pos_json for pos_json in os.listdir(path) if pos_json.endswith('.json')]\n",
        "print('Found: ',len(json_files),'json keypoint frame files')\n",
        "a=json.load(open(path+'/'+json_files[0]))\n",
        "b=a['people']\n",
        "q=b[0]['pose_keypoints_2d']\n",
        "s=[p for p in q if p>1]\n",
        "train=pd.DataFrame([s])\n",
        "for j in range(1,len(json_files)):\n",
        "    a=json.load(open(path+'/'+json_files[j]))\n",
        "    b=a['people']\n",
        "    if len(b)>0:\n",
        "        q=b[0]['pose_keypoints_2d']\n",
        "        s=[p for p in q if p>1]\n",
        "        s=pd.DataFrame([s])\n",
        "        train=train.append(s)\n",
        "    else:\n",
        "        continue"
      ],
      "execution_count": 5,
      "outputs": [
        {
          "output_type": "stream",
          "text": [
            "Found:  1813 json keypoint frame files\n"
          ],
          "name": "stdout"
        }
      ]
    },
    {
      "cell_type": "code",
      "metadata": {
        "id": "j8SDx6iGs-Iq",
        "colab_type": "code",
        "colab": {}
      },
      "source": [
        "train=train.fillna(method='ffill')\n",
        "train=train.fillna(0)\n",
        "y,x=train.shape\n",
        "s=np.zeros(y)\n",
        "s=pd.DataFrame(s)\n",
        "\n",
        "for i in range(50):\n",
        "    y,x=train.shape\n",
        "    if x!=50:\n",
        "        train[x]=s\n",
        "        x=x+1\n",
        "    if y<90:\n",
        "        train=train.append(train.iloc[y-1])\n",
        "\n",
        "for i in range(50):\n",
        "    train.iloc[:,i]=train.iloc[:,i]/train.iloc[:,i].max()"
      ],
      "execution_count": 0,
      "outputs": []
    },
    {
      "cell_type": "code",
      "metadata": {
        "id": "1rW8lFsZtN03",
        "colab_type": "code",
        "colab": {
          "base_uri": "https://localhost:8080/",
          "height": 220
        },
        "outputId": "82bcc200-8805-46da-813d-161e77907656"
      },
      "source": [
        "train=train.fillna(method='ffill')\n",
        "train=train.fillna(0)\n",
        "train.head()"
      ],
      "execution_count": 7,
      "outputs": [
        {
          "output_type": "execute_result",
          "data": {
            "text/html": [
              "<div>\n",
              "<style scoped>\n",
              "    .dataframe tbody tr th:only-of-type {\n",
              "        vertical-align: middle;\n",
              "    }\n",
              "\n",
              "    .dataframe tbody tr th {\n",
              "        vertical-align: top;\n",
              "    }\n",
              "\n",
              "    .dataframe thead th {\n",
              "        text-align: right;\n",
              "    }\n",
              "</style>\n",
              "<table border=\"1\" class=\"dataframe\">\n",
              "  <thead>\n",
              "    <tr style=\"text-align: right;\">\n",
              "      <th></th>\n",
              "      <th>0</th>\n",
              "      <th>1</th>\n",
              "      <th>2</th>\n",
              "      <th>3</th>\n",
              "      <th>4</th>\n",
              "      <th>5</th>\n",
              "      <th>6</th>\n",
              "      <th>7</th>\n",
              "      <th>8</th>\n",
              "      <th>9</th>\n",
              "      <th>10</th>\n",
              "      <th>11</th>\n",
              "      <th>12</th>\n",
              "      <th>13</th>\n",
              "      <th>14</th>\n",
              "      <th>15</th>\n",
              "      <th>16</th>\n",
              "      <th>17</th>\n",
              "      <th>18</th>\n",
              "      <th>19</th>\n",
              "      <th>20</th>\n",
              "      <th>21</th>\n",
              "      <th>22</th>\n",
              "      <th>23</th>\n",
              "      <th>24</th>\n",
              "      <th>25</th>\n",
              "      <th>26</th>\n",
              "      <th>27</th>\n",
              "      <th>28</th>\n",
              "      <th>29</th>\n",
              "      <th>30</th>\n",
              "      <th>31</th>\n",
              "      <th>32</th>\n",
              "      <th>33</th>\n",
              "      <th>34</th>\n",
              "      <th>35</th>\n",
              "      <th>36</th>\n",
              "      <th>37</th>\n",
              "      <th>38</th>\n",
              "      <th>39</th>\n",
              "      <th>40</th>\n",
              "      <th>41</th>\n",
              "      <th>42</th>\n",
              "      <th>43</th>\n",
              "      <th>44</th>\n",
              "      <th>45</th>\n",
              "      <th>46</th>\n",
              "      <th>47</th>\n",
              "      <th>48</th>\n",
              "      <th>49</th>\n",
              "    </tr>\n",
              "  </thead>\n",
              "  <tbody>\n",
              "    <tr>\n",
              "      <th>0</th>\n",
              "      <td>0.783669</td>\n",
              "      <td>0.733928</td>\n",
              "      <td>0.812928</td>\n",
              "      <td>0.694537</td>\n",
              "      <td>0.664499</td>\n",
              "      <td>0.788700</td>\n",
              "      <td>0.752859</td>\n",
              "      <td>0.817096</td>\n",
              "      <td>0.896853</td>\n",
              "      <td>0.899346</td>\n",
              "      <td>0.553265</td>\n",
              "      <td>0.660555</td>\n",
              "      <td>0.676383</td>\n",
              "      <td>0.516105</td>\n",
              "      <td>0.842764</td>\n",
              "      <td>0.455708</td>\n",
              "      <td>0.734202</td>\n",
              "      <td>0.682531</td>\n",
              "      <td>0.572794</td>\n",
              "      <td>0.749288</td>\n",
              "      <td>0.751358</td>\n",
              "      <td>0.505288</td>\n",
              "      <td>0.929135</td>\n",
              "      <td>0.485756</td>\n",
              "      <td>0.505790</td>\n",
              "      <td>0.637207</td>\n",
              "      <td>0.750917</td>\n",
              "      <td>0.526842</td>\n",
              "      <td>0.908719</td>\n",
              "      <td>0.582684</td>\n",
              "      <td>0.204020</td>\n",
              "      <td>0.724832</td>\n",
              "      <td>0.207530</td>\n",
              "      <td>0.572216</td>\n",
              "      <td>0.179393</td>\n",
              "      <td>0.698493</td>\n",
              "      <td>0.196164</td>\n",
              "      <td>0.490655</td>\n",
              "      <td>0.967445</td>\n",
              "      <td>0.471807</td>\n",
              "      <td>0.965816</td>\n",
              "      <td>0.467001</td>\n",
              "      <td>0.925119</td>\n",
              "      <td>0.551455</td>\n",
              "      <td>0.993613</td>\n",
              "      <td>0.458079</td>\n",
              "      <td>1.000000</td>\n",
              "      <td>0.478588</td>\n",
              "      <td>0.0</td>\n",
              "      <td>0.0</td>\n",
              "    </tr>\n",
              "    <tr>\n",
              "      <th>0</th>\n",
              "      <td>0.789309</td>\n",
              "      <td>0.717504</td>\n",
              "      <td>0.812981</td>\n",
              "      <td>0.702128</td>\n",
              "      <td>0.667998</td>\n",
              "      <td>0.788852</td>\n",
              "      <td>0.755572</td>\n",
              "      <td>0.820198</td>\n",
              "      <td>0.896716</td>\n",
              "      <td>0.905629</td>\n",
              "      <td>0.550123</td>\n",
              "      <td>0.665399</td>\n",
              "      <td>0.671119</td>\n",
              "      <td>0.520418</td>\n",
              "      <td>0.842605</td>\n",
              "      <td>0.459693</td>\n",
              "      <td>0.731910</td>\n",
              "      <td>0.704185</td>\n",
              "      <td>0.565868</td>\n",
              "      <td>0.785598</td>\n",
              "      <td>0.649889</td>\n",
              "      <td>0.495204</td>\n",
              "      <td>0.483611</td>\n",
              "      <td>0.537780</td>\n",
              "      <td>0.644679</td>\n",
              "      <td>0.548472</td>\n",
              "      <td>0.210562</td>\n",
              "      <td>0.664507</td>\n",
              "      <td>0.206572</td>\n",
              "      <td>0.628486</td>\n",
              "      <td>0.183483</td>\n",
              "      <td>0.785131</td>\n",
              "      <td>0.202740</td>\n",
              "      <td>0.507288</td>\n",
              "      <td>0.179393</td>\n",
              "      <td>0.698493</td>\n",
              "      <td>0.196164</td>\n",
              "      <td>0.490655</td>\n",
              "      <td>0.967445</td>\n",
              "      <td>0.471807</td>\n",
              "      <td>0.965816</td>\n",
              "      <td>0.467001</td>\n",
              "      <td>0.925119</td>\n",
              "      <td>0.551455</td>\n",
              "      <td>0.993613</td>\n",
              "      <td>0.458079</td>\n",
              "      <td>1.000000</td>\n",
              "      <td>0.478588</td>\n",
              "      <td>0.0</td>\n",
              "      <td>0.0</td>\n",
              "    </tr>\n",
              "    <tr>\n",
              "      <th>0</th>\n",
              "      <td>0.783865</td>\n",
              "      <td>0.713439</td>\n",
              "      <td>0.812826</td>\n",
              "      <td>0.702041</td>\n",
              "      <td>0.664633</td>\n",
              "      <td>0.791995</td>\n",
              "      <td>0.744622</td>\n",
              "      <td>0.820327</td>\n",
              "      <td>0.899240</td>\n",
              "      <td>0.899305</td>\n",
              "      <td>0.550027</td>\n",
              "      <td>0.665397</td>\n",
              "      <td>0.673786</td>\n",
              "      <td>0.520510</td>\n",
              "      <td>0.847786</td>\n",
              "      <td>0.451615</td>\n",
              "      <td>0.606969</td>\n",
              "      <td>0.682513</td>\n",
              "      <td>0.439610</td>\n",
              "      <td>0.763792</td>\n",
              "      <td>0.464977</td>\n",
              "      <td>0.542027</td>\n",
              "      <td>0.600113</td>\n",
              "      <td>0.472632</td>\n",
              "      <td>0.731889</td>\n",
              "      <td>0.544702</td>\n",
              "      <td>0.205742</td>\n",
              "      <td>0.671611</td>\n",
              "      <td>0.206502</td>\n",
              "      <td>0.628591</td>\n",
              "      <td>0.189803</td>\n",
              "      <td>0.777620</td>\n",
              "      <td>0.204339</td>\n",
              "      <td>0.510524</td>\n",
              "      <td>0.179393</td>\n",
              "      <td>0.698493</td>\n",
              "      <td>0.196164</td>\n",
              "      <td>0.490655</td>\n",
              "      <td>0.967445</td>\n",
              "      <td>0.471807</td>\n",
              "      <td>0.965816</td>\n",
              "      <td>0.467001</td>\n",
              "      <td>0.925119</td>\n",
              "      <td>0.551455</td>\n",
              "      <td>0.993613</td>\n",
              "      <td>0.458079</td>\n",
              "      <td>1.000000</td>\n",
              "      <td>0.478588</td>\n",
              "      <td>0.0</td>\n",
              "      <td>0.0</td>\n",
              "    </tr>\n",
              "    <tr>\n",
              "      <th>0</th>\n",
              "      <td>0.772424</td>\n",
              "      <td>0.725596</td>\n",
              "      <td>0.803786</td>\n",
              "      <td>0.698280</td>\n",
              "      <td>0.661053</td>\n",
              "      <td>0.791955</td>\n",
              "      <td>0.750066</td>\n",
              "      <td>0.823505</td>\n",
              "      <td>0.899248</td>\n",
              "      <td>0.889958</td>\n",
              "      <td>0.543616</td>\n",
              "      <td>0.665282</td>\n",
              "      <td>0.676367</td>\n",
              "      <td>0.520567</td>\n",
              "      <td>0.852883</td>\n",
              "      <td>0.447562</td>\n",
              "      <td>0.777359</td>\n",
              "      <td>0.678903</td>\n",
              "      <td>0.593554</td>\n",
              "      <td>0.752881</td>\n",
              "      <td>0.651517</td>\n",
              "      <td>0.709083</td>\n",
              "      <td>0.921283</td>\n",
              "      <td>0.661434</td>\n",
              "      <td>0.552629</td>\n",
              "      <td>0.617969</td>\n",
              "      <td>0.655465</td>\n",
              "      <td>0.526772</td>\n",
              "      <td>0.722932</td>\n",
              "      <td>0.559557</td>\n",
              "      <td>0.196068</td>\n",
              "      <td>0.713373</td>\n",
              "      <td>0.202754</td>\n",
              "      <td>0.558523</td>\n",
              "      <td>0.174787</td>\n",
              "      <td>0.705227</td>\n",
              "      <td>0.194587</td>\n",
              "      <td>0.480903</td>\n",
              "      <td>0.720633</td>\n",
              "      <td>0.528991</td>\n",
              "      <td>0.962657</td>\n",
              "      <td>0.782585</td>\n",
              "      <td>0.945830</td>\n",
              "      <td>0.720960</td>\n",
              "      <td>0.993613</td>\n",
              "      <td>0.458079</td>\n",
              "      <td>1.000000</td>\n",
              "      <td>0.478588</td>\n",
              "      <td>0.0</td>\n",
              "      <td>0.0</td>\n",
              "    </tr>\n",
              "    <tr>\n",
              "      <th>0</th>\n",
              "      <td>0.755890</td>\n",
              "      <td>0.725631</td>\n",
              "      <td>0.794631</td>\n",
              "      <td>0.702149</td>\n",
              "      <td>0.660875</td>\n",
              "      <td>0.795463</td>\n",
              "      <td>0.739144</td>\n",
              "      <td>0.820387</td>\n",
              "      <td>0.899282</td>\n",
              "      <td>0.883632</td>\n",
              "      <td>0.533995</td>\n",
              "      <td>0.675036</td>\n",
              "      <td>0.679004</td>\n",
              "      <td>0.524812</td>\n",
              "      <td>0.865501</td>\n",
              "      <td>0.455599</td>\n",
              "      <td>0.777344</td>\n",
              "      <td>0.675336</td>\n",
              "      <td>0.591814</td>\n",
              "      <td>0.760203</td>\n",
              "      <td>0.746410</td>\n",
              "      <td>0.682418</td>\n",
              "      <td>0.919710</td>\n",
              "      <td>0.654967</td>\n",
              "      <td>0.547758</td>\n",
              "      <td>0.606410</td>\n",
              "      <td>0.750895</td>\n",
              "      <td>0.540854</td>\n",
              "      <td>0.932321</td>\n",
              "      <td>0.571234</td>\n",
              "      <td>0.194574</td>\n",
              "      <td>0.709818</td>\n",
              "      <td>0.197999</td>\n",
              "      <td>0.565357</td>\n",
              "      <td>0.173239</td>\n",
              "      <td>0.708550</td>\n",
              "      <td>0.193087</td>\n",
              "      <td>0.490650</td>\n",
              "      <td>0.970531</td>\n",
              "      <td>0.475316</td>\n",
              "      <td>0.970454</td>\n",
              "      <td>0.470464</td>\n",
              "      <td>0.960154</td>\n",
              "      <td>0.551636</td>\n",
              "      <td>0.984062</td>\n",
              "      <td>0.792360</td>\n",
              "      <td>0.982429</td>\n",
              "      <td>0.811675</td>\n",
              "      <td>0.0</td>\n",
              "      <td>0.0</td>\n",
              "    </tr>\n",
              "  </tbody>\n",
              "</table>\n",
              "</div>"
            ],
            "text/plain": [
              "         0         1         2         3   ...        46        47   48   49\n",
              "0  0.783669  0.733928  0.812928  0.694537  ...  1.000000  0.478588  0.0  0.0\n",
              "0  0.789309  0.717504  0.812981  0.702128  ...  1.000000  0.478588  0.0  0.0\n",
              "0  0.783865  0.713439  0.812826  0.702041  ...  1.000000  0.478588  0.0  0.0\n",
              "0  0.772424  0.725596  0.803786  0.698280  ...  1.000000  0.478588  0.0  0.0\n",
              "0  0.755890  0.725631  0.794631  0.702149  ...  0.982429  0.811675  0.0  0.0\n",
              "\n",
              "[5 rows x 50 columns]"
            ]
          },
          "metadata": {
            "tags": []
          },
          "execution_count": 7
        }
      ]
    },
    {
      "cell_type": "code",
      "metadata": {
        "id": "nmIblH1rtd8T",
        "colab_type": "code",
        "colab": {}
      },
      "source": [
        "x,y=train.shape\n",
        "train=train.iloc[:90*int(x/90),:]\n",
        "train=train.values\n",
        "train=train.reshape(int(x/90),90,50)"
      ],
      "execution_count": 0,
      "outputs": []
    },
    {
      "cell_type": "markdown",
      "metadata": {
        "id": "YMD0xWfcPBbj",
        "colab_type": "text"
      },
      "source": [
        "Please change the path of the model."
      ]
    },
    {
      "cell_type": "code",
      "metadata": {
        "id": "Vm3nA0XO0S7N",
        "colab_type": "code",
        "colab": {
          "base_uri": "https://localhost:8080/",
          "height": 1000
        },
        "outputId": "3d95ed0f-ad5f-46f2-fea5-763e2ec8ac12"
      },
      "source": [
        "model=keras.models.load_model('/content/wall final')"
      ],
      "execution_count": 9,
      "outputs": [
        {
          "output_type": "stream",
          "text": [
            "WARNING:tensorflow:From /usr/local/lib/python3.6/dist-packages/keras/backend/tensorflow_backend.py:66: The name tf.get_default_graph is deprecated. Please use tf.compat.v1.get_default_graph instead.\n",
            "\n"
          ],
          "name": "stdout"
        },
        {
          "output_type": "stream",
          "text": [
            "WARNING:tensorflow:From /usr/local/lib/python3.6/dist-packages/keras/backend/tensorflow_backend.py:66: The name tf.get_default_graph is deprecated. Please use tf.compat.v1.get_default_graph instead.\n",
            "\n"
          ],
          "name": "stderr"
        },
        {
          "output_type": "stream",
          "text": [
            "WARNING:tensorflow:From /usr/local/lib/python3.6/dist-packages/keras/backend/tensorflow_backend.py:541: The name tf.placeholder is deprecated. Please use tf.compat.v1.placeholder instead.\n",
            "\n"
          ],
          "name": "stdout"
        },
        {
          "output_type": "stream",
          "text": [
            "WARNING:tensorflow:From /usr/local/lib/python3.6/dist-packages/keras/backend/tensorflow_backend.py:541: The name tf.placeholder is deprecated. Please use tf.compat.v1.placeholder instead.\n",
            "\n"
          ],
          "name": "stderr"
        },
        {
          "output_type": "stream",
          "text": [
            "WARNING:tensorflow:From /usr/local/lib/python3.6/dist-packages/keras/backend/tensorflow_backend.py:4432: The name tf.random_uniform is deprecated. Please use tf.random.uniform instead.\n",
            "\n"
          ],
          "name": "stdout"
        },
        {
          "output_type": "stream",
          "text": [
            "WARNING:tensorflow:From /usr/local/lib/python3.6/dist-packages/keras/backend/tensorflow_backend.py:4432: The name tf.random_uniform is deprecated. Please use tf.random.uniform instead.\n",
            "\n"
          ],
          "name": "stderr"
        },
        {
          "output_type": "stream",
          "text": [
            "WARNING:tensorflow:From /usr/local/lib/python3.6/dist-packages/keras/backend/tensorflow_backend.py:148: The name tf.placeholder_with_default is deprecated. Please use tf.compat.v1.placeholder_with_default instead.\n",
            "\n"
          ],
          "name": "stdout"
        },
        {
          "output_type": "stream",
          "text": [
            "WARNING:tensorflow:From /usr/local/lib/python3.6/dist-packages/keras/backend/tensorflow_backend.py:148: The name tf.placeholder_with_default is deprecated. Please use tf.compat.v1.placeholder_with_default instead.\n",
            "\n"
          ],
          "name": "stderr"
        },
        {
          "output_type": "stream",
          "text": [
            "WARNING:tensorflow:From /usr/local/lib/python3.6/dist-packages/keras/backend/tensorflow_backend.py:190: The name tf.get_default_session is deprecated. Please use tf.compat.v1.get_default_session instead.\n",
            "\n"
          ],
          "name": "stdout"
        },
        {
          "output_type": "stream",
          "text": [
            "WARNING:tensorflow:From /usr/local/lib/python3.6/dist-packages/keras/backend/tensorflow_backend.py:190: The name tf.get_default_session is deprecated. Please use tf.compat.v1.get_default_session instead.\n",
            "\n"
          ],
          "name": "stderr"
        },
        {
          "output_type": "stream",
          "text": [
            "WARNING:tensorflow:From /usr/local/lib/python3.6/dist-packages/keras/backend/tensorflow_backend.py:197: The name tf.ConfigProto is deprecated. Please use tf.compat.v1.ConfigProto instead.\n",
            "\n"
          ],
          "name": "stdout"
        },
        {
          "output_type": "stream",
          "text": [
            "WARNING:tensorflow:From /usr/local/lib/python3.6/dist-packages/keras/backend/tensorflow_backend.py:197: The name tf.ConfigProto is deprecated. Please use tf.compat.v1.ConfigProto instead.\n",
            "\n"
          ],
          "name": "stderr"
        },
        {
          "output_type": "stream",
          "text": [
            "WARNING:tensorflow:From /usr/local/lib/python3.6/dist-packages/keras/backend/tensorflow_backend.py:203: The name tf.Session is deprecated. Please use tf.compat.v1.Session instead.\n",
            "\n"
          ],
          "name": "stdout"
        },
        {
          "output_type": "stream",
          "text": [
            "WARNING:tensorflow:From /usr/local/lib/python3.6/dist-packages/keras/backend/tensorflow_backend.py:203: The name tf.Session is deprecated. Please use tf.compat.v1.Session instead.\n",
            "\n"
          ],
          "name": "stderr"
        },
        {
          "output_type": "stream",
          "text": [
            "WARNING:tensorflow:From /usr/local/lib/python3.6/dist-packages/keras/backend/tensorflow_backend.py:207: The name tf.global_variables is deprecated. Please use tf.compat.v1.global_variables instead.\n",
            "\n"
          ],
          "name": "stdout"
        },
        {
          "output_type": "stream",
          "text": [
            "WARNING:tensorflow:From /usr/local/lib/python3.6/dist-packages/keras/backend/tensorflow_backend.py:207: The name tf.global_variables is deprecated. Please use tf.compat.v1.global_variables instead.\n",
            "\n"
          ],
          "name": "stderr"
        },
        {
          "output_type": "stream",
          "text": [
            "WARNING:tensorflow:From /usr/local/lib/python3.6/dist-packages/keras/backend/tensorflow_backend.py:216: The name tf.is_variable_initialized is deprecated. Please use tf.compat.v1.is_variable_initialized instead.\n",
            "\n"
          ],
          "name": "stdout"
        },
        {
          "output_type": "stream",
          "text": [
            "WARNING:tensorflow:From /usr/local/lib/python3.6/dist-packages/keras/backend/tensorflow_backend.py:216: The name tf.is_variable_initialized is deprecated. Please use tf.compat.v1.is_variable_initialized instead.\n",
            "\n"
          ],
          "name": "stderr"
        },
        {
          "output_type": "stream",
          "text": [
            "WARNING:tensorflow:From /usr/local/lib/python3.6/dist-packages/keras/backend/tensorflow_backend.py:223: The name tf.variables_initializer is deprecated. Please use tf.compat.v1.variables_initializer instead.\n",
            "\n"
          ],
          "name": "stdout"
        },
        {
          "output_type": "stream",
          "text": [
            "WARNING:tensorflow:From /usr/local/lib/python3.6/dist-packages/keras/backend/tensorflow_backend.py:223: The name tf.variables_initializer is deprecated. Please use tf.compat.v1.variables_initializer instead.\n",
            "\n"
          ],
          "name": "stderr"
        },
        {
          "output_type": "stream",
          "text": [
            "WARNING:tensorflow:From /usr/local/lib/python3.6/dist-packages/keras/optimizers.py:793: The name tf.train.Optimizer is deprecated. Please use tf.compat.v1.train.Optimizer instead.\n",
            "\n"
          ],
          "name": "stdout"
        },
        {
          "output_type": "stream",
          "text": [
            "WARNING:tensorflow:From /usr/local/lib/python3.6/dist-packages/keras/optimizers.py:793: The name tf.train.Optimizer is deprecated. Please use tf.compat.v1.train.Optimizer instead.\n",
            "\n"
          ],
          "name": "stderr"
        },
        {
          "output_type": "stream",
          "text": [
            "WARNING:tensorflow:From /usr/local/lib/python3.6/dist-packages/keras/backend/tensorflow_backend.py:3657: The name tf.log is deprecated. Please use tf.math.log instead.\n",
            "\n"
          ],
          "name": "stdout"
        },
        {
          "output_type": "stream",
          "text": [
            "WARNING:tensorflow:From /usr/local/lib/python3.6/dist-packages/keras/backend/tensorflow_backend.py:3657: The name tf.log is deprecated. Please use tf.math.log instead.\n",
            "\n"
          ],
          "name": "stderr"
        },
        {
          "output_type": "stream",
          "text": [
            "WARNING:tensorflow:From /usr/local/lib/python3.6/dist-packages/keras/backend/tensorflow_backend.py:1033: The name tf.assign_add is deprecated. Please use tf.compat.v1.assign_add instead.\n",
            "\n"
          ],
          "name": "stdout"
        },
        {
          "output_type": "stream",
          "text": [
            "WARNING:tensorflow:From /usr/local/lib/python3.6/dist-packages/keras/backend/tensorflow_backend.py:1033: The name tf.assign_add is deprecated. Please use tf.compat.v1.assign_add instead.\n",
            "\n"
          ],
          "name": "stderr"
        },
        {
          "output_type": "stream",
          "text": [
            "WARNING:tensorflow:From /usr/local/lib/python3.6/dist-packages/keras/backend/tensorflow_backend.py:1020: The name tf.assign is deprecated. Please use tf.compat.v1.assign instead.\n",
            "\n"
          ],
          "name": "stdout"
        },
        {
          "output_type": "stream",
          "text": [
            "WARNING:tensorflow:From /usr/local/lib/python3.6/dist-packages/keras/backend/tensorflow_backend.py:1020: The name tf.assign is deprecated. Please use tf.compat.v1.assign instead.\n",
            "\n"
          ],
          "name": "stderr"
        }
      ]
    },
    {
      "cell_type": "code",
      "metadata": {
        "id": "OA3_LhyK0p6d",
        "colab_type": "code",
        "colab": {}
      },
      "source": [
        "y=model.predict(train)"
      ],
      "execution_count": 0,
      "outputs": []
    },
    {
      "cell_type": "code",
      "metadata": {
        "id": "p3Yf5Sr2iU2v",
        "colab_type": "code",
        "colab": {
          "base_uri": "https://localhost:8080/",
          "height": 372
        },
        "outputId": "3025c1e7-ea30-47fa-96de-57bc213f0446"
      },
      "source": [
        "y"
      ],
      "execution_count": 11,
      "outputs": [
        {
          "output_type": "execute_result",
          "data": {
            "text/plain": [
              "array([[0.97986627],\n",
              "       [0.97610945],\n",
              "       [0.9729358 ],\n",
              "       [0.9739709 ],\n",
              "       [0.45766622],\n",
              "       [0.1771079 ],\n",
              "       [0.80237955],\n",
              "       [0.6971162 ],\n",
              "       [0.9737211 ],\n",
              "       [0.28663787],\n",
              "       [0.71614397],\n",
              "       [0.9498672 ],\n",
              "       [0.78537047],\n",
              "       [0.05813858],\n",
              "       [0.01754141],\n",
              "       [0.5458075 ],\n",
              "       [0.7290286 ],\n",
              "       [0.7105121 ],\n",
              "       [0.51092917],\n",
              "       [0.7300551 ]], dtype=float32)"
            ]
          },
          "metadata": {
            "tags": []
          },
          "execution_count": 11
        }
      ]
    },
    {
      "cell_type": "code",
      "metadata": {
        "id": "F4hA022J0ra4",
        "colab_type": "code",
        "colab": {
          "base_uri": "https://localhost:8080/",
          "height": 372
        },
        "outputId": "3d71c9d6-9bed-4598-ba34-280a0eaa8d53"
      },
      "source": [
        "p=[]\n",
        "for i in y:\n",
        "    if i<0.5:\n",
        "        p.append(0)\n",
        "        print(0)\n",
        "    else:\n",
        "        p.append(1)\n",
        "        print(1)"
      ],
      "execution_count": 12,
      "outputs": [
        {
          "output_type": "stream",
          "text": [
            "1\n",
            "1\n",
            "1\n",
            "1\n",
            "0\n",
            "0\n",
            "1\n",
            "1\n",
            "1\n",
            "0\n",
            "1\n",
            "1\n",
            "1\n",
            "0\n",
            "0\n",
            "1\n",
            "1\n",
            "1\n",
            "1\n",
            "1\n"
          ],
          "name": "stdout"
        }
      ]
    },
    {
      "cell_type": "code",
      "metadata": {
        "id": "3VVvECgk1dbT",
        "colab_type": "code",
        "colab": {}
      },
      "source": [
        "l=[]\n",
        "for i in p:\n",
        "    for j in range(0,3):\n",
        "        l.append(i)\n",
        "        \n"
      ],
      "execution_count": 0,
      "outputs": []
    },
    {
      "cell_type": "markdown",
      "metadata": {
        "id": "M_QdkBPyPNP5",
        "colab_type": "text"
      },
      "source": [
        "Graph for 60 seconds."
      ]
    },
    {
      "cell_type": "code",
      "metadata": {
        "id": "MhpXoI36EcY3",
        "colab_type": "code",
        "colab": {
          "base_uri": "https://localhost:8080/",
          "height": 297
        },
        "outputId": "9b10fb93-023d-4394-f469-f71ba42f2f34"
      },
      "source": [
        "import matplotlib.pyplot as plt \n",
        "plt.plot(l)\n",
        "plt.xlabel('time')\n",
        "plt.ylabel('action')\n",
        "#plt.xticks(np.arange(0,60,1))"
      ],
      "execution_count": 14,
      "outputs": [
        {
          "output_type": "execute_result",
          "data": {
            "text/plain": [
              "Text(0, 0.5, 'action')"
            ]
          },
          "metadata": {
            "tags": []
          },
          "execution_count": 14
        },
        {
          "output_type": "display_data",
          "data": {
            "image/png": "[encoded data removed]",
            "text/plain": [
              "<Figure size 432x288 with 1 Axes>"
            ]
          },
          "metadata": {
            "tags": []
          }
        }
      ]
    },
    {
      "cell_type": "markdown",
      "metadata": {
        "id": "bGKsmadYPRz8",
        "colab_type": "text"
      },
      "source": [
        "Json files with timestamps and predicted outputs."
      ]
    },
    {
      "cell_type": "code",
      "metadata": {
        "id": "r_XKHgsystx6",
        "colab_type": "code",
        "colab": {}
      },
      "source": [
        "s=[]\n",
        "for i in range(len(y)):\n",
        "    s.append([i*3,float(y[i])])"
      ],
      "execution_count": 0,
      "outputs": []
    },
    {
      "cell_type": "code",
      "metadata": {
        "id": "NTm-Dg75MSb5",
        "colab_type": "code",
        "colab": {}
      },
      "source": [
        "import json\n",
        "q=json.dumps(s)\n",
        "with open('/content/timelabelvideo3.json','w') as outfile:\n",
        "    outfile.write(q)"
      ],
      "execution_count": 0,
      "outputs": []
    },
    {
      "cell_type": "code",
      "metadata": {
        "id": "4ZPfwds7MoVw",
        "colab_type": "code",
        "colab": {}
      },
      "source": [
        ""
      ],
      "execution_count": 0,
      "outputs": []
    },
    {
      "cell_type": "code",
      "metadata": {
        "id": "JJRvhoELNH5Z",
        "colab_type": "code",
        "colab": {}
      },
      "source": [
        ""
      ],
      "execution_count": 0,
      "outputs": []
    }
  ]
}