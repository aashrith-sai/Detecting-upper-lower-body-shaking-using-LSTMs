{
  "nbformat": 4,
  "nbformat_minor": 0,
  "metadata": {
    "colab": {
      "name": "video1.ipynb",
      "provenance": [],
      "collapsed_sections": []
    },
    "kernelspec": {
      "name": "python3",
      "display_name": "Python 3"
    }
  },
  "cells": [
    {
      "cell_type": "code",
      "metadata": {
        "id": "YaOrHLt7smcU",
        "colab_type": "code",
        "outputId": "2e21a16f-c35a-42a0-f4e6-fdc71489f848",
        "colab": {
          "base_uri": "https://localhost:8080/",
          "height": 81
        }
      },
      "source": [
        "import os\n",
        "import pandas as pd\n",
        "import numpy as np\n",
        "import json\n",
        "from google.colab import files\n",
        "import io\n",
        "from keras import layers\n",
        "from keras import models\n",
        "from keras import applications\n",
        "from keras import optimizers\n",
        "import keras"
      ],
      "execution_count": 1,
      "outputs": [
        {
          "output_type": "stream",
          "text": [
            "Using TensorFlow backend.\n"
          ],
          "name": "stderr"
        },
        {
          "output_type": "display_data",
          "data": {
            "text/html": [
              "<p style=\"color: red;\">\n",
              "The default version of TensorFlow in Colab will soon switch to TensorFlow 2.x.<br>\n",
              "We recommend you <a href=\"https://www.tensorflow.org/guide/migrate\" target=\"_blank\">upgrade</a> now \n",
              "or ensure your notebook will continue to use TensorFlow 1.x via the <code>%tensorflow_version 1.x</code> magic:\n",
              "<a href=\"https://colab.research.google.com/notebooks/tensorflow_version.ipynb\" target=\"_blank\">more info</a>.</p>\n"
            ],
            "text/plain": [
              "<IPython.core.display.HTML object>"
            ]
          },
          "metadata": {
            "tags": []
          }
        }
      ]
    },
    {
      "cell_type": "code",
      "metadata": {
        "id": "oQya-GPot0rx",
        "colab_type": "code",
        "outputId": "d04d1bdc-e706-4148-ac8c-187e8228010c",
        "colab": {
          "base_uri": "https://localhost:8080/",
          "height": 126
        }
      },
      "source": [
        "from google.colab import drive\n",
        "drive.mount('/content/drive')"
      ],
      "execution_count": 2,
      "outputs": [
        {
          "output_type": "stream",
          "text": [
            "Go to this URL in a browser: https://accounts.google.com/o/oauth2/auth?client_id=947318989803-6bn6qk8qdgf4n4g3pfee6491hc0brc4i.apps.googleusercontent.com&redirect_uri=urn%3aietf%3awg%3aoauth%3a2.0%3aoob&response_type=code&scope=email%20https%3a%2f%2fwww.googleapis.com%2fauth%2fdocs.test%20https%3a%2f%2fwww.googleapis.com%2fauth%2fdrive%20https%3a%2f%2fwww.googleapis.com%2fauth%2fdrive.photos.readonly%20https%3a%2f%2fwww.googleapis.com%2fauth%2fpeopleapi.readonly\n",
            "\n",
            "Enter your authorization code:\n",
            "··········\n",
            "Mounted at /content/drive\n"
          ],
          "name": "stdout"
        }
      ]
    },
    {
      "cell_type": "markdown",
      "metadata": {
        "id": "NOg4FSDeO4iI",
        "colab_type": "text"
      },
      "source": [
        "Please change the path to the desired video to be tested.\n"
      ]
    },
    {
      "cell_type": "code",
      "metadata": {
        "id": "1mUe6Fg4s59K",
        "colab_type": "code",
        "outputId": "e6b2a8af-aa38-4b10-b9fb-6cbef63d626e",
        "colab": {
          "base_uri": "https://localhost:8080/",
          "height": 35
        }
      },
      "source": [
        "i=1\n",
        "path='/content/drive/My Drive/results data/newdata/15s45n.json'\n",
        "#path='/content/1'\n",
        "json_files=[pos_json for pos_json in os.listdir(path) if pos_json.endswith('.json')]\n",
        "print('Found: ',len(json_files),'json keypoint frame files')\n",
        "a=json.load(open(path+'/'+json_files[0]))\n",
        "b=a['people']\n",
        "q=b[0]['pose_keypoints_2d']\n",
        "s=[p for p in q if p>1]\n",
        "train=pd.DataFrame([s])\n",
        "for j in range(1,len(json_files)):\n",
        "    a=json.load(open(path+'/'+json_files[j]))\n",
        "    b=a['people']\n",
        "    if len(b)>0:\n",
        "        q=b[0]['pose_keypoints_2d']\n",
        "        s=[p for p in q if p>1]\n",
        "        s=pd.DataFrame([s])\n",
        "        train=train.append(s)\n",
        "    else:\n",
        "        continue"
      ],
      "execution_count": 3,
      "outputs": [
        {
          "output_type": "stream",
          "text": [
            "Found:  1815 json keypoint frame files\n"
          ],
          "name": "stdout"
        }
      ]
    },
    {
      "cell_type": "code",
      "metadata": {
        "id": "j8SDx6iGs-Iq",
        "colab_type": "code",
        "colab": {}
      },
      "source": [
        "train=train.fillna(method='ffill')\n",
        "train=train.fillna(0)\n",
        "y,x=train.shape\n",
        "s=np.zeros(y)\n",
        "s=pd.DataFrame(s)\n",
        "\n",
        "for i in range(50):\n",
        "    y,x=train.shape\n",
        "    if x!=50:\n",
        "        train[x]=s\n",
        "        x=x+1\n",
        "    if y<90:\n",
        "        train=train.append(train.iloc[y-1])\n",
        "\n",
        "for i in range(50):\n",
        "    train.iloc[:,i]=train.iloc[:,i]/train.iloc[:,i].max()"
      ],
      "execution_count": 0,
      "outputs": []
    },
    {
      "cell_type": "code",
      "metadata": {
        "id": "1rW8lFsZtN03",
        "colab_type": "code",
        "colab": {
          "base_uri": "https://localhost:8080/",
          "height": 220
        },
        "outputId": "001b97aa-7ac3-4bbc-bc38-0975d7653179"
      },
      "source": [
        "train=train.fillna(method='ffill')\n",
        "train=train.fillna(0)\n",
        "train.head()"
      ],
      "execution_count": 5,
      "outputs": [
        {
          "output_type": "execute_result",
          "data": {
            "text/html": [
              "<div>\n",
              "<style scoped>\n",
              "    .dataframe tbody tr th:only-of-type {\n",
              "        vertical-align: middle;\n",
              "    }\n",
              "\n",
              "    .dataframe tbody tr th {\n",
              "        vertical-align: top;\n",
              "    }\n",
              "\n",
              "    .dataframe thead th {\n",
              "        text-align: right;\n",
              "    }\n",
              "</style>\n",
              "<table border=\"1\" class=\"dataframe\">\n",
              "  <thead>\n",
              "    <tr style=\"text-align: right;\">\n",
              "      <th></th>\n",
              "      <th>0</th>\n",
              "      <th>1</th>\n",
              "      <th>2</th>\n",
              "      <th>3</th>\n",
              "      <th>4</th>\n",
              "      <th>5</th>\n",
              "      <th>6</th>\n",
              "      <th>7</th>\n",
              "      <th>8</th>\n",
              "      <th>9</th>\n",
              "      <th>10</th>\n",
              "      <th>11</th>\n",
              "      <th>12</th>\n",
              "      <th>13</th>\n",
              "      <th>14</th>\n",
              "      <th>15</th>\n",
              "      <th>16</th>\n",
              "      <th>17</th>\n",
              "      <th>18</th>\n",
              "      <th>19</th>\n",
              "      <th>20</th>\n",
              "      <th>21</th>\n",
              "      <th>22</th>\n",
              "      <th>23</th>\n",
              "      <th>24</th>\n",
              "      <th>25</th>\n",
              "      <th>26</th>\n",
              "      <th>27</th>\n",
              "      <th>28</th>\n",
              "      <th>29</th>\n",
              "      <th>30</th>\n",
              "      <th>31</th>\n",
              "      <th>32</th>\n",
              "      <th>33</th>\n",
              "      <th>34</th>\n",
              "      <th>35</th>\n",
              "      <th>36</th>\n",
              "      <th>37</th>\n",
              "      <th>38</th>\n",
              "      <th>39</th>\n",
              "      <th>40</th>\n",
              "      <th>41</th>\n",
              "      <th>42</th>\n",
              "      <th>43</th>\n",
              "      <th>44</th>\n",
              "      <th>45</th>\n",
              "      <th>46</th>\n",
              "      <th>47</th>\n",
              "      <th>48</th>\n",
              "      <th>49</th>\n",
              "    </tr>\n",
              "  </thead>\n",
              "  <tbody>\n",
              "    <tr>\n",
              "      <th>0</th>\n",
              "      <td>0.513197</td>\n",
              "      <td>0.469529</td>\n",
              "      <td>0.689687</td>\n",
              "      <td>0.462535</td>\n",
              "      <td>0.632406</td>\n",
              "      <td>0.508833</td>\n",
              "      <td>0.414791</td>\n",
              "      <td>0.529190</td>\n",
              "      <td>0.213009</td>\n",
              "      <td>0.512617</td>\n",
              "      <td>0.500282</td>\n",
              "      <td>0.238535</td>\n",
              "      <td>0.624134</td>\n",
              "      <td>0.108848</td>\n",
              "      <td>0.562391</td>\n",
              "      <td>0.007842</td>\n",
              "      <td>0.522297</td>\n",
              "      <td>0.427029</td>\n",
              "      <td>0.513230</td>\n",
              "      <td>0.508254</td>\n",
              "      <td>0.743145</td>\n",
              "      <td>0.263335</td>\n",
              "      <td>0.753401</td>\n",
              "      <td>0.310277</td>\n",
              "      <td>0.489948</td>\n",
              "      <td>0.343706</td>\n",
              "      <td>0.670056</td>\n",
              "      <td>0.350340</td>\n",
              "      <td>0.167405</td>\n",
              "      <td>0.463329</td>\n",
              "      <td>0.169104</td>\n",
              "      <td>0.394155</td>\n",
              "      <td>0.191998</td>\n",
              "      <td>0.536366</td>\n",
              "      <td>0.158276</td>\n",
              "      <td>0.360403</td>\n",
              "      <td>0.0</td>\n",
              "      <td>0.0</td>\n",
              "      <td>0.0</td>\n",
              "      <td>0.0</td>\n",
              "      <td>0.0</td>\n",
              "      <td>0.0</td>\n",
              "      <td>0.0</td>\n",
              "      <td>0.0</td>\n",
              "      <td>0.0</td>\n",
              "      <td>0.0</td>\n",
              "      <td>0.0</td>\n",
              "      <td>0.0</td>\n",
              "      <td>0.0</td>\n",
              "      <td>0.0</td>\n",
              "    </tr>\n",
              "    <tr>\n",
              "      <th>0</th>\n",
              "      <td>0.513028</td>\n",
              "      <td>0.469469</td>\n",
              "      <td>0.689483</td>\n",
              "      <td>0.462420</td>\n",
              "      <td>0.636493</td>\n",
              "      <td>0.501868</td>\n",
              "      <td>0.421222</td>\n",
              "      <td>0.523026</td>\n",
              "      <td>0.230655</td>\n",
              "      <td>0.476887</td>\n",
              "      <td>0.500288</td>\n",
              "      <td>0.250395</td>\n",
              "      <td>0.613568</td>\n",
              "      <td>0.115012</td>\n",
              "      <td>0.544675</td>\n",
              "      <td>0.007831</td>\n",
              "      <td>0.538921</td>\n",
              "      <td>0.407045</td>\n",
              "      <td>0.556091</td>\n",
              "      <td>0.447571</td>\n",
              "      <td>0.687608</td>\n",
              "      <td>0.271521</td>\n",
              "      <td>0.729677</td>\n",
              "      <td>0.320260</td>\n",
              "      <td>0.500169</td>\n",
              "      <td>0.330316</td>\n",
              "      <td>0.665112</td>\n",
              "      <td>0.326997</td>\n",
              "      <td>0.730455</td>\n",
              "      <td>0.337248</td>\n",
              "      <td>0.178237</td>\n",
              "      <td>0.449014</td>\n",
              "      <td>0.163651</td>\n",
              "      <td>0.416918</td>\n",
              "      <td>0.174428</td>\n",
              "      <td>0.538494</td>\n",
              "      <td>0.0</td>\n",
              "      <td>0.0</td>\n",
              "      <td>0.0</td>\n",
              "      <td>0.0</td>\n",
              "      <td>0.0</td>\n",
              "      <td>0.0</td>\n",
              "      <td>0.0</td>\n",
              "      <td>0.0</td>\n",
              "      <td>0.0</td>\n",
              "      <td>0.0</td>\n",
              "      <td>0.0</td>\n",
              "      <td>0.0</td>\n",
              "      <td>0.0</td>\n",
              "      <td>0.0</td>\n",
              "    </tr>\n",
              "    <tr>\n",
              "      <th>0</th>\n",
              "      <td>0.533292</td>\n",
              "      <td>0.450309</td>\n",
              "      <td>0.693777</td>\n",
              "      <td>0.466514</td>\n",
              "      <td>0.640564</td>\n",
              "      <td>0.508756</td>\n",
              "      <td>0.446457</td>\n",
              "      <td>0.501803</td>\n",
              "      <td>0.430652</td>\n",
              "      <td>0.233259</td>\n",
              "      <td>0.670794</td>\n",
              "      <td>0.128318</td>\n",
              "      <td>0.640201</td>\n",
              "      <td>0.008204</td>\n",
              "      <td>0.642378</td>\n",
              "      <td>0.322875</td>\n",
              "      <td>0.529685</td>\n",
              "      <td>0.483618</td>\n",
              "      <td>0.529996</td>\n",
              "      <td>0.313485</td>\n",
              "      <td>0.172045</td>\n",
              "      <td>0.356444</td>\n",
              "      <td>0.156736</td>\n",
              "      <td>0.387413</td>\n",
              "      <td>0.185598</td>\n",
              "      <td>0.493471</td>\n",
              "      <td>0.665112</td>\n",
              "      <td>0.326997</td>\n",
              "      <td>0.730455</td>\n",
              "      <td>0.337248</td>\n",
              "      <td>0.178237</td>\n",
              "      <td>0.449014</td>\n",
              "      <td>0.163651</td>\n",
              "      <td>0.416918</td>\n",
              "      <td>0.174428</td>\n",
              "      <td>0.538494</td>\n",
              "      <td>0.0</td>\n",
              "      <td>0.0</td>\n",
              "      <td>0.0</td>\n",
              "      <td>0.0</td>\n",
              "      <td>0.0</td>\n",
              "      <td>0.0</td>\n",
              "      <td>0.0</td>\n",
              "      <td>0.0</td>\n",
              "      <td>0.0</td>\n",
              "      <td>0.0</td>\n",
              "      <td>0.0</td>\n",
              "      <td>0.0</td>\n",
              "      <td>0.0</td>\n",
              "      <td>0.0</td>\n",
              "    </tr>\n",
              "    <tr>\n",
              "      <th>0</th>\n",
              "      <td>0.558698</td>\n",
              "      <td>0.446465</td>\n",
              "      <td>0.681148</td>\n",
              "      <td>0.478451</td>\n",
              "      <td>0.636564</td>\n",
              "      <td>0.505416</td>\n",
              "      <td>0.446461</td>\n",
              "      <td>0.489665</td>\n",
              "      <td>0.425617</td>\n",
              "      <td>0.246843</td>\n",
              "      <td>0.670918</td>\n",
              "      <td>0.131408</td>\n",
              "      <td>0.624221</td>\n",
              "      <td>0.008188</td>\n",
              "      <td>0.609038</td>\n",
              "      <td>0.373107</td>\n",
              "      <td>0.503862</td>\n",
              "      <td>0.493625</td>\n",
              "      <td>0.505772</td>\n",
              "      <td>0.329444</td>\n",
              "      <td>0.175619</td>\n",
              "      <td>0.345484</td>\n",
              "      <td>0.180472</td>\n",
              "      <td>0.370728</td>\n",
              "      <td>0.182261</td>\n",
              "      <td>0.470230</td>\n",
              "      <td>0.193305</td>\n",
              "      <td>0.357072</td>\n",
              "      <td>0.730455</td>\n",
              "      <td>0.337248</td>\n",
              "      <td>0.178237</td>\n",
              "      <td>0.449014</td>\n",
              "      <td>0.163651</td>\n",
              "      <td>0.416918</td>\n",
              "      <td>0.174428</td>\n",
              "      <td>0.538494</td>\n",
              "      <td>0.0</td>\n",
              "      <td>0.0</td>\n",
              "      <td>0.0</td>\n",
              "      <td>0.0</td>\n",
              "      <td>0.0</td>\n",
              "      <td>0.0</td>\n",
              "      <td>0.0</td>\n",
              "      <td>0.0</td>\n",
              "      <td>0.0</td>\n",
              "      <td>0.0</td>\n",
              "      <td>0.0</td>\n",
              "      <td>0.0</td>\n",
              "      <td>0.0</td>\n",
              "      <td>0.0</td>\n",
              "    </tr>\n",
              "    <tr>\n",
              "      <th>0</th>\n",
              "      <td>0.599448</td>\n",
              "      <td>0.442547</td>\n",
              "      <td>0.710891</td>\n",
              "      <td>0.466541</td>\n",
              "      <td>0.690285</td>\n",
              "      <td>0.495150</td>\n",
              "      <td>0.367347</td>\n",
              "      <td>0.422890</td>\n",
              "      <td>0.111767</td>\n",
              "      <td>0.274291</td>\n",
              "      <td>0.494399</td>\n",
              "      <td>0.271142</td>\n",
              "      <td>0.610922</td>\n",
              "      <td>0.142839</td>\n",
              "      <td>0.509087</td>\n",
              "      <td>0.133609</td>\n",
              "      <td>0.524152</td>\n",
              "      <td>0.340400</td>\n",
              "      <td>0.216669</td>\n",
              "      <td>0.371097</td>\n",
              "      <td>0.201653</td>\n",
              "      <td>0.312579</td>\n",
              "      <td>0.207689</td>\n",
              "      <td>0.421336</td>\n",
              "      <td>0.207702</td>\n",
              "      <td>0.370348</td>\n",
              "      <td>0.193305</td>\n",
              "      <td>0.357072</td>\n",
              "      <td>0.730455</td>\n",
              "      <td>0.337248</td>\n",
              "      <td>0.178237</td>\n",
              "      <td>0.449014</td>\n",
              "      <td>0.163651</td>\n",
              "      <td>0.416918</td>\n",
              "      <td>0.174428</td>\n",
              "      <td>0.538494</td>\n",
              "      <td>0.0</td>\n",
              "      <td>0.0</td>\n",
              "      <td>0.0</td>\n",
              "      <td>0.0</td>\n",
              "      <td>0.0</td>\n",
              "      <td>0.0</td>\n",
              "      <td>0.0</td>\n",
              "      <td>0.0</td>\n",
              "      <td>0.0</td>\n",
              "      <td>0.0</td>\n",
              "      <td>0.0</td>\n",
              "      <td>0.0</td>\n",
              "      <td>0.0</td>\n",
              "      <td>0.0</td>\n",
              "    </tr>\n",
              "  </tbody>\n",
              "</table>\n",
              "</div>"
            ],
            "text/plain": [
              "         0         1         2         3         4   ...   45   46   47   48   49\n",
              "0  0.513197  0.469529  0.689687  0.462535  0.632406  ...  0.0  0.0  0.0  0.0  0.0\n",
              "0  0.513028  0.469469  0.689483  0.462420  0.636493  ...  0.0  0.0  0.0  0.0  0.0\n",
              "0  0.533292  0.450309  0.693777  0.466514  0.640564  ...  0.0  0.0  0.0  0.0  0.0\n",
              "0  0.558698  0.446465  0.681148  0.478451  0.636564  ...  0.0  0.0  0.0  0.0  0.0\n",
              "0  0.599448  0.442547  0.710891  0.466541  0.690285  ...  0.0  0.0  0.0  0.0  0.0\n",
              "\n",
              "[5 rows x 50 columns]"
            ]
          },
          "metadata": {
            "tags": []
          },
          "execution_count": 5
        }
      ]
    },
    {
      "cell_type": "code",
      "metadata": {
        "id": "nmIblH1rtd8T",
        "colab_type": "code",
        "colab": {}
      },
      "source": [
        "x,y=train.shape\n",
        "train=train.iloc[:90*int(x/90),:]\n",
        "train=train.values\n",
        "train=train.reshape(int(x/90),90,50)"
      ],
      "execution_count": 0,
      "outputs": []
    },
    {
      "cell_type": "markdown",
      "metadata": {
        "id": "YMD0xWfcPBbj",
        "colab_type": "text"
      },
      "source": [
        "Please change the path of the model."
      ]
    },
    {
      "cell_type": "code",
      "metadata": {
        "id": "Vm3nA0XO0S7N",
        "colab_type": "code",
        "colab": {
          "base_uri": "https://localhost:8080/",
          "height": 641
        },
        "outputId": "a047b67e-4b08-4a67-917a-159f4d05cae3"
      },
      "source": [
        "model=keras.models.load_model('/content/wall final')"
      ],
      "execution_count": 9,
      "outputs": [
        {
          "output_type": "stream",
          "text": [
            "WARNING:tensorflow:From /usr/local/lib/python3.6/dist-packages/keras/backend/tensorflow_backend.py:66: The name tf.get_default_graph is deprecated. Please use tf.compat.v1.get_default_graph instead.\n",
            "\n",
            "WARNING:tensorflow:From /usr/local/lib/python3.6/dist-packages/keras/backend/tensorflow_backend.py:541: The name tf.placeholder is deprecated. Please use tf.compat.v1.placeholder instead.\n",
            "\n",
            "WARNING:tensorflow:From /usr/local/lib/python3.6/dist-packages/keras/backend/tensorflow_backend.py:4432: The name tf.random_uniform is deprecated. Please use tf.random.uniform instead.\n",
            "\n",
            "WARNING:tensorflow:From /usr/local/lib/python3.6/dist-packages/keras/backend/tensorflow_backend.py:148: The name tf.placeholder_with_default is deprecated. Please use tf.compat.v1.placeholder_with_default instead.\n",
            "\n",
            "WARNING:tensorflow:From /usr/local/lib/python3.6/dist-packages/keras/backend/tensorflow_backend.py:3733: calling dropout (from tensorflow.python.ops.nn_ops) with keep_prob is deprecated and will be removed in a future version.\n",
            "Instructions for updating:\n",
            "Please use `rate` instead of `keep_prob`. Rate should be set to `rate = 1 - keep_prob`.\n",
            "WARNING:tensorflow:From /usr/local/lib/python3.6/dist-packages/keras/backend/tensorflow_backend.py:190: The name tf.get_default_session is deprecated. Please use tf.compat.v1.get_default_session instead.\n",
            "\n",
            "WARNING:tensorflow:From /usr/local/lib/python3.6/dist-packages/keras/backend/tensorflow_backend.py:197: The name tf.ConfigProto is deprecated. Please use tf.compat.v1.ConfigProto instead.\n",
            "\n",
            "WARNING:tensorflow:From /usr/local/lib/python3.6/dist-packages/keras/backend/tensorflow_backend.py:203: The name tf.Session is deprecated. Please use tf.compat.v1.Session instead.\n",
            "\n",
            "WARNING:tensorflow:From /usr/local/lib/python3.6/dist-packages/keras/backend/tensorflow_backend.py:207: The name tf.global_variables is deprecated. Please use tf.compat.v1.global_variables instead.\n",
            "\n",
            "WARNING:tensorflow:From /usr/local/lib/python3.6/dist-packages/keras/backend/tensorflow_backend.py:216: The name tf.is_variable_initialized is deprecated. Please use tf.compat.v1.is_variable_initialized instead.\n",
            "\n",
            "WARNING:tensorflow:From /usr/local/lib/python3.6/dist-packages/keras/backend/tensorflow_backend.py:223: The name tf.variables_initializer is deprecated. Please use tf.compat.v1.variables_initializer instead.\n",
            "\n",
            "WARNING:tensorflow:From /usr/local/lib/python3.6/dist-packages/keras/optimizers.py:793: The name tf.train.Optimizer is deprecated. Please use tf.compat.v1.train.Optimizer instead.\n",
            "\n",
            "WARNING:tensorflow:From /usr/local/lib/python3.6/dist-packages/keras/backend/tensorflow_backend.py:3657: The name tf.log is deprecated. Please use tf.math.log instead.\n",
            "\n",
            "WARNING:tensorflow:From /tensorflow-1.15.0/python3.6/tensorflow_core/python/ops/nn_impl.py:183: where (from tensorflow.python.ops.array_ops) is deprecated and will be removed in a future version.\n",
            "Instructions for updating:\n",
            "Use tf.where in 2.0, which has the same broadcast rule as np.where\n",
            "WARNING:tensorflow:From /usr/local/lib/python3.6/dist-packages/keras/backend/tensorflow_backend.py:1033: The name tf.assign_add is deprecated. Please use tf.compat.v1.assign_add instead.\n",
            "\n",
            "WARNING:tensorflow:From /usr/local/lib/python3.6/dist-packages/keras/backend/tensorflow_backend.py:1020: The name tf.assign is deprecated. Please use tf.compat.v1.assign instead.\n",
            "\n"
          ],
          "name": "stdout"
        }
      ]
    },
    {
      "cell_type": "code",
      "metadata": {
        "id": "OA3_LhyK0p6d",
        "colab_type": "code",
        "colab": {}
      },
      "source": [
        "y=model.predict(train)"
      ],
      "execution_count": 0,
      "outputs": []
    },
    {
      "cell_type": "code",
      "metadata": {
        "id": "p3Yf5Sr2iU2v",
        "colab_type": "code",
        "colab": {
          "base_uri": "https://localhost:8080/",
          "height": 372
        },
        "outputId": "4f6d9c75-2f6e-471f-eacb-ac57f8963c68"
      },
      "source": [
        "y"
      ],
      "execution_count": 11,
      "outputs": [
        {
          "output_type": "execute_result",
          "data": {
            "text/plain": [
              "array([[0.96829724],\n",
              "       [0.9582413 ],\n",
              "       [0.9729694 ],\n",
              "       [0.97257566],\n",
              "       [0.9800836 ],\n",
              "       [0.73059636],\n",
              "       [0.7662995 ],\n",
              "       [0.9148417 ],\n",
              "       [0.66807014],\n",
              "       [0.3203054 ],\n",
              "       [0.13438553],\n",
              "       [0.02247983],\n",
              "       [0.03698343],\n",
              "       [0.06166363],\n",
              "       [0.02320814],\n",
              "       [0.16059077],\n",
              "       [0.0290496 ],\n",
              "       [0.04897086],\n",
              "       [0.03202593],\n",
              "       [0.14766946]], dtype=float32)"
            ]
          },
          "metadata": {
            "tags": []
          },
          "execution_count": 11
        }
      ]
    },
    {
      "cell_type": "code",
      "metadata": {
        "id": "F4hA022J0ra4",
        "colab_type": "code",
        "colab": {
          "base_uri": "https://localhost:8080/",
          "height": 372
        },
        "outputId": "90c12d98-cf51-4b98-a8d3-cc830b286f03"
      },
      "source": [
        "p=[]\n",
        "for i in y:\n",
        "    if i<0.5:\n",
        "        p.append(0)\n",
        "        print(0)\n",
        "    else:\n",
        "        p.append(1)\n",
        "        print(1)"
      ],
      "execution_count": 12,
      "outputs": [
        {
          "output_type": "stream",
          "text": [
            "1\n",
            "1\n",
            "1\n",
            "1\n",
            "1\n",
            "1\n",
            "1\n",
            "1\n",
            "1\n",
            "0\n",
            "0\n",
            "0\n",
            "0\n",
            "0\n",
            "0\n",
            "0\n",
            "0\n",
            "0\n",
            "0\n",
            "0\n"
          ],
          "name": "stdout"
        }
      ]
    },
    {
      "cell_type": "code",
      "metadata": {
        "id": "3VVvECgk1dbT",
        "colab_type": "code",
        "colab": {}
      },
      "source": [
        "l=[]\n",
        "for i in p:\n",
        "    for j in range(0,3):\n",
        "        l.append(i)\n",
        "        \n"
      ],
      "execution_count": 0,
      "outputs": []
    },
    {
      "cell_type": "markdown",
      "metadata": {
        "id": "M_QdkBPyPNP5",
        "colab_type": "text"
      },
      "source": [
        "Graph for 60 seconds."
      ]
    },
    {
      "cell_type": "code",
      "metadata": {
        "id": "MhpXoI36EcY3",
        "colab_type": "code",
        "colab": {
          "base_uri": "https://localhost:8080/",
          "height": 297
        },
        "outputId": "205431fa-f484-49f6-dc42-042a1db44033"
      },
      "source": [
        "import matplotlib.pyplot as plt \n",
        "plt.plot(l)\n",
        "plt.xlabel('time')\n",
        "plt.ylabel('action')\n",
        "#plt.xticks(np.arange(0,60,1))"
      ],
      "execution_count": 14,
      "outputs": [
        {
          "output_type": "execute_result",
          "data": {
            "text/plain": [
              "Text(0, 0.5, 'action')"
            ]
          },
          "metadata": {
            "tags": []
          },
          "execution_count": 14
        },
        {
          "output_type": "display_data",
          "data": {
            "image/png": "[encoded data removed]",
            "text/plain": [
              "<Figure size 432x288 with 1 Axes>"
            ]
          },
          "metadata": {
            "tags": []
          }
        }
      ]
    },
    {
      "cell_type": "markdown",
      "metadata": {
        "id": "bGKsmadYPRz8",
        "colab_type": "text"
      },
      "source": [
        "Json files with timestamps and predicted outputs."
      ]
    },
    {
      "cell_type": "code",
      "metadata": {
        "id": "r_XKHgsystx6",
        "colab_type": "code",
        "colab": {}
      },
      "source": [
        "s=[]\n",
        "for i in range(len(y)):\n",
        "    s.append([i*3,float(y[i])])"
      ],
      "execution_count": 0,
      "outputs": []
    },
    {
      "cell_type": "code",
      "metadata": {
        "id": "NTm-Dg75MSb5",
        "colab_type": "code",
        "colab": {}
      },
      "source": [
        "import json\n",
        "q=json.dumps(s)\n",
        "with open('/content/timelabelvideo1.json','w') as outfile:\n",
        "    outfile.write(q)"
      ],
      "execution_count": 0,
      "outputs": []
    },
    {
      "cell_type": "code",
      "metadata": {
        "id": "4ZPfwds7MoVw",
        "colab_type": "code",
        "colab": {}
      },
      "source": [
        ""
      ],
      "execution_count": 0,
      "outputs": []
    },
    {
      "cell_type": "code",
      "metadata": {
        "id": "JJRvhoELNH5Z",
        "colab_type": "code",
        "colab": {}
      },
      "source": [
        ""
      ],
      "execution_count": 0,
      "outputs": []
    }
  ]
}