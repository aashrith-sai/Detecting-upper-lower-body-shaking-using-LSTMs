{
  "nbformat": 4,
  "nbformat_minor": 0,
  "metadata": {
    "colab": {
      "name": "video2.ipynb",
      "provenance": [],
      "collapsed_sections": []
    },
    "kernelspec": {
      "name": "python3",
      "display_name": "Python 3"
    }
  },
  "cells": [
    {
      "cell_type": "code",
      "metadata": {
        "id": "YaOrHLt7smcU",
        "colab_type": "code",
        "outputId": "69f326a0-44a4-44cd-d705-ca031a9b3d43",
        "colab": {
          "base_uri": "https://localhost:8080/",
          "height": 81
        }
      },
      "source": [
        "import os\n",
        "import pandas as pd\n",
        "import numpy as np\n",
        "import json\n",
        "from google.colab import files\n",
        "import io\n",
        "from keras import layers\n",
        "from keras import models\n",
        "from keras import applications\n",
        "from keras import optimizers\n",
        "import keras"
      ],
      "execution_count": 0,
      "outputs": [
        {
          "output_type": "stream",
          "text": [
            "Using TensorFlow backend.\n"
          ],
          "name": "stderr"
        },
        {
          "output_type": "display_data",
          "data": {
            "text/html": [
              "<p style=\"color: red;\">\n",
              "The default version of TensorFlow in Colab will soon switch to TensorFlow 2.x.<br>\n",
              "We recommend you <a href=\"https://www.tensorflow.org/guide/migrate\" target=\"_blank\">upgrade</a> now \n",
              "or ensure your notebook will continue to use TensorFlow 1.x via the <code>%tensorflow_version 1.x</code> magic:\n",
              "<a href=\"https://colab.research.google.com/notebooks/tensorflow_version.ipynb\" target=\"_blank\">more info</a>.</p>\n"
            ],
            "text/plain": [
              "<IPython.core.display.HTML object>"
            ]
          },
          "metadata": {
            "tags": []
          }
        }
      ]
    },
    {
      "cell_type": "code",
      "metadata": {
        "id": "oQya-GPot0rx",
        "colab_type": "code",
        "outputId": "53535a97-f370-4e3b-aa38-f6c0443dc6e6",
        "colab": {
          "base_uri": "https://localhost:8080/",
          "height": 126
        }
      },
      "source": [
        "from google.colab import drive\n",
        "drive.mount('/content/drive')"
      ],
      "execution_count": 0,
      "outputs": [
        {
          "output_type": "stream",
          "text": [
            "Go to this URL in a browser: https://accounts.google.com/o/oauth2/auth?client_id=947318989803-6bn6qk8qdgf4n4g3pfee6491hc0brc4i.apps.googleusercontent.com&redirect_uri=urn%3aietf%3awg%3aoauth%3a2.0%3aoob&response_type=code&scope=email%20https%3a%2f%2fwww.googleapis.com%2fauth%2fdocs.test%20https%3a%2f%2fwww.googleapis.com%2fauth%2fdrive%20https%3a%2f%2fwww.googleapis.com%2fauth%2fdrive.photos.readonly%20https%3a%2f%2fwww.googleapis.com%2fauth%2fpeopleapi.readonly\n",
            "\n",
            "Enter your authorization code:\n",
            "··········\n",
            "Mounted at /content/drive\n"
          ],
          "name": "stdout"
        }
      ]
    },
    {
      "cell_type": "markdown",
      "metadata": {
        "id": "NOg4FSDeO4iI",
        "colab_type": "text"
      },
      "source": [
        "Please change the path to the desired video to be tested.\n"
      ]
    },
    {
      "cell_type": "code",
      "metadata": {
        "id": "1mUe6Fg4s59K",
        "colab_type": "code",
        "colab": {
          "base_uri": "https://localhost:8080/",
          "height": 35
        },
        "outputId": "bfd7c9c0-d86b-4674-ea1b-4dd4952c61f4"
      },
      "source": [
        "i=1\n",
        "path='/content/drive/My Drive/results data/newdata/60n.json'\n",
        "#path='/content/1'\n",
        "json_files=[pos_json for pos_json in os.listdir(path) if pos_json.endswith('.json')]\n",
        "print('Found: ',len(json_files),'json keypoint frame files')\n",
        "a=json.load(open(path+'/'+json_files[0]))\n",
        "b=a['people']\n",
        "q=b[0]['pose_keypoints_2d']\n",
        "s=[p for p in q if p>1]\n",
        "train=pd.DataFrame([s])\n",
        "for j in range(1,len(json_files)):\n",
        "    a=json.load(open(path+'/'+json_files[j]))\n",
        "    b=a['people']\n",
        "    if len(b)>0:\n",
        "        q=b[0]['pose_keypoints_2d']\n",
        "        s=[p for p in q if p>1]\n",
        "        s=pd.DataFrame([s])\n",
        "        train=train.append(s)\n",
        "    else:\n",
        "        continue"
      ],
      "execution_count": 3,
      "outputs": [
        {
          "output_type": "stream",
          "text": [
            "Found:  1817 json keypoint frame files\n"
          ],
          "name": "stdout"
        }
      ]
    },
    {
      "cell_type": "code",
      "metadata": {
        "id": "j8SDx6iGs-Iq",
        "colab_type": "code",
        "colab": {}
      },
      "source": [
        "train=train.fillna(method='ffill')\n",
        "train=train.fillna(0)\n",
        "y,x=train.shape\n",
        "s=np.zeros(y)\n",
        "s=pd.DataFrame(s)\n",
        "\n",
        "for i in range(50):\n",
        "    y,x=train.shape\n",
        "    if x!=50:\n",
        "        train[x]=s\n",
        "        x=x+1\n",
        "    if y<90:\n",
        "        train=train.append(train.iloc[y-1])\n",
        "\n",
        "for i in range(50):\n",
        "    train.iloc[:,i]=train.iloc[:,i]/train.iloc[:,i].max()"
      ],
      "execution_count": 0,
      "outputs": []
    },
    {
      "cell_type": "code",
      "metadata": {
        "id": "1rW8lFsZtN03",
        "colab_type": "code",
        "colab": {
          "base_uri": "https://localhost:8080/",
          "height": 220
        },
        "outputId": "7c3f8dff-8b5d-4305-af59-7559bb1e340b"
      },
      "source": [
        "train=train.fillna(method='ffill')\n",
        "train=train.fillna(0)\n",
        "train.head()"
      ],
      "execution_count": 5,
      "outputs": [
        {
          "output_type": "execute_result",
          "data": {
            "text/html": [
              "<div>\n",
              "<style scoped>\n",
              "    .dataframe tbody tr th:only-of-type {\n",
              "        vertical-align: middle;\n",
              "    }\n",
              "\n",
              "    .dataframe tbody tr th {\n",
              "        vertical-align: top;\n",
              "    }\n",
              "\n",
              "    .dataframe thead th {\n",
              "        text-align: right;\n",
              "    }\n",
              "</style>\n",
              "<table border=\"1\" class=\"dataframe\">\n",
              "  <thead>\n",
              "    <tr style=\"text-align: right;\">\n",
              "      <th></th>\n",
              "      <th>0</th>\n",
              "      <th>1</th>\n",
              "      <th>2</th>\n",
              "      <th>3</th>\n",
              "      <th>4</th>\n",
              "      <th>5</th>\n",
              "      <th>6</th>\n",
              "      <th>7</th>\n",
              "      <th>8</th>\n",
              "      <th>9</th>\n",
              "      <th>10</th>\n",
              "      <th>11</th>\n",
              "      <th>12</th>\n",
              "      <th>13</th>\n",
              "      <th>14</th>\n",
              "      <th>15</th>\n",
              "      <th>16</th>\n",
              "      <th>17</th>\n",
              "      <th>18</th>\n",
              "      <th>19</th>\n",
              "      <th>20</th>\n",
              "      <th>21</th>\n",
              "      <th>22</th>\n",
              "      <th>23</th>\n",
              "      <th>24</th>\n",
              "      <th>25</th>\n",
              "      <th>26</th>\n",
              "      <th>27</th>\n",
              "      <th>28</th>\n",
              "      <th>29</th>\n",
              "      <th>30</th>\n",
              "      <th>31</th>\n",
              "      <th>32</th>\n",
              "      <th>33</th>\n",
              "      <th>34</th>\n",
              "      <th>35</th>\n",
              "      <th>36</th>\n",
              "      <th>37</th>\n",
              "      <th>38</th>\n",
              "      <th>39</th>\n",
              "      <th>40</th>\n",
              "      <th>41</th>\n",
              "      <th>42</th>\n",
              "      <th>43</th>\n",
              "      <th>44</th>\n",
              "      <th>45</th>\n",
              "      <th>46</th>\n",
              "      <th>47</th>\n",
              "      <th>48</th>\n",
              "      <th>49</th>\n",
              "    </tr>\n",
              "  </thead>\n",
              "  <tbody>\n",
              "    <tr>\n",
              "      <th>0</th>\n",
              "      <td>0.427543</td>\n",
              "      <td>0.522020</td>\n",
              "      <td>0.613432</td>\n",
              "      <td>0.505426</td>\n",
              "      <td>0.638038</td>\n",
              "      <td>0.587280</td>\n",
              "      <td>0.789213</td>\n",
              "      <td>0.630068</td>\n",
              "      <td>0.890105</td>\n",
              "      <td>0.670824</td>\n",
              "      <td>0.372184</td>\n",
              "      <td>0.353354</td>\n",
              "      <td>0.660293</td>\n",
              "      <td>0.345257</td>\n",
              "      <td>0.720138</td>\n",
              "      <td>0.338567</td>\n",
              "      <td>0.450614</td>\n",
              "      <td>0.575454</td>\n",
              "      <td>0.425952</td>\n",
              "      <td>0.622378</td>\n",
              "      <td>0.420303</td>\n",
              "      <td>0.690618</td>\n",
              "      <td>0.547289</td>\n",
              "      <td>0.723917</td>\n",
              "      <td>0.441246</td>\n",
              "      <td>0.453103</td>\n",
              "      <td>0.705937</td>\n",
              "      <td>0.431948</td>\n",
              "      <td>0.903455</td>\n",
              "      <td>0.352146</td>\n",
              "      <td>0.115249</td>\n",
              "      <td>0.515667</td>\n",
              "      <td>0.109852</td>\n",
              "      <td>0.444630</td>\n",
              "      <td>0.108689</td>\n",
              "      <td>0.552815</td>\n",
              "      <td>0.097353</td>\n",
              "      <td>0.456514</td>\n",
              "      <td>0.867788</td>\n",
              "      <td>0.374536</td>\n",
              "      <td>0.0</td>\n",
              "      <td>0.0</td>\n",
              "      <td>0.0</td>\n",
              "      <td>0.0</td>\n",
              "      <td>0.0</td>\n",
              "      <td>0.0</td>\n",
              "      <td>0.0</td>\n",
              "      <td>0.0</td>\n",
              "      <td>0.0</td>\n",
              "      <td>0.0</td>\n",
              "    </tr>\n",
              "    <tr>\n",
              "      <th>0</th>\n",
              "      <td>0.421930</td>\n",
              "      <td>0.522011</td>\n",
              "      <td>0.618073</td>\n",
              "      <td>0.505439</td>\n",
              "      <td>0.642484</td>\n",
              "      <td>0.598947</td>\n",
              "      <td>0.796011</td>\n",
              "      <td>0.630099</td>\n",
              "      <td>0.895658</td>\n",
              "      <td>0.670877</td>\n",
              "      <td>0.372193</td>\n",
              "      <td>0.349727</td>\n",
              "      <td>0.643416</td>\n",
              "      <td>0.345105</td>\n",
              "      <td>0.720198</td>\n",
              "      <td>0.331321</td>\n",
              "      <td>0.454231</td>\n",
              "      <td>0.542040</td>\n",
              "      <td>0.433088</td>\n",
              "      <td>0.599541</td>\n",
              "      <td>0.456758</td>\n",
              "      <td>0.436763</td>\n",
              "      <td>0.115189</td>\n",
              "      <td>0.533591</td>\n",
              "      <td>0.106294</td>\n",
              "      <td>0.456237</td>\n",
              "      <td>0.112980</td>\n",
              "      <td>0.553041</td>\n",
              "      <td>0.103801</td>\n",
              "      <td>0.386100</td>\n",
              "      <td>0.115249</td>\n",
              "      <td>0.515667</td>\n",
              "      <td>0.109852</td>\n",
              "      <td>0.444630</td>\n",
              "      <td>0.108689</td>\n",
              "      <td>0.552815</td>\n",
              "      <td>0.097353</td>\n",
              "      <td>0.456514</td>\n",
              "      <td>0.867788</td>\n",
              "      <td>0.374536</td>\n",
              "      <td>0.0</td>\n",
              "      <td>0.0</td>\n",
              "      <td>0.0</td>\n",
              "      <td>0.0</td>\n",
              "      <td>0.0</td>\n",
              "      <td>0.0</td>\n",
              "      <td>0.0</td>\n",
              "      <td>0.0</td>\n",
              "      <td>0.0</td>\n",
              "      <td>0.0</td>\n",
              "    </tr>\n",
              "    <tr>\n",
              "      <th>0</th>\n",
              "      <td>0.422033</td>\n",
              "      <td>0.521904</td>\n",
              "      <td>0.618194</td>\n",
              "      <td>0.508826</td>\n",
              "      <td>0.642634</td>\n",
              "      <td>0.593185</td>\n",
              "      <td>0.792588</td>\n",
              "      <td>0.630046</td>\n",
              "      <td>0.895674</td>\n",
              "      <td>0.670727</td>\n",
              "      <td>0.374936</td>\n",
              "      <td>0.357011</td>\n",
              "      <td>0.663060</td>\n",
              "      <td>0.333745</td>\n",
              "      <td>0.720198</td>\n",
              "      <td>0.309598</td>\n",
              "      <td>0.465040</td>\n",
              "      <td>0.538718</td>\n",
              "      <td>0.436670</td>\n",
              "      <td>0.589826</td>\n",
              "      <td>0.465451</td>\n",
              "      <td>0.433510</td>\n",
              "      <td>0.742774</td>\n",
              "      <td>0.448030</td>\n",
              "      <td>0.813200</td>\n",
              "      <td>0.409109</td>\n",
              "      <td>0.109736</td>\n",
              "      <td>0.512800</td>\n",
              "      <td>0.105456</td>\n",
              "      <td>0.438543</td>\n",
              "      <td>0.115355</td>\n",
              "      <td>0.552572</td>\n",
              "      <td>0.101381</td>\n",
              "      <td>0.383000</td>\n",
              "      <td>0.108689</td>\n",
              "      <td>0.552815</td>\n",
              "      <td>0.097353</td>\n",
              "      <td>0.456514</td>\n",
              "      <td>0.867788</td>\n",
              "      <td>0.374536</td>\n",
              "      <td>0.0</td>\n",
              "      <td>0.0</td>\n",
              "      <td>0.0</td>\n",
              "      <td>0.0</td>\n",
              "      <td>0.0</td>\n",
              "      <td>0.0</td>\n",
              "      <td>0.0</td>\n",
              "      <td>0.0</td>\n",
              "      <td>0.0</td>\n",
              "      <td>0.0</td>\n",
              "    </tr>\n",
              "    <tr>\n",
              "      <th>0</th>\n",
              "      <td>0.399584</td>\n",
              "      <td>0.525373</td>\n",
              "      <td>0.617996</td>\n",
              "      <td>0.512303</td>\n",
              "      <td>0.642546</td>\n",
              "      <td>0.598956</td>\n",
              "      <td>0.789231</td>\n",
              "      <td>0.630024</td>\n",
              "      <td>0.895658</td>\n",
              "      <td>0.667868</td>\n",
              "      <td>0.372244</td>\n",
              "      <td>0.357046</td>\n",
              "      <td>0.620965</td>\n",
              "      <td>0.337538</td>\n",
              "      <td>0.709043</td>\n",
              "      <td>0.302387</td>\n",
              "      <td>0.441626</td>\n",
              "      <td>0.532039</td>\n",
              "      <td>0.431316</td>\n",
              "      <td>0.589787</td>\n",
              "      <td>0.435939</td>\n",
              "      <td>0.430241</td>\n",
              "      <td>0.734227</td>\n",
              "      <td>0.460616</td>\n",
              "      <td>0.814858</td>\n",
              "      <td>0.415291</td>\n",
              "      <td>0.106430</td>\n",
              "      <td>0.525121</td>\n",
              "      <td>0.102017</td>\n",
              "      <td>0.444735</td>\n",
              "      <td>0.115305</td>\n",
              "      <td>0.549551</td>\n",
              "      <td>0.104806</td>\n",
              "      <td>0.379989</td>\n",
              "      <td>0.108689</td>\n",
              "      <td>0.552815</td>\n",
              "      <td>0.097353</td>\n",
              "      <td>0.456514</td>\n",
              "      <td>0.867788</td>\n",
              "      <td>0.374536</td>\n",
              "      <td>0.0</td>\n",
              "      <td>0.0</td>\n",
              "      <td>0.0</td>\n",
              "      <td>0.0</td>\n",
              "      <td>0.0</td>\n",
              "      <td>0.0</td>\n",
              "      <td>0.0</td>\n",
              "      <td>0.0</td>\n",
              "      <td>0.0</td>\n",
              "      <td>0.0</td>\n",
              "    </tr>\n",
              "    <tr>\n",
              "      <th>0</th>\n",
              "      <td>0.393839</td>\n",
              "      <td>0.525377</td>\n",
              "      <td>0.618007</td>\n",
              "      <td>0.508847</td>\n",
              "      <td>0.637959</td>\n",
              "      <td>0.599064</td>\n",
              "      <td>0.775588</td>\n",
              "      <td>0.629939</td>\n",
              "      <td>0.365641</td>\n",
              "      <td>0.282730</td>\n",
              "      <td>0.617144</td>\n",
              "      <td>0.312995</td>\n",
              "      <td>0.907397</td>\n",
              "      <td>0.303136</td>\n",
              "      <td>0.564633</td>\n",
              "      <td>0.574872</td>\n",
              "      <td>0.454235</td>\n",
              "      <td>0.605569</td>\n",
              "      <td>0.461725</td>\n",
              "      <td>0.433545</td>\n",
              "      <td>0.744899</td>\n",
              "      <td>0.469314</td>\n",
              "      <td>0.837104</td>\n",
              "      <td>0.422596</td>\n",
              "      <td>0.102978</td>\n",
              "      <td>0.528546</td>\n",
              "      <td>0.096592</td>\n",
              "      <td>0.453692</td>\n",
              "      <td>0.115799</td>\n",
              "      <td>0.549559</td>\n",
              "      <td>0.103502</td>\n",
              "      <td>0.386076</td>\n",
              "      <td>0.828053</td>\n",
              "      <td>0.407802</td>\n",
              "      <td>0.108689</td>\n",
              "      <td>0.552815</td>\n",
              "      <td>0.097353</td>\n",
              "      <td>0.456514</td>\n",
              "      <td>0.867788</td>\n",
              "      <td>0.374536</td>\n",
              "      <td>0.0</td>\n",
              "      <td>0.0</td>\n",
              "      <td>0.0</td>\n",
              "      <td>0.0</td>\n",
              "      <td>0.0</td>\n",
              "      <td>0.0</td>\n",
              "      <td>0.0</td>\n",
              "      <td>0.0</td>\n",
              "      <td>0.0</td>\n",
              "      <td>0.0</td>\n",
              "    </tr>\n",
              "  </tbody>\n",
              "</table>\n",
              "</div>"
            ],
            "text/plain": [
              "         0         1         2         3         4   ...   45   46   47   48   49\n",
              "0  0.427543  0.522020  0.613432  0.505426  0.638038  ...  0.0  0.0  0.0  0.0  0.0\n",
              "0  0.421930  0.522011  0.618073  0.505439  0.642484  ...  0.0  0.0  0.0  0.0  0.0\n",
              "0  0.422033  0.521904  0.618194  0.508826  0.642634  ...  0.0  0.0  0.0  0.0  0.0\n",
              "0  0.399584  0.525373  0.617996  0.512303  0.642546  ...  0.0  0.0  0.0  0.0  0.0\n",
              "0  0.393839  0.525377  0.618007  0.508847  0.637959  ...  0.0  0.0  0.0  0.0  0.0\n",
              "\n",
              "[5 rows x 50 columns]"
            ]
          },
          "metadata": {
            "tags": []
          },
          "execution_count": 5
        }
      ]
    },
    {
      "cell_type": "code",
      "metadata": {
        "id": "nmIblH1rtd8T",
        "colab_type": "code",
        "colab": {}
      },
      "source": [
        "x,y=train.shape\n",
        "train=train.iloc[:90*int(x/90),:]\n",
        "train=train.values\n",
        "train=train.reshape(int(x/90),90,50)"
      ],
      "execution_count": 0,
      "outputs": []
    },
    {
      "cell_type": "markdown",
      "metadata": {
        "id": "YMD0xWfcPBbj",
        "colab_type": "text"
      },
      "source": [
        "Please change the path of the model."
      ]
    },
    {
      "cell_type": "code",
      "metadata": {
        "id": "Vm3nA0XO0S7N",
        "colab_type": "code",
        "colab": {
          "base_uri": "https://localhost:8080/",
          "height": 641
        },
        "outputId": "418c6399-d013-4a4a-cc47-5bb559274163"
      },
      "source": [
        "model=keras.models.load_model('/content/wall final')"
      ],
      "execution_count": 7,
      "outputs": [
        {
          "output_type": "stream",
          "text": [
            "WARNING:tensorflow:From /usr/local/lib/python3.6/dist-packages/keras/backend/tensorflow_backend.py:66: The name tf.get_default_graph is deprecated. Please use tf.compat.v1.get_default_graph instead.\n",
            "\n",
            "WARNING:tensorflow:From /usr/local/lib/python3.6/dist-packages/keras/backend/tensorflow_backend.py:541: The name tf.placeholder is deprecated. Please use tf.compat.v1.placeholder instead.\n",
            "\n",
            "WARNING:tensorflow:From /usr/local/lib/python3.6/dist-packages/keras/backend/tensorflow_backend.py:4432: The name tf.random_uniform is deprecated. Please use tf.random.uniform instead.\n",
            "\n",
            "WARNING:tensorflow:From /usr/local/lib/python3.6/dist-packages/keras/backend/tensorflow_backend.py:148: The name tf.placeholder_with_default is deprecated. Please use tf.compat.v1.placeholder_with_default instead.\n",
            "\n",
            "WARNING:tensorflow:From /usr/local/lib/python3.6/dist-packages/keras/backend/tensorflow_backend.py:3733: calling dropout (from tensorflow.python.ops.nn_ops) with keep_prob is deprecated and will be removed in a future version.\n",
            "Instructions for updating:\n",
            "Please use `rate` instead of `keep_prob`. Rate should be set to `rate = 1 - keep_prob`.\n",
            "WARNING:tensorflow:From /usr/local/lib/python3.6/dist-packages/keras/backend/tensorflow_backend.py:190: The name tf.get_default_session is deprecated. Please use tf.compat.v1.get_default_session instead.\n",
            "\n",
            "WARNING:tensorflow:From /usr/local/lib/python3.6/dist-packages/keras/backend/tensorflow_backend.py:197: The name tf.ConfigProto is deprecated. Please use tf.compat.v1.ConfigProto instead.\n",
            "\n",
            "WARNING:tensorflow:From /usr/local/lib/python3.6/dist-packages/keras/backend/tensorflow_backend.py:203: The name tf.Session is deprecated. Please use tf.compat.v1.Session instead.\n",
            "\n",
            "WARNING:tensorflow:From /usr/local/lib/python3.6/dist-packages/keras/backend/tensorflow_backend.py:207: The name tf.global_variables is deprecated. Please use tf.compat.v1.global_variables instead.\n",
            "\n",
            "WARNING:tensorflow:From /usr/local/lib/python3.6/dist-packages/keras/backend/tensorflow_backend.py:216: The name tf.is_variable_initialized is deprecated. Please use tf.compat.v1.is_variable_initialized instead.\n",
            "\n",
            "WARNING:tensorflow:From /usr/local/lib/python3.6/dist-packages/keras/backend/tensorflow_backend.py:223: The name tf.variables_initializer is deprecated. Please use tf.compat.v1.variables_initializer instead.\n",
            "\n",
            "WARNING:tensorflow:From /usr/local/lib/python3.6/dist-packages/keras/optimizers.py:793: The name tf.train.Optimizer is deprecated. Please use tf.compat.v1.train.Optimizer instead.\n",
            "\n",
            "WARNING:tensorflow:From /usr/local/lib/python3.6/dist-packages/keras/backend/tensorflow_backend.py:3657: The name tf.log is deprecated. Please use tf.math.log instead.\n",
            "\n",
            "WARNING:tensorflow:From /tensorflow-1.15.0/python3.6/tensorflow_core/python/ops/nn_impl.py:183: where (from tensorflow.python.ops.array_ops) is deprecated and will be removed in a future version.\n",
            "Instructions for updating:\n",
            "Use tf.where in 2.0, which has the same broadcast rule as np.where\n",
            "WARNING:tensorflow:From /usr/local/lib/python3.6/dist-packages/keras/backend/tensorflow_backend.py:1033: The name tf.assign_add is deprecated. Please use tf.compat.v1.assign_add instead.\n",
            "\n",
            "WARNING:tensorflow:From /usr/local/lib/python3.6/dist-packages/keras/backend/tensorflow_backend.py:1020: The name tf.assign is deprecated. Please use tf.compat.v1.assign instead.\n",
            "\n"
          ],
          "name": "stdout"
        }
      ]
    },
    {
      "cell_type": "code",
      "metadata": {
        "id": "OA3_LhyK0p6d",
        "colab_type": "code",
        "colab": {}
      },
      "source": [
        "y=model.predict(train)"
      ],
      "execution_count": 0,
      "outputs": []
    },
    {
      "cell_type": "code",
      "metadata": {
        "id": "p3Yf5Sr2iU2v",
        "colab_type": "code",
        "colab": {
          "base_uri": "https://localhost:8080/",
          "height": 372
        },
        "outputId": "fe0fd225-9596-4e0c-c887-cea65e24419f"
      },
      "source": [
        "y"
      ],
      "execution_count": 9,
      "outputs": [
        {
          "output_type": "execute_result",
          "data": {
            "text/plain": [
              "array([[0.05273071],\n",
              "       [0.02107847],\n",
              "       [0.01844183],\n",
              "       [0.01806182],\n",
              "       [0.01946983],\n",
              "       [0.01791406],\n",
              "       [0.01700497],\n",
              "       [0.01892248],\n",
              "       [0.01926726],\n",
              "       [0.0153223 ],\n",
              "       [0.01861563],\n",
              "       [0.571185  ],\n",
              "       [0.02105904],\n",
              "       [0.01735881],\n",
              "       [0.02158958],\n",
              "       [0.7573012 ],\n",
              "       [0.03484219],\n",
              "       [0.01879901],\n",
              "       [0.01720638],\n",
              "       [0.0184346 ]], dtype=float32)"
            ]
          },
          "metadata": {
            "tags": []
          },
          "execution_count": 9
        }
      ]
    },
    {
      "cell_type": "code",
      "metadata": {
        "id": "F4hA022J0ra4",
        "colab_type": "code",
        "colab": {
          "base_uri": "https://localhost:8080/",
          "height": 372
        },
        "outputId": "b341cb28-5ef7-4a12-ff7e-29ace66db87d"
      },
      "source": [
        "p=[]\n",
        "for i in y:\n",
        "    if i<0.5:\n",
        "        p.append(0)\n",
        "        print(0)\n",
        "    else:\n",
        "        p.append(1)\n",
        "        print(1)"
      ],
      "execution_count": 10,
      "outputs": [
        {
          "output_type": "stream",
          "text": [
            "0\n",
            "0\n",
            "0\n",
            "0\n",
            "0\n",
            "0\n",
            "0\n",
            "0\n",
            "0\n",
            "0\n",
            "0\n",
            "1\n",
            "0\n",
            "0\n",
            "0\n",
            "1\n",
            "0\n",
            "0\n",
            "0\n",
            "0\n"
          ],
          "name": "stdout"
        }
      ]
    },
    {
      "cell_type": "code",
      "metadata": {
        "id": "3VVvECgk1dbT",
        "colab_type": "code",
        "colab": {}
      },
      "source": [
        "l=[]\n",
        "for i in p:\n",
        "    for j in range(0,3):\n",
        "        l.append(i)\n",
        "        \n"
      ],
      "execution_count": 0,
      "outputs": []
    },
    {
      "cell_type": "markdown",
      "metadata": {
        "id": "M_QdkBPyPNP5",
        "colab_type": "text"
      },
      "source": [
        "Graph for 60 seconds."
      ]
    },
    {
      "cell_type": "code",
      "metadata": {
        "id": "MhpXoI36EcY3",
        "colab_type": "code",
        "colab": {
          "base_uri": "https://localhost:8080/",
          "height": 297
        },
        "outputId": "daa957a1-3505-43b4-a868-07184eef2388"
      },
      "source": [
        "import matplotlib.pyplot as plt \n",
        "plt.plot(l)\n",
        "plt.xlabel('time')\n",
        "plt.ylabel('action')\n",
        "#plt.xticks(np.arange(0,60,1))"
      ],
      "execution_count": 12,
      "outputs": [
        {
          "output_type": "execute_result",
          "data": {
            "text/plain": [
              "Text(0, 0.5, 'action')"
            ]
          },
          "metadata": {
            "tags": []
          },
          "execution_count": 12
        },
        {
          "output_type": "display_data",
          "data": {
            "image/png": "[encoded data removed]",
            "text/plain": [
              "<Figure size 432x288 with 1 Axes>"
            ]
          },
          "metadata": {
            "tags": []
          }
        }
      ]
    },
    {
      "cell_type": "markdown",
      "metadata": {
        "id": "bGKsmadYPRz8",
        "colab_type": "text"
      },
      "source": [
        "Json files with timestamps and predicted outputs."
      ]
    },
    {
      "cell_type": "code",
      "metadata": {
        "id": "r_XKHgsystx6",
        "colab_type": "code",
        "colab": {}
      },
      "source": [
        "s=[]\n",
        "for i in range(len(y)):\n",
        "    s.append([i*3,float(y[i])])"
      ],
      "execution_count": 0,
      "outputs": []
    },
    {
      "cell_type": "code",
      "metadata": {
        "id": "NTm-Dg75MSb5",
        "colab_type": "code",
        "colab": {}
      },
      "source": [
        "import json\n",
        "q=json.dumps(s)\n",
        "with open('/content/timelabelvideo2.json','w') as outfile:\n",
        "    outfile.write(q)"
      ],
      "execution_count": 0,
      "outputs": []
    },
    {
      "cell_type": "code",
      "metadata": {
        "id": "4ZPfwds7MoVw",
        "colab_type": "code",
        "colab": {}
      },
      "source": [
        ""
      ],
      "execution_count": 0,
      "outputs": []
    },
    {
      "cell_type": "code",
      "metadata": {
        "id": "JJRvhoELNH5Z",
        "colab_type": "code",
        "colab": {}
      },
      "source": [
        ""
      ],
      "execution_count": 0,
      "outputs": []
    }
  ]
}