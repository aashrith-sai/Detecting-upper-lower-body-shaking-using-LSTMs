{
  "nbformat": 4,
  "nbformat_minor": 0,
  "metadata": {
    "colab": {
      "name": "Testing with graph and json output.ipynb",
      "provenance": [],
      "collapsed_sections": []
    },
    "kernelspec": {
      "name": "python3",
      "display_name": "Python 3"
    }
  },
  "cells": [
    {
      "cell_type": "code",
      "metadata": {
        "id": "YaOrHLt7smcU",
        "colab_type": "code",
        "outputId": "76bc6991-952b-469b-e89b-a1b84067723b",
        "colab": {
          "base_uri": "https://localhost:8080/",
          "height": 81
        }
      },
      "source": [
        "import os\n",
        "import pandas as pd\n",
        "import numpy as np\n",
        "import json\n",
        "from google.colab import files\n",
        "import io\n",
        "from keras import layers\n",
        "from keras import models\n",
        "from keras import applications\n",
        "from keras import optimizers\n",
        "import keras"
      ],
      "execution_count": 0,
      "outputs": [
        {
          "output_type": "stream",
          "text": [
            "Using TensorFlow backend.\n"
          ],
          "name": "stderr"
        },
        {
          "output_type": "display_data",
          "data": {
            "text/html": [
              "<p style=\"color: red;\">\n",
              "The default version of TensorFlow in Colab will soon switch to TensorFlow 2.x.<br>\n",
              "We recommend you <a href=\"https://www.tensorflow.org/guide/migrate\" target=\"_blank\">upgrade</a> now \n",
              "or ensure your notebook will continue to use TensorFlow 1.x via the <code>%tensorflow_version 1.x</code> magic:\n",
              "<a href=\"https://colab.research.google.com/notebooks/tensorflow_version.ipynb\" target=\"_blank\">more info</a>.</p>\n"
            ],
            "text/plain": [
              "<IPython.core.display.HTML object>"
            ]
          },
          "metadata": {
            "tags": []
          }
        }
      ]
    },
    {
      "cell_type": "code",
      "metadata": {
        "id": "oQya-GPot0rx",
        "colab_type": "code",
        "outputId": "14608bad-4f30-45f0-b5ce-afe3afd07ee0",
        "colab": {
          "base_uri": "https://localhost:8080/",
          "height": 126
        }
      },
      "source": [
        "from google.colab import drive\n",
        "drive.mount('/content/drive')"
      ],
      "execution_count": 0,
      "outputs": [
        {
          "output_type": "stream",
          "text": [
            "Go to this URL in a browser: https://accounts.google.com/o/oauth2/auth?client_id=947318989803-6bn6qk8qdgf4n4g3pfee6491hc0brc4i.apps.googleusercontent.com&redirect_uri=urn%3aietf%3awg%3aoauth%3a2.0%3aoob&response_type=code&scope=email%20https%3a%2f%2fwww.googleapis.com%2fauth%2fdocs.test%20https%3a%2f%2fwww.googleapis.com%2fauth%2fdrive%20https%3a%2f%2fwww.googleapis.com%2fauth%2fdrive.photos.readonly%20https%3a%2f%2fwww.googleapis.com%2fauth%2fpeopleapi.readonly\n",
            "\n",
            "Enter your authorization code:\n",
            "··········\n",
            "Mounted at /content/drive\n"
          ],
          "name": "stdout"
        }
      ]
    },
    {
      "cell_type": "markdown",
      "metadata": {
        "id": "NOg4FSDeO4iI",
        "colab_type": "text"
      },
      "source": [
        "Please change the path to the desired video to be tested.\n"
      ]
    },
    {
      "cell_type": "code",
      "metadata": {
        "id": "1mUe6Fg4s59K",
        "colab_type": "code",
        "outputId": "f4ffefd8-947d-4f2b-a702-185558373000",
        "colab": {
          "base_uri": "https://localhost:8080/",
          "height": 35
        }
      },
      "source": [
        "i=1\n",
        "path='/content/drive/My Drive/results data/newdata/15-3-15.json'\n",
        "#path='/content/1'\n",
        "json_files=[pos_json for pos_json in os.listdir(path) if pos_json.endswith('.json')]\n",
        "print('Found: ',len(json_files),'json keypoint frame files')\n",
        "a=json.load(open(path+'/'+json_files[0]))\n",
        "b=a['people']\n",
        "q=b[0]['pose_keypoints_2d']\n",
        "s=[p for p in q if p>1]\n",
        "train=pd.DataFrame([s])\n",
        "for j in range(1,len(json_files)):\n",
        "    a=json.load(open(path+'/'+json_files[j]))\n",
        "    b=a['people']\n",
        "    if len(b)>0:\n",
        "        q=b[0]['pose_keypoints_2d']\n",
        "        s=[p for p in q if p>1]\n",
        "        s=pd.DataFrame([s])\n",
        "        train=train.append(s)\n",
        "    else:\n",
        "        continue"
      ],
      "execution_count": 29,
      "outputs": [
        {
          "output_type": "stream",
          "text": [
            "Found:  1820 json keypoint frame files\n"
          ],
          "name": "stdout"
        }
      ]
    },
    {
      "cell_type": "code",
      "metadata": {
        "id": "j8SDx6iGs-Iq",
        "colab_type": "code",
        "colab": {}
      },
      "source": [
        "train=train.fillna(method='ffill')\n",
        "train=train.fillna(0)\n",
        "y,x=train.shape\n",
        "s=np.zeros(y)\n",
        "s=pd.DataFrame(s)\n",
        "\n",
        "for i in range(50):\n",
        "    y,x=train.shape\n",
        "    if x!=50:\n",
        "        train[x]=s\n",
        "        x=x+1\n",
        "    if y<90:\n",
        "        train=train.append(train.iloc[y-1])\n",
        "\n",
        "for i in range(50):\n",
        "    train.iloc[:,i]=train.iloc[:,i]/train.iloc[:,i].max()"
      ],
      "execution_count": 0,
      "outputs": []
    },
    {
      "cell_type": "code",
      "metadata": {
        "id": "1rW8lFsZtN03",
        "colab_type": "code",
        "colab": {
          "base_uri": "https://localhost:8080/",
          "height": 220
        },
        "outputId": "cc94793e-aa92-4b59-ce6d-6ed0f24aa7f0"
      },
      "source": [
        "train=train.fillna(method='ffill')\n",
        "train=train.fillna(0)\n",
        "train.head()"
      ],
      "execution_count": 31,
      "outputs": [
        {
          "output_type": "execute_result",
          "data": {
            "text/html": [
              "<div>\n",
              "<style scoped>\n",
              "    .dataframe tbody tr th:only-of-type {\n",
              "        vertical-align: middle;\n",
              "    }\n",
              "\n",
              "    .dataframe tbody tr th {\n",
              "        vertical-align: top;\n",
              "    }\n",
              "\n",
              "    .dataframe thead th {\n",
              "        text-align: right;\n",
              "    }\n",
              "</style>\n",
              "<table border=\"1\" class=\"dataframe\">\n",
              "  <thead>\n",
              "    <tr style=\"text-align: right;\">\n",
              "      <th></th>\n",
              "      <th>0</th>\n",
              "      <th>1</th>\n",
              "      <th>2</th>\n",
              "      <th>3</th>\n",
              "      <th>4</th>\n",
              "      <th>5</th>\n",
              "      <th>6</th>\n",
              "      <th>7</th>\n",
              "      <th>8</th>\n",
              "      <th>9</th>\n",
              "      <th>10</th>\n",
              "      <th>11</th>\n",
              "      <th>12</th>\n",
              "      <th>13</th>\n",
              "      <th>14</th>\n",
              "      <th>15</th>\n",
              "      <th>16</th>\n",
              "      <th>17</th>\n",
              "      <th>18</th>\n",
              "      <th>19</th>\n",
              "      <th>20</th>\n",
              "      <th>21</th>\n",
              "      <th>22</th>\n",
              "      <th>23</th>\n",
              "      <th>24</th>\n",
              "      <th>25</th>\n",
              "      <th>26</th>\n",
              "      <th>27</th>\n",
              "      <th>28</th>\n",
              "      <th>29</th>\n",
              "      <th>30</th>\n",
              "      <th>31</th>\n",
              "      <th>32</th>\n",
              "      <th>33</th>\n",
              "      <th>34</th>\n",
              "      <th>35</th>\n",
              "      <th>36</th>\n",
              "      <th>37</th>\n",
              "      <th>38</th>\n",
              "      <th>39</th>\n",
              "      <th>40</th>\n",
              "      <th>41</th>\n",
              "      <th>42</th>\n",
              "      <th>43</th>\n",
              "      <th>44</th>\n",
              "      <th>45</th>\n",
              "      <th>46</th>\n",
              "      <th>47</th>\n",
              "      <th>48</th>\n",
              "      <th>49</th>\n",
              "    </tr>\n",
              "  </thead>\n",
              "  <tbody>\n",
              "    <tr>\n",
              "      <th>0</th>\n",
              "      <td>0.295466</td>\n",
              "      <td>0.658937</td>\n",
              "      <td>0.388708</td>\n",
              "      <td>0.636593</td>\n",
              "      <td>0.392565</td>\n",
              "      <td>0.764351</td>\n",
              "      <td>0.474967</td>\n",
              "      <td>0.734331</td>\n",
              "      <td>0.575232</td>\n",
              "      <td>0.824747</td>\n",
              "      <td>0.339770</td>\n",
              "      <td>0.431002</td>\n",
              "      <td>0.500197</td>\n",
              "      <td>0.393024</td>\n",
              "      <td>0.544424</td>\n",
              "      <td>0.598960</td>\n",
              "      <td>0.669295</td>\n",
              "      <td>0.757022</td>\n",
              "      <td>0.570102</td>\n",
              "      <td>0.567352</td>\n",
              "      <td>0.596916</td>\n",
              "      <td>0.512463</td>\n",
              "      <td>0.749315</td>\n",
              "      <td>0.495400</td>\n",
              "      <td>0.222254</td>\n",
              "      <td>0.695117</td>\n",
              "      <td>0.227315</td>\n",
              "      <td>0.603485</td>\n",
              "      <td>0.241545</td>\n",
              "      <td>0.714033</td>\n",
              "      <td>0.220170</td>\n",
              "      <td>0.514184</td>\n",
              "      <td>0.000000</td>\n",
              "      <td>0.000000</td>\n",
              "      <td>0.000000</td>\n",
              "      <td>0.000000</td>\n",
              "      <td>0.000000</td>\n",
              "      <td>0.000000</td>\n",
              "      <td>0.000000</td>\n",
              "      <td>0.00000</td>\n",
              "      <td>0.0</td>\n",
              "      <td>0.0</td>\n",
              "      <td>0.0</td>\n",
              "      <td>0.0</td>\n",
              "      <td>0.0</td>\n",
              "      <td>0.0</td>\n",
              "      <td>0.0</td>\n",
              "      <td>0.0</td>\n",
              "      <td>0.0</td>\n",
              "      <td>0.0</td>\n",
              "    </tr>\n",
              "    <tr>\n",
              "      <th>0</th>\n",
              "      <td>0.293581</td>\n",
              "      <td>0.632046</td>\n",
              "      <td>0.388605</td>\n",
              "      <td>0.650021</td>\n",
              "      <td>0.392547</td>\n",
              "      <td>0.767473</td>\n",
              "      <td>0.473263</td>\n",
              "      <td>0.734324</td>\n",
              "      <td>0.572183</td>\n",
              "      <td>0.824780</td>\n",
              "      <td>0.335985</td>\n",
              "      <td>0.433912</td>\n",
              "      <td>0.502060</td>\n",
              "      <td>0.387078</td>\n",
              "      <td>0.558688</td>\n",
              "      <td>0.312088</td>\n",
              "      <td>0.646351</td>\n",
              "      <td>0.670296</td>\n",
              "      <td>0.571790</td>\n",
              "      <td>0.711632</td>\n",
              "      <td>0.526094</td>\n",
              "      <td>0.589066</td>\n",
              "      <td>0.629403</td>\n",
              "      <td>0.528736</td>\n",
              "      <td>0.223798</td>\n",
              "      <td>0.681491</td>\n",
              "      <td>0.224188</td>\n",
              "      <td>0.590402</td>\n",
              "      <td>0.228918</td>\n",
              "      <td>0.737483</td>\n",
              "      <td>0.218572</td>\n",
              "      <td>0.511147</td>\n",
              "      <td>0.000000</td>\n",
              "      <td>0.000000</td>\n",
              "      <td>0.000000</td>\n",
              "      <td>0.000000</td>\n",
              "      <td>0.000000</td>\n",
              "      <td>0.000000</td>\n",
              "      <td>0.000000</td>\n",
              "      <td>0.00000</td>\n",
              "      <td>0.0</td>\n",
              "      <td>0.0</td>\n",
              "      <td>0.0</td>\n",
              "      <td>0.0</td>\n",
              "      <td>0.0</td>\n",
              "      <td>0.0</td>\n",
              "      <td>0.0</td>\n",
              "      <td>0.0</td>\n",
              "      <td>0.0</td>\n",
              "      <td>0.0</td>\n",
              "    </tr>\n",
              "    <tr>\n",
              "      <th>0</th>\n",
              "      <td>0.297440</td>\n",
              "      <td>0.659007</td>\n",
              "      <td>0.384512</td>\n",
              "      <td>0.646714</td>\n",
              "      <td>0.388548</td>\n",
              "      <td>0.770670</td>\n",
              "      <td>0.473314</td>\n",
              "      <td>0.734388</td>\n",
              "      <td>0.567538</td>\n",
              "      <td>0.838269</td>\n",
              "      <td>0.334133</td>\n",
              "      <td>0.433942</td>\n",
              "      <td>0.518967</td>\n",
              "      <td>0.375101</td>\n",
              "      <td>0.549153</td>\n",
              "      <td>0.315220</td>\n",
              "      <td>0.692231</td>\n",
              "      <td>0.684204</td>\n",
              "      <td>0.600461</td>\n",
              "      <td>0.735073</td>\n",
              "      <td>0.626859</td>\n",
              "      <td>0.791040</td>\n",
              "      <td>0.554662</td>\n",
              "      <td>0.572136</td>\n",
              "      <td>0.641738</td>\n",
              "      <td>0.539255</td>\n",
              "      <td>0.772927</td>\n",
              "      <td>0.485554</td>\n",
              "      <td>0.232063</td>\n",
              "      <td>0.703824</td>\n",
              "      <td>0.229584</td>\n",
              "      <td>0.579143</td>\n",
              "      <td>0.243893</td>\n",
              "      <td>0.737283</td>\n",
              "      <td>0.219166</td>\n",
              "      <td>0.546527</td>\n",
              "      <td>0.000000</td>\n",
              "      <td>0.000000</td>\n",
              "      <td>0.000000</td>\n",
              "      <td>0.00000</td>\n",
              "      <td>0.0</td>\n",
              "      <td>0.0</td>\n",
              "      <td>0.0</td>\n",
              "      <td>0.0</td>\n",
              "      <td>0.0</td>\n",
              "      <td>0.0</td>\n",
              "      <td>0.0</td>\n",
              "      <td>0.0</td>\n",
              "      <td>0.0</td>\n",
              "      <td>0.0</td>\n",
              "    </tr>\n",
              "    <tr>\n",
              "      <th>0</th>\n",
              "      <td>0.299272</td>\n",
              "      <td>0.635364</td>\n",
              "      <td>0.386552</td>\n",
              "      <td>0.650005</td>\n",
              "      <td>0.394586</td>\n",
              "      <td>0.767554</td>\n",
              "      <td>0.466589</td>\n",
              "      <td>0.731622</td>\n",
              "      <td>0.564500</td>\n",
              "      <td>0.841127</td>\n",
              "      <td>0.334170</td>\n",
              "      <td>0.428087</td>\n",
              "      <td>0.517168</td>\n",
              "      <td>0.368885</td>\n",
              "      <td>0.546025</td>\n",
              "      <td>0.327520</td>\n",
              "      <td>0.671210</td>\n",
              "      <td>0.656425</td>\n",
              "      <td>0.598736</td>\n",
              "      <td>0.701550</td>\n",
              "      <td>0.633161</td>\n",
              "      <td>0.752738</td>\n",
              "      <td>0.718187</td>\n",
              "      <td>0.742697</td>\n",
              "      <td>0.534583</td>\n",
              "      <td>0.552844</td>\n",
              "      <td>0.684638</td>\n",
              "      <td>0.518351</td>\n",
              "      <td>0.757190</td>\n",
              "      <td>0.528865</td>\n",
              "      <td>0.220158</td>\n",
              "      <td>0.665910</td>\n",
              "      <td>0.231386</td>\n",
              "      <td>0.641706</td>\n",
              "      <td>0.214640</td>\n",
              "      <td>0.546611</td>\n",
              "      <td>0.000000</td>\n",
              "      <td>0.000000</td>\n",
              "      <td>0.000000</td>\n",
              "      <td>0.00000</td>\n",
              "      <td>0.0</td>\n",
              "      <td>0.0</td>\n",
              "      <td>0.0</td>\n",
              "      <td>0.0</td>\n",
              "      <td>0.0</td>\n",
              "      <td>0.0</td>\n",
              "      <td>0.0</td>\n",
              "      <td>0.0</td>\n",
              "      <td>0.0</td>\n",
              "      <td>0.0</td>\n",
              "    </tr>\n",
              "    <tr>\n",
              "      <th>0</th>\n",
              "      <td>0.299236</td>\n",
              "      <td>0.669122</td>\n",
              "      <td>0.386533</td>\n",
              "      <td>0.643326</td>\n",
              "      <td>0.392537</td>\n",
              "      <td>0.770593</td>\n",
              "      <td>0.475003</td>\n",
              "      <td>0.734310</td>\n",
              "      <td>0.570640</td>\n",
              "      <td>0.841205</td>\n",
              "      <td>0.334158</td>\n",
              "      <td>0.433896</td>\n",
              "      <td>0.513364</td>\n",
              "      <td>0.350723</td>\n",
              "      <td>0.552324</td>\n",
              "      <td>0.333588</td>\n",
              "      <td>0.594761</td>\n",
              "      <td>0.673770</td>\n",
              "      <td>0.500988</td>\n",
              "      <td>0.711617</td>\n",
              "      <td>0.746500</td>\n",
              "      <td>0.554269</td>\n",
              "      <td>0.501721</td>\n",
              "      <td>0.565462</td>\n",
              "      <td>0.736664</td>\n",
              "      <td>0.529228</td>\n",
              "      <td>0.936957</td>\n",
              "      <td>0.511780</td>\n",
              "      <td>0.230499</td>\n",
              "      <td>0.710483</td>\n",
              "      <td>0.229578</td>\n",
              "      <td>0.582325</td>\n",
              "      <td>0.220293</td>\n",
              "      <td>0.583915</td>\n",
              "      <td>0.975454</td>\n",
              "      <td>0.454013</td>\n",
              "      <td>0.987668</td>\n",
              "      <td>0.478404</td>\n",
              "      <td>0.948684</td>\n",
              "      <td>0.53829</td>\n",
              "      <td>0.0</td>\n",
              "      <td>0.0</td>\n",
              "      <td>0.0</td>\n",
              "      <td>0.0</td>\n",
              "      <td>0.0</td>\n",
              "      <td>0.0</td>\n",
              "      <td>0.0</td>\n",
              "      <td>0.0</td>\n",
              "      <td>0.0</td>\n",
              "      <td>0.0</td>\n",
              "    </tr>\n",
              "  </tbody>\n",
              "</table>\n",
              "</div>"
            ],
            "text/plain": [
              "         0         1         2         3         4   ...   45   46   47   48   49\n",
              "0  0.295466  0.658937  0.388708  0.636593  0.392565  ...  0.0  0.0  0.0  0.0  0.0\n",
              "0  0.293581  0.632046  0.388605  0.650021  0.392547  ...  0.0  0.0  0.0  0.0  0.0\n",
              "0  0.297440  0.659007  0.384512  0.646714  0.388548  ...  0.0  0.0  0.0  0.0  0.0\n",
              "0  0.299272  0.635364  0.386552  0.650005  0.394586  ...  0.0  0.0  0.0  0.0  0.0\n",
              "0  0.299236  0.669122  0.386533  0.643326  0.392537  ...  0.0  0.0  0.0  0.0  0.0\n",
              "\n",
              "[5 rows x 50 columns]"
            ]
          },
          "metadata": {
            "tags": []
          },
          "execution_count": 31
        }
      ]
    },
    {
      "cell_type": "code",
      "metadata": {
        "id": "nmIblH1rtd8T",
        "colab_type": "code",
        "colab": {}
      },
      "source": [
        "x,y=train.shape\n",
        "train=train.iloc[:90*int(x/90),:]\n",
        "train=train.values\n",
        "train=train.reshape(int(x/90),90,50)"
      ],
      "execution_count": 0,
      "outputs": []
    },
    {
      "cell_type": "markdown",
      "metadata": {
        "id": "YMD0xWfcPBbj",
        "colab_type": "text"
      },
      "source": [
        "Please change the path of the model."
      ]
    },
    {
      "cell_type": "code",
      "metadata": {
        "id": "Vm3nA0XO0S7N",
        "colab_type": "code",
        "colab": {}
      },
      "source": [
        "model=keras.models.load_model('/content/wall final')"
      ],
      "execution_count": 0,
      "outputs": []
    },
    {
      "cell_type": "code",
      "metadata": {
        "id": "OA3_LhyK0p6d",
        "colab_type": "code",
        "colab": {}
      },
      "source": [
        "y=model.predict(train)"
      ],
      "execution_count": 0,
      "outputs": []
    },
    {
      "cell_type": "code",
      "metadata": {
        "id": "p3Yf5Sr2iU2v",
        "colab_type": "code",
        "colab": {
          "base_uri": "https://localhost:8080/",
          "height": 372
        },
        "outputId": "ca0122ee-f326-4c49-fda3-e860bcf3731f"
      },
      "source": [
        "y"
      ],
      "execution_count": 35,
      "outputs": [
        {
          "output_type": "execute_result",
          "data": {
            "text/plain": [
              "array([[0.9772039 ],\n",
              "       [0.97743237],\n",
              "       [0.9771414 ],\n",
              "       [0.9778742 ],\n",
              "       [0.9803022 ],\n",
              "       [0.977713  ],\n",
              "       [0.7580277 ],\n",
              "       [0.02766564],\n",
              "       [0.02686518],\n",
              "       [0.09320363],\n",
              "       [0.83395314],\n",
              "       [0.9809644 ],\n",
              "       [0.01985046],\n",
              "       [0.90919995],\n",
              "       [0.78618264],\n",
              "       [0.07794702],\n",
              "       [0.9823408 ],\n",
              "       [0.96225446],\n",
              "       [0.9815715 ],\n",
              "       [0.98122805]], dtype=float32)"
            ]
          },
          "metadata": {
            "tags": []
          },
          "execution_count": 35
        }
      ]
    },
    {
      "cell_type": "code",
      "metadata": {
        "id": "F4hA022J0ra4",
        "colab_type": "code",
        "colab": {
          "base_uri": "https://localhost:8080/",
          "height": 372
        },
        "outputId": "09af02fb-0099-463f-d258-ea96027d9a62"
      },
      "source": [
        "p=[]\n",
        "for i in y:\n",
        "    if i<0.5:\n",
        "        p.append(0)\n",
        "        print(0)\n",
        "    else:\n",
        "        p.append(1)\n",
        "        print(1)"
      ],
      "execution_count": 36,
      "outputs": [
        {
          "output_type": "stream",
          "text": [
            "1\n",
            "1\n",
            "1\n",
            "1\n",
            "1\n",
            "1\n",
            "1\n",
            "0\n",
            "0\n",
            "0\n",
            "1\n",
            "1\n",
            "0\n",
            "1\n",
            "1\n",
            "0\n",
            "1\n",
            "1\n",
            "1\n",
            "1\n"
          ],
          "name": "stdout"
        }
      ]
    },
    {
      "cell_type": "code",
      "metadata": {
        "id": "3VVvECgk1dbT",
        "colab_type": "code",
        "colab": {}
      },
      "source": [
        "l=[]\n",
        "for i in p:\n",
        "    for j in range(0,3):\n",
        "        l.append(i)\n",
        "        \n"
      ],
      "execution_count": 0,
      "outputs": []
    },
    {
      "cell_type": "markdown",
      "metadata": {
        "id": "M_QdkBPyPNP5",
        "colab_type": "text"
      },
      "source": [
        "Graph for 60 seconds."
      ]
    },
    {
      "cell_type": "code",
      "metadata": {
        "id": "MhpXoI36EcY3",
        "colab_type": "code",
        "colab": {
          "base_uri": "https://localhost:8080/",
          "height": 297
        },
        "outputId": "0e724e8c-f53a-4c69-f3ac-56d97c6fd569"
      },
      "source": [
        "import matplotlib.pyplot as plt \n",
        "plt.plot(l)\n",
        "plt.xlabel('time')\n",
        "plt.ylabel('action')\n",
        "#plt.xticks(np.arange(0,60,1))"
      ],
      "execution_count": 38,
      "outputs": [
        {
          "output_type": "execute_result",
          "data": {
            "text/plain": [
              "Text(0, 0.5, 'action')"
            ]
          },
          "metadata": {
            "tags": []
          },
          "execution_count": 38
        },
        {
          "output_type": "display_data",
          "data": {
            "image/png": "[encoded data removed]",
            "text/plain": [
              "<Figure size 432x288 with 1 Axes>"
            ]
          },
          "metadata": {
            "tags": []
          }
        }
      ]
    },
    {
      "cell_type": "markdown",
      "metadata": {
        "id": "bGKsmadYPRz8",
        "colab_type": "text"
      },
      "source": [
        "Json files with timestamps and predicted outputs."
      ]
    },
    {
      "cell_type": "code",
      "metadata": {
        "id": "r_XKHgsystx6",
        "colab_type": "code",
        "colab": {}
      },
      "source": [
        "s=[]\n",
        "for i in range(len(y)):\n",
        "    s.append([i*3,float(y[i])])"
      ],
      "execution_count": 0,
      "outputs": []
    },
    {
      "cell_type": "code",
      "metadata": {
        "id": "NTm-Dg75MSb5",
        "colab_type": "code",
        "colab": {}
      },
      "source": [
        "import json\n",
        "q=json.dumps(s)\n"
      ],
      "execution_count": 0,
      "outputs": []
    },
    {
      "cell_type": "code",
      "metadata": {
        "id": "4ZPfwds7MoVw",
        "colab_type": "code",
        "colab": {
          "base_uri": "https://localhost:8080/",
          "height": 55
        },
        "outputId": "4eb1df11-9998-4ede-950c-ac486b2f4ea5"
      },
      "source": [
        "q"
      ],
      "execution_count": 46,
      "outputs": [
        {
          "output_type": "execute_result",
          "data": {
            "text/plain": [
              "'[[0, 0.977203905582428], [3, 0.977432370185852], [6, 0.9771413803100586], [9, 0.977874219417572], [12, 0.9803022146224976], [15, 0.9777129888534546], [18, 0.7580276727676392], [21, 0.027665644884109497], [24, 0.02686518430709839], [27, 0.09320363402366638], [30, 0.8339531421661377], [33, 0.9809644222259521], [36, 0.019850462675094604], [39, 0.9091999530792236], [42, 0.7861826419830322], [45, 0.07794702053070068], [48, 0.9823408126831055], [51, 0.9622544646263123], [54, 0.9815714955329895], [57, 0.9812280535697937]]'"
            ]
          },
          "metadata": {
            "tags": []
          },
          "execution_count": 46
        }
      ]
    },
    {
      "cell_type": "code",
      "metadata": {
        "id": "JJRvhoELNH5Z",
        "colab_type": "code",
        "colab": {}
      },
      "source": [
        ""
      ],
      "execution_count": 0,
      "outputs": []
    }
  ]
}